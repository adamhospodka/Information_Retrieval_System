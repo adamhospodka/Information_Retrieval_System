{
  "nbformat": 4,
  "nbformat_minor": 0,
  "metadata": {
    "colab": {
      "name": "PV211_Playground_18.ipynb",
      "provenance": [],
      "collapsed_sections": [],
      "toc_visible": true
    },
    "kernelspec": {
      "name": "python3",
      "display_name": "Python 3"
    },
    "language_info": {
      "name": "python"
    },
    "widgets": {
      "application/vnd.jupyter.widget-state+json": {
        "463df8ceddfd4eaabe4ad89fb10b0f84": {
          "model_module": "@jupyter-widgets/controls",
          "model_name": "HBoxModel",
          "state": {
            "_view_name": "HBoxView",
            "_dom_classes": [],
            "_model_name": "HBoxModel",
            "_view_module": "@jupyter-widgets/controls",
            "_model_module_version": "1.5.0",
            "_view_count": null,
            "_view_module_version": "1.5.0",
            "box_style": "",
            "layout": "IPY_MODEL_c4d6e5358792458f8ac7b60a7169d5a6",
            "_model_module": "@jupyter-widgets/controls",
            "children": [
              "IPY_MODEL_d4a0f48463f04344814d814539a1653c",
              "IPY_MODEL_d0e188b485ca4bf98bb5242421c9309d"
            ]
          }
        },
        "c4d6e5358792458f8ac7b60a7169d5a6": {
          "model_module": "@jupyter-widgets/base",
          "model_name": "LayoutModel",
          "state": {
            "_view_name": "LayoutView",
            "grid_template_rows": null,
            "right": null,
            "justify_content": null,
            "_view_module": "@jupyter-widgets/base",
            "overflow": null,
            "_model_module_version": "1.2.0",
            "_view_count": null,
            "flex_flow": null,
            "width": null,
            "min_width": null,
            "border": null,
            "align_items": null,
            "bottom": null,
            "_model_module": "@jupyter-widgets/base",
            "top": null,
            "grid_column": null,
            "overflow_y": null,
            "overflow_x": null,
            "grid_auto_flow": null,
            "grid_area": null,
            "grid_template_columns": null,
            "flex": null,
            "_model_name": "LayoutModel",
            "justify_items": null,
            "grid_row": null,
            "max_height": null,
            "align_content": null,
            "visibility": null,
            "align_self": null,
            "height": null,
            "min_height": null,
            "padding": null,
            "grid_auto_rows": null,
            "grid_gap": null,
            "max_width": null,
            "order": null,
            "_view_module_version": "1.2.0",
            "grid_template_areas": null,
            "object_position": null,
            "object_fit": null,
            "grid_auto_columns": null,
            "margin": null,
            "display": null,
            "left": null
          }
        },
        "d4a0f48463f04344814d814539a1653c": {
          "model_module": "@jupyter-widgets/controls",
          "model_name": "FloatProgressModel",
          "state": {
            "_view_name": "ProgressView",
            "style": "IPY_MODEL_f8347adb56234f729b7a255c2d269b19",
            "_dom_classes": [],
            "description": "Querying your system: 100%",
            "_model_name": "FloatProgressModel",
            "bar_style": "",
            "max": 225,
            "_view_module": "@jupyter-widgets/controls",
            "_model_module_version": "1.5.0",
            "value": 225,
            "_view_count": null,
            "_view_module_version": "1.5.0",
            "orientation": "horizontal",
            "min": 0,
            "description_tooltip": null,
            "_model_module": "@jupyter-widgets/controls",
            "layout": "IPY_MODEL_8bf88dda90634c9fb934bf0d9faa73aa"
          }
        },
        "d0e188b485ca4bf98bb5242421c9309d": {
          "model_module": "@jupyter-widgets/controls",
          "model_name": "HTMLModel",
          "state": {
            "_view_name": "HTMLView",
            "style": "IPY_MODEL_f3d6337bcf9d47b38042f12f8b51bd6e",
            "_dom_classes": [],
            "description": "",
            "_model_name": "HTMLModel",
            "placeholder": "​",
            "_view_module": "@jupyter-widgets/controls",
            "_model_module_version": "1.5.0",
            "value": " 225/225 [00:16&lt;00:00, 12.41it/s]",
            "_view_count": null,
            "_view_module_version": "1.5.0",
            "description_tooltip": null,
            "_model_module": "@jupyter-widgets/controls",
            "layout": "IPY_MODEL_0b745a6250124797b860b62ffb6bf4e2"
          }
        },
        "f8347adb56234f729b7a255c2d269b19": {
          "model_module": "@jupyter-widgets/controls",
          "model_name": "ProgressStyleModel",
          "state": {
            "_view_name": "StyleView",
            "_model_name": "ProgressStyleModel",
            "description_width": "initial",
            "_view_module": "@jupyter-widgets/base",
            "_model_module_version": "1.5.0",
            "_view_count": null,
            "_view_module_version": "1.2.0",
            "bar_color": null,
            "_model_module": "@jupyter-widgets/controls"
          }
        },
        "8bf88dda90634c9fb934bf0d9faa73aa": {
          "model_module": "@jupyter-widgets/base",
          "model_name": "LayoutModel",
          "state": {
            "_view_name": "LayoutView",
            "grid_template_rows": null,
            "right": null,
            "justify_content": null,
            "_view_module": "@jupyter-widgets/base",
            "overflow": null,
            "_model_module_version": "1.2.0",
            "_view_count": null,
            "flex_flow": null,
            "width": null,
            "min_width": null,
            "border": null,
            "align_items": null,
            "bottom": null,
            "_model_module": "@jupyter-widgets/base",
            "top": null,
            "grid_column": null,
            "overflow_y": null,
            "overflow_x": null,
            "grid_auto_flow": null,
            "grid_area": null,
            "grid_template_columns": null,
            "flex": null,
            "_model_name": "LayoutModel",
            "justify_items": null,
            "grid_row": null,
            "max_height": null,
            "align_content": null,
            "visibility": null,
            "align_self": null,
            "height": null,
            "min_height": null,
            "padding": null,
            "grid_auto_rows": null,
            "grid_gap": null,
            "max_width": null,
            "order": null,
            "_view_module_version": "1.2.0",
            "grid_template_areas": null,
            "object_position": null,
            "object_fit": null,
            "grid_auto_columns": null,
            "margin": null,
            "display": null,
            "left": null
          }
        },
        "f3d6337bcf9d47b38042f12f8b51bd6e": {
          "model_module": "@jupyter-widgets/controls",
          "model_name": "DescriptionStyleModel",
          "state": {
            "_view_name": "StyleView",
            "_model_name": "DescriptionStyleModel",
            "description_width": "",
            "_view_module": "@jupyter-widgets/base",
            "_model_module_version": "1.5.0",
            "_view_count": null,
            "_view_module_version": "1.2.0",
            "_model_module": "@jupyter-widgets/controls"
          }
        },
        "0b745a6250124797b860b62ffb6bf4e2": {
          "model_module": "@jupyter-widgets/base",
          "model_name": "LayoutModel",
          "state": {
            "_view_name": "LayoutView",
            "grid_template_rows": null,
            "right": null,
            "justify_content": null,
            "_view_module": "@jupyter-widgets/base",
            "overflow": null,
            "_model_module_version": "1.2.0",
            "_view_count": null,
            "flex_flow": null,
            "width": null,
            "min_width": null,
            "border": null,
            "align_items": null,
            "bottom": null,
            "_model_module": "@jupyter-widgets/base",
            "top": null,
            "grid_column": null,
            "overflow_y": null,
            "overflow_x": null,
            "grid_auto_flow": null,
            "grid_area": null,
            "grid_template_columns": null,
            "flex": null,
            "_model_name": "LayoutModel",
            "justify_items": null,
            "grid_row": null,
            "max_height": null,
            "align_content": null,
            "visibility": null,
            "align_self": null,
            "height": null,
            "min_height": null,
            "padding": null,
            "grid_auto_rows": null,
            "grid_gap": null,
            "max_width": null,
            "order": null,
            "_view_module_version": "1.2.0",
            "grid_template_areas": null,
            "object_position": null,
            "object_fit": null,
            "grid_auto_columns": null,
            "margin": null,
            "display": null,
            "left": null
          }
        }
      }
    }
  },
  "cells": [
    {
      "cell_type": "markdown",
      "metadata": {
        "id": "AmGKfAwV28wA"
      },
      "source": [
        "# Assignment no.1 - Implementation of information retrieval \n",
        "\n",
        "---\n",
        "\n"
      ]
    },
    {
      "cell_type": "markdown",
      "metadata": {
        "id": "AbHbOmhJ48MG"
      },
      "source": [
        "## ℹ️ Project info\n",
        "*   **Course**: PV211 Introduction to information retrieval\n",
        "*   Semester: Summer semester 2021\n",
        "*   **Author**: Adam Hospodka ([506521@muni.cz](mailto:506521@muni.cz))\n",
        "*   **UČO**: 506521"
      ]
    },
    {
      "cell_type": "markdown",
      "metadata": {
        "id": "43UYar2l5SXy"
      },
      "source": [
        "## 🧭 Application overview\n",
        "\n",
        "### Idea:\n",
        "Ranking the documents for given queries using the standard *TF-IDF* approach with small tweaks.\n",
        "\n",
        "###Steps:\n",
        "1. List every word from every document using ```buildPairs()``` function\n",
        "2. Remove duplicates using the ```uniq()``` function\n",
        "3. Based on these pairs create inverted index using the ```buildInvertedIndex()``` function\n",
        "4. Use knowledge of inverted index to build frequency index (inv. index with word frequencies) using the ```buildFrequencyIndex()``` function\n",
        "5. Build index that contains length of each document using the ```buildDocumentsLengthIndex()``` function\n",
        "6. Prepare *Pandas* DataFrame with document instances ready to be ranked using the ```buildRankingDf()``` function\n",
        "7. Initialize the search with ```IRSystem().search()```\n",
        "8. Clean the given query with the ```cleanQuery()``` function\n",
        "9. Rank the relevant documents with the ```rank()``` function\n",
        "\n"
      ]
    },
    {
      "cell_type": "markdown",
      "metadata": {
        "id": "Cicor2V-m2lm"
      },
      "source": [
        "## 📚 Imports"
      ]
    },
    {
      "cell_type": "code",
      "metadata": {
        "colab": {
          "base_uri": "https://localhost:8080/"
        },
        "id": "yMJ5g_a4rwxZ",
        "outputId": "9aca63be-56ee-419c-fff3-9155af7ff3a4"
      },
      "source": [
        "pip install git+https://gitlab.fi.muni.cz/xstefan3/pv211-utils.git@master | grep \"Succ\""
      ],
      "execution_count": null,
      "outputs": [
        {
          "output_type": "stream",
          "text": [
            "  Running command git clone -q https://gitlab.fi.muni.cz/xstefan3/pv211-utils.git /tmp/pip-req-build-jz0cv0_u\n",
            "Successfully built gdown\n",
            "Successfully built pv211-utils\n",
            "      Successfully uninstalled gdown-3.6.4\n",
            "Successfully installed gdown-3.12.2 pv211-utils-1.0.0\n"
          ],
          "name": "stdout"
        }
      ]
    },
    {
      "cell_type": "code",
      "metadata": {
        "id": "3LAVXI4ffHQJ"
      },
      "source": [
        "import nltk\n",
        "import time\n",
        "import math\n",
        "import random\n",
        "import numpy as np\n",
        "import pandas as pd\n",
        "from typing import Iterable\n",
        "from tqdm.notebook import tqdm\n",
        "from nltk.corpus import stopwords\n",
        "\n",
        "from pv211_utils.cranfield.loader import load_queries\n",
        "from pv211_utils.cranfield.loader import load_documents\n",
        "from pv211_utils.cranfield.loader import load_judgements\n",
        "from pv211_utils.cranfield.eval import CranfieldEvaluation\n",
        "from pv211_utils.cranfield.entities import CranfieldQueryBase\n",
        "from pv211_utils.cranfield.irsystem import CranfieldIRSystemBase\n",
        "from pv211_utils.cranfield.entities import CranfieldDocumentBase\n",
        "from pv211_utils.cranfield.leaderboard import CranfieldLeaderboard\n",
        "\n",
        "nltk.download('punkt')\n",
        "nltk.download('stopwords')\n",
        "\n",
        "stemmer = nltk.PorterStemmer()\n",
        "stopwords = stopwords.words('english')"
      ],
      "execution_count": null,
      "outputs": []
    },
    {
      "cell_type": "markdown",
      "metadata": {
        "id": "Ghor8QSFgIw0"
      },
      "source": [
        "## 🏗 Instance load\n"
      ]
    },
    {
      "cell_type": "markdown",
      "metadata": {
        "id": "-iz6-DfLItFd"
      },
      "source": [
        "### Documents"
      ]
    },
    {
      "cell_type": "code",
      "metadata": {
        "id": "0oLD3jZ9fi9D"
      },
      "source": [
        "class Document(CranfieldDocumentBase):\n",
        "\n",
        "    def __init__(self, document_id: str, authors: str, bibliography: str, title: str, body: str):\n",
        "      stem_body = body\n",
        "      stem_body = nltk.word_tokenize(stem_body)\n",
        "      stem_body = [stemmer.stem(token) for token in stem_body]\n",
        "\n",
        "      self.stem_body = stem_body\n",
        "\n",
        "      stem_title = title\n",
        "      stem_title = nltk.word_tokenize(stem_title)\n",
        "      stem_title = [stemmer.stem(token) for token in stem_title]\n",
        "      stem_title = [token for token in stem_title if token not in stopwords]\n",
        "\n",
        "      self.stem_title = stem_title\n",
        "\n",
        "      super().__init__(document_id, authors, bibliography, title, body)\n",
        "    "
      ],
      "execution_count": null,
      "outputs": []
    },
    {
      "cell_type": "code",
      "metadata": {
        "id": "A8195MKTgTE8"
      },
      "source": [
        "documents = load_documents(Document)"
      ],
      "execution_count": null,
      "outputs": []
    },
    {
      "cell_type": "markdown",
      "metadata": {
        "id": "3NyssuO-Ivw1"
      },
      "source": [
        "### Queries"
      ]
    },
    {
      "cell_type": "code",
      "metadata": {
        "id": "KHXNf2i8gZ0o"
      },
      "source": [
        "class Query(CranfieldQueryBase):\n",
        "\n",
        "    def __init__(self, query_id: int, body: str):\n",
        "        # preprocessing!\n",
        "        super().__init__(query_id, body)"
      ],
      "execution_count": null,
      "outputs": []
    },
    {
      "cell_type": "code",
      "metadata": {
        "id": "m-aYtXa0gafs"
      },
      "source": [
        "queries = load_queries(Query)"
      ],
      "execution_count": null,
      "outputs": []
    },
    {
      "cell_type": "markdown",
      "metadata": {
        "id": "5hx1CgXTmPwY"
      },
      "source": [
        "## 📜 Index construction"
      ]
    },
    {
      "cell_type": "markdown",
      "metadata": {
        "id": "g6-Ieubw6O5e"
      },
      "source": [
        "### Listing pairs (term, document)"
      ]
    },
    {
      "cell_type": "code",
      "metadata": {
        "id": "mfwh9F2_SyGM"
      },
      "source": [
        "def isStringNumber(token):\n",
        "        try: \n",
        "            x = int(token) > 0\n",
        "            return(False)\n",
        "        except:\n",
        "            return(True)"
      ],
      "execution_count": null,
      "outputs": []
    },
    {
      "cell_type": "code",
      "metadata": {
        "id": "Horrghr7gepm"
      },
      "source": [
        "def buildPairs():\n",
        "    \n",
        "    pairs = []\n",
        "            \n",
        "    for key, value in documents.items(): \n",
        "        body = str(value.body)\n",
        "        tokens = nltk.word_tokenize(body)\n",
        "\n",
        "        for token in tokens:\n",
        "\n",
        "          cond1 = len(token) > 1\n",
        "          cond2 = token not in stopwords\n",
        "          cond3 = isStringNumber(token) == True\n",
        "\n",
        "          if cond1 and cond2 and cond3:   \n",
        "            token = stemmer.stem(token)\n",
        "            doc_id = key\n",
        "            pairs.append((token, doc_id))\n",
        "    \n",
        "    return(pairs)"
      ],
      "execution_count": null,
      "outputs": []
    },
    {
      "cell_type": "markdown",
      "metadata": {
        "id": "uH-us6fsMXhQ"
      },
      "source": [
        "### Unique pairs sorter"
      ]
    },
    {
      "cell_type": "code",
      "metadata": {
        "id": "M5r6IrQUTRv9"
      },
      "source": [
        "def uniq(sorted_list):\n",
        "    if len(sorted_list) <= 1:\n",
        "        return sorted_list\n",
        "\n",
        "    uniq_list = sorted_list[:1]\n",
        "    previous_value = sorted_list[0]\n",
        "\n",
        "    for value in sorted_list[1:]:\n",
        "        if value != previous_value:\n",
        "            uniq_list.append(value)\n",
        "            previous_value = value\n",
        "                \n",
        "    return uniq_list"
      ],
      "execution_count": null,
      "outputs": []
    },
    {
      "cell_type": "markdown",
      "metadata": {
        "id": "BIoETyE2MTdU"
      },
      "source": [
        "### Inverted index construction"
      ]
    },
    {
      "cell_type": "code",
      "metadata": {
        "id": "4Znw-klpgub_"
      },
      "source": [
        "def buildInvertedIndex(uniq_pairs):\n",
        "    inverted_index = {}\n",
        "\n",
        "    for term, document_id in pairs:\n",
        "        if term not in inverted_index:\n",
        "            inverted_index[term] = []\n",
        "\n",
        "        inverted_index[term].append(document_id)\n",
        "    \n",
        "    return inverted_index"
      ],
      "execution_count": null,
      "outputs": []
    },
    {
      "cell_type": "markdown",
      "metadata": {
        "id": "HpeYPhFgMJcJ"
      },
      "source": [
        "### Frequency index construction"
      ]
    },
    {
      "cell_type": "code",
      "metadata": {
        "id": "traubdKIhJoa"
      },
      "source": [
        "def buildFrequencyIndex():\n",
        "    frequency_index = {}\n",
        "\n",
        "    for term, relevant_documents in inverted_index.items():\n",
        "      local_list = {}\n",
        "\n",
        "      for doc_id in relevant_documents:\n",
        "        stem_body = documents[doc_id].stem_body\n",
        "        frequency = stem_body.count(term)\n",
        "        local_list[doc_id] = frequency\n",
        "\n",
        "      frequency_index[term] = local_list\n",
        "\n",
        "    return frequency_index"
      ],
      "execution_count": null,
      "outputs": []
    },
    {
      "cell_type": "markdown",
      "metadata": {
        "id": "4qkRnGkRmdFq"
      },
      "source": [
        "### Documents length index construction"
      ]
    },
    {
      "cell_type": "code",
      "metadata": {
        "id": "CBTa2wuKjLK5"
      },
      "source": [
        "def buildDocumentsLengthIndex():\n",
        "    documentsLengthIndex = {}\n",
        "\n",
        "    for key, value in documents.items():\n",
        "        count_of_words = len(nltk.word_tokenize(value.body))\n",
        "        documentsLengthIndex[key] = count_of_words\n",
        "    \n",
        "    return documentsLengthIndex"
      ],
      "execution_count": null,
      "outputs": []
    },
    {
      "cell_type": "markdown",
      "metadata": {
        "id": "TaRNnCtBn1ol"
      },
      "source": [
        "## 🧮 Dataframe for ranking results"
      ]
    },
    {
      "cell_type": "code",
      "metadata": {
        "id": "WhIE8xlIn1vI"
      },
      "source": [
        "def buildRankingDf():\n",
        "    id_as_list = [key for key, value in documents.items()]\n",
        "    text_as_list = [value for key, value in documents.items()]\n",
        "\n",
        "    df = pd.DataFrame({\"Numbers\":  id_as_list, \"Values\": text_as_list, \"Rank\": 0, \"Matches\": \"\" }) \n",
        "    df = df.set_index(\"Numbers\")\n",
        "\n",
        "    return df"
      ],
      "execution_count": null,
      "outputs": []
    },
    {
      "cell_type": "markdown",
      "metadata": {
        "id": "5eC8gGBiniEh"
      },
      "source": [
        "## 🧹 Query cleaning"
      ]
    },
    {
      "cell_type": "code",
      "metadata": {
        "id": "RLAvDHg6njtZ"
      },
      "source": [
        "def cleanQuery(query):\n",
        "            \n",
        "  query = query.body\n",
        "  query = nltk.word_tokenize(query)\n",
        "  query = [stemmer.stem(token) for token in query]\n",
        "  query = [token for token in query if len(token) > 1 if token not in stopwords]\n",
        "\n",
        "  return query"
      ],
      "execution_count": null,
      "outputs": []
    },
    {
      "cell_type": "markdown",
      "metadata": {
        "id": "mt7lvy9JNDDZ"
      },
      "source": [
        "## 💯 Ranking mechanism"
      ]
    },
    {
      "cell_type": "code",
      "metadata": {
        "id": "_x45IlUunrlf"
      },
      "source": [
        "def rank(query):\n",
        "    global ranking_df\n",
        "    ranking_df[\"Rank\"] = 0.0\n",
        "    ranking_df[\"Matches\"] = \"\"\n",
        "\n",
        "\n",
        "    for term in query:\n",
        "        if term in frequency_index:\n",
        "            \n",
        "            for doc_id in frequency_index[term]:\n",
        "                \n",
        "                # Matched words\n",
        "                ranking_df.at[doc_id, \"Matches\"] = ranking_df.at[doc_id, \"Matches\"] + \" \" + term + \"-\" + str(frequency_index[term][str(doc_id)])\n",
        "\n",
        "                # Scoring\n",
        "                tf = frequency_index[term][str(doc_id)] / documentsLengthIndex[str(doc_id)]\n",
        "                idf = math.log(len(documents) / len(frequency_index[term]),2)\n",
        "                score = tf * idf\n",
        "                ranking_df.at[doc_id, \"Rank\"] += 1 + score\n",
        "\n",
        "                if term in documents[doc_id].title:\n",
        "                  ranking_df.at[doc_id, \"Rank\"] += 1\n",
        "\n",
        "\n",
        "\n",
        "    ranking_df = ranking_df.sort_values(\"Rank\", ascending = False)\n",
        "    sorted_documents = ranking_df[\"Values\"].tolist()\n",
        "\n",
        "    return sorted_documents"
      ],
      "execution_count": null,
      "outputs": []
    },
    {
      "cell_type": "markdown",
      "metadata": {
        "id": "jjS0oNICxmFV"
      },
      "source": [
        "## 🦸‍♂️ Functions, assemble!\n",
        "\n"
      ]
    },
    {
      "cell_type": "code",
      "metadata": {
        "id": "g3nPCaY6wqDF"
      },
      "source": [
        "pairs = buildPairs()\n",
        "uniq_pairs = uniq(sorted(pairs, key=lambda x: (x[0].lower(), x[1])))\n",
        "inverted_index = buildInvertedIndex(uniq_pairs)\n",
        "frequency_index = buildFrequencyIndex()\n",
        "documentsLengthIndex = buildDocumentsLengthIndex()\n",
        "ranking_df = buildRankingDf()"
      ],
      "execution_count": null,
      "outputs": []
    },
    {
      "cell_type": "markdown",
      "metadata": {
        "id": "RNgTAZRdyTuU"
      },
      "source": [
        "## 🚧 IR System testing\n",
        "\n"
      ]
    },
    {
      "cell_type": "code",
      "metadata": {
        "id": "UYO-dovYyVKa"
      },
      "source": [
        "class IRSystem(CranfieldIRSystemBase):\n",
        "\n",
        "    def __init__(self, print_matrix):\n",
        "        self.documents = documents\n",
        "        self.print_matrix = print_matrix\n",
        "\n",
        "    def search(self, query: Query):\n",
        "\n",
        "        # Query preprocess\n",
        "        query = cleanQuery(query)\n",
        "\n",
        "        # Ranking\n",
        "        sorted_documents = rank(query)\n",
        "        \n",
        "        if self.print_matrix == True:\n",
        "          print(\"Query: \",query)\n",
        "          print(ranking_df.head(20))\n",
        "        \n",
        "        return(sorted_documents)"
      ],
      "execution_count": null,
      "outputs": []
    },
    {
      "cell_type": "code",
      "metadata": {
        "colab": {
          "base_uri": "https://localhost:8080/",
          "height": 132,
          "referenced_widgets": [
            "463df8ceddfd4eaabe4ad89fb10b0f84",
            "c4d6e5358792458f8ac7b60a7169d5a6",
            "d4a0f48463f04344814d814539a1653c",
            "d0e188b485ca4bf98bb5242421c9309d",
            "f8347adb56234f729b7a255c2d269b19",
            "8bf88dda90634c9fb934bf0d9faa73aa",
            "f3d6337bcf9d47b38042f12f8b51bd6e",
            "0b745a6250124797b860b62ffb6bf4e2"
          ]
        },
        "id": "-MwyqF0I-a0O",
        "outputId": "082b4369-7cfe-456a-c6b7-66e4d0533773"
      },
      "source": [
        "submit_result = False\n",
        "author_name = \"Hospodka, Adam\"\n",
        "\n",
        "system = IRSystem(print_matrix = False)\n",
        "\n",
        "print('Initializing your system ...', end='', flush=True)\n",
        "evaluation = CranfieldEvaluation(system, load_judgements(queries, documents), CranfieldLeaderboard(), author_name)\n",
        "print(end='\\r', flush=True)\n",
        "evaluation.evaluate(tqdm(queries.values(), desc=\"Querying your system\", leave=False), submit_result)"
      ],
      "execution_count": null,
      "outputs": [
        {
          "output_type": "stream",
          "text": [
            ""
          ],
          "name": "stdout"
        },
        {
          "output_type": "display_data",
          "data": {
            "application/vnd.jupyter.widget-view+json": {
              "model_id": "463df8ceddfd4eaabe4ad89fb10b0f84",
              "version_minor": 0,
              "version_major": 2
            },
            "text/plain": [
              "HBox(children=(FloatProgress(value=0.0, description='Querying your system', max=225.0, style=ProgressStyle(des…"
            ]
          },
          "metadata": {
            "tags": []
          }
        },
        {
          "output_type": "stream",
          "text": [
            "\r"
          ],
          "name": "stdout"
        },
        {
          "output_type": "display_data",
          "data": {
            "text/markdown": "Your system achieved **37.46% MAP score**.",
            "text/plain": [
              "<IPython.core.display.Markdown object>"
            ]
          },
          "metadata": {
            "tags": []
          }
        },
        {
          "output_type": "display_data",
          "data": {
            "text/markdown": "Congratulations, you passed the **35%** minimum! 🥳",
            "text/plain": [
              "<IPython.core.display.Markdown object>"
            ]
          },
          "metadata": {
            "tags": []
          }
        },
        {
          "output_type": "display_data",
          "data": {
            "text/markdown": "Set `submit_result = True` and write your name to the `author_name` variable to submit your result to [the leaderboard](https://docs.google.com/spreadsheets/d/e/2PACX-1vRRR4eDkQIWx5FSU08Uj5DciWwxNfHJeLruNR1T0WW9xmSsYl457Zqv5SlA1jfvsYHpsaUw_8P3z1OF/pubhtml). 🏆\n\nThe best submissions on the leaderboard will receive *small awards during the semester*, and some *__seriously big__ awards* after the personal check at the end of the competition (2021-04-18). Please be polite, do not spoil the game for the others, and **have fun!** 😉",
            "text/plain": [
              "<IPython.core.display.Markdown object>"
            ]
          },
          "metadata": {
            "tags": []
          }
        }
      ]
    }
  ]
}