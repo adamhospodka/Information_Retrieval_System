{
 "cells": [
  {
   "cell_type": "markdown",
   "metadata": {},
   "source": [
    "# Assignment no.2: \n",
    "Implementation of information retrieval system (TREC Collection)"
   ]
  },
  {
   "cell_type": "markdown",
   "metadata": {},
   "source": [
    "## 💬 Commentary\n",
    "This solution was supposed to implement similar solution to the one from first assignment \n",
    "(https://github.com/adamhospodka/Information_Retrieval_System/blob/main/Implementation_of_information_retrieval_system.ipynb) \n",
    "adding the ML capabilities.\n",
    "\n",
    "However due to time/performance issues I had to downgrade from the additional ML process. It only relies on TF-IDF model.\n",
    "\n",
    "Unfortunatelly, even this simple solution still scores *0.00 MAP*. I give up.\n",
    "\n"
   ]
  },
  {
   "source": [
    "Steps:\n",
    "\n",
    "1. List every word from every document using ```multi_buildPairs()``` function\n",
    "2. Remove duplicates using the ```uniq()``` function\n",
    "3. Based on these pairs create inverted index using the ```buildInvertedIndex()``` function\n",
    "4. Use knowledge of inverted index to build frequency index (inv. index with word frequencies) using the ```multi_buildFrequencyIndex()``` function\n",
    "5. Build index that contains length of each document using the ```buildDocumentsLengthIndex()``` function\n",
    "6. Prepare Pandas DataFrame with document instances ready to be ranked using the ```buildRankingDf()``` function\n",
    "7. Initialize the search with ```IRSystem.search()```\n",
    "8. Clean the given query with the ```cleanQuery()``` function\n",
    "9. Rank the relevant documents with the ```rank()``` function"
   ],
   "cell_type": "markdown",
   "metadata": {}
  },
  {
   "cell_type": "markdown",
   "metadata": {},
   "source": [
    "## 📚 Imports"
   ]
  },
  {
   "cell_type": "code",
   "execution_count": null,
   "metadata": {
    "id": "inUAfc6TQMVJ",
    "tags": []
   },
   "outputs": [],
   "source": [
    "! pip install git+https://gitlab.fi.muni.cz/xstefan3/pv211-utils.git@master | grep '^Successfully'\n",
    "! pip install pandas\n",
    "! pip install numpy\n",
    "! pip install nltk"
   ]
  },
  {
   "cell_type": "code",
   "execution_count": 1,
   "metadata": {
    "tags": []
   },
   "outputs": [],
   "source": [
    "import math\n",
    "import time\n",
    "import pickle\n",
    "import json\n",
    "import numpy as np\n",
    "import pandas as pd\n",
    "\n",
    "import nltk\n",
    "from nltk.corpus import stopwords\n",
    "\n",
    "from tqdm import tqdm\n",
    "from collections import OrderedDict\n",
    "from itertools import chain\n",
    "\n",
    "from pv211_utils.trec.loader import load_documents\n",
    "from pv211_utils.trec.entities import TrecQueryBase\n",
    "from pv211_utils.trec.loader import load_queries\n",
    "from pv211_utils.trec.entities import TrecDocumentBase\n",
    "from pv211_utils.trec.loader import load_judgements\n",
    "from pv211_utils.trec.leaderboard import TrecLeaderboard\n",
    "from pv211_utils.trec.eval import TrecEvaluation\n",
    "from pv211_utils.trec.irsystem import TrecIRSystemBase\n"
   ]
  },
  {
   "cell_type": "code",
   "execution_count": null,
   "metadata": {},
   "outputs": [],
   "source": [
    "stemmer = nltk.PorterStemmer()\n",
    "stopwords = stopwords.words('english')"
   ]
  },
  {
   "cell_type": "code",
   "execution_count": null,
   "metadata": {},
   "outputs": [],
   "source": [
    "nltk.download('punkt')\n",
    "nltk.download('stopwords')"
   ]
  },
  {
   "cell_type": "markdown",
   "metadata": {},
   "source": [
    "## 🏗 Classes & Instances loading"
   ]
  },
  {
   "cell_type": "markdown",
   "metadata": {},
   "source": [
    "#### Documents/Corpus"
   ]
  },
  {
   "cell_type": "code",
   "execution_count": 2,
   "metadata": {
    "id": "fyAqWIQyINng"
   },
   "outputs": [],
   "source": [
    "class Document(TrecDocumentBase):\n",
    "    \"\"\"\n",
    "    A preprocessed TREC collection document\n",
    "    \"\"\"\n",
    "\n",
    "    def __init__(self, document_id: str, body: str):        \n",
    "        super().__init__(document_id, body)"
   ]
  },
  {
   "cell_type": "code",
   "execution_count": 3,
   "metadata": {
    "id": "HfRrW7O6U5wb",
    "tags": []
   },
   "outputs": [
    {
     "name": "stdout",
     "output_type": "stream",
     "text": [
      "Computing MD5: /var/tmp/pv211/trec_documents.json.gz\n",
      "MD5 matches: /var/tmp/pv211/trec_documents.json.gz\n"
     ]
    }
   ],
   "source": [
    "documents = load_documents(Document, cache_download='/var/tmp/pv211/trec_documents.json.gz')"
   ]
  },
  {
   "cell_type": "code",
   "execution_count": 4,
   "metadata": {},
   "outputs": [],
   "source": [
    "CORPUS = documents"
   ]
  },
  {
   "cell_type": "markdown",
   "metadata": {},
   "source": [
    "#### Queries"
   ]
  },
  {
   "cell_type": "code",
   "execution_count": 5,
   "metadata": {},
   "outputs": [],
   "source": [
    "class Query(TrecQueryBase):\n",
    "    \"\"\"\n",
    "    A preprocessed TREC collection query\n",
    "    \"\"\"    \n",
    "\n",
    "    def __init__(self, query_id: int, title: str, body: str, narrative: str):\n",
    "\n",
    "        super().__init__(query_id, title, body, narrative)"
   ]
  },
  {
   "cell_type": "code",
   "execution_count": 6,
   "metadata": {},
   "outputs": [],
   "source": [
    "train_queries = load_queries(Query, 'train')\n",
    "validation_queries = load_queries(Query, 'validation')\n",
    "\n",
    "bigger_train_queries = OrderedDict(chain(train_queries.items(), validation_queries.items()))"
   ]
  },
  {
   "cell_type": "markdown",
   "metadata": {},
   "source": [
    "#### Judgements"
   ]
  },
  {
   "cell_type": "code",
   "execution_count": 7,
   "metadata": {},
   "outputs": [],
   "source": [
    "train_judgements = load_judgements(train_queries, documents, 'train')\n",
    "validation_judgements = load_judgements(validation_queries, documents, 'validation')\n",
    "\n",
    "bigger_train_judgements = train_judgements | validation_judgements"
   ]
  },
  {
   "cell_type": "markdown",
   "metadata": {},
   "source": [
    "---"
   ]
  },
  {
   "cell_type": "markdown",
   "metadata": {},
   "source": [
    "## ⚙️ Preprocessing"
   ]
  },
  {
   "cell_type": "markdown",
   "metadata": {},
   "source": [
    "#### Tokenizing bodies"
   ]
  },
  {
   "cell_type": "code",
   "execution_count": 2,
   "metadata": {},
   "outputs": [],
   "source": [
    "def tokenize(document):\n",
    "    \"\"\"\n",
    "    Creates a dictionary with document ids (keys) and list of stemmed, tokenized terms (values).\n",
    "    Constructed to be compatible with the pool.map() function.\n",
    "    \"\"\"\n",
    "    \n",
    "    doc_id = document.document_id\n",
    "    body = document.body\n",
    "    body = nltk.word_tokenize(body)\n",
    "    body = [stemmer.stem(token) for token in body]\n",
    "    \n",
    "    return {doc_id: body}"
   ]
  },
  {
   "cell_type": "code",
   "execution_count": null,
   "metadata": {},
   "outputs": [],
   "source": [
    "# Parallel processing\n",
    "with Pool(None) as pool:\n",
    "    tokenized_bodies = pool.map(tokenize, tqdm(CORPUS.values()) )"
   ]
  },
  {
   "cell_type": "code",
   "execution_count": null,
   "metadata": {
    "tags": []
   },
   "outputs": [],
   "source": [
    "# Reforming\n",
    "tokenized_bodies_unzipped = {}\n",
    "for document in tokenized_bodies:\n",
    "    key = list(document.keys())[0]\n",
    "    tokenized_bodies_unzipped[key] = document[key]"
   ]
  },
  {
   "cell_type": "markdown",
   "metadata": {},
   "source": [
    "##### Save and load pickle"
   ]
  },
  {
   "cell_type": "code",
   "execution_count": null,
   "metadata": {},
   "outputs": [],
   "source": [
    "# Save\n",
    "with open('/data/xhospodk/tokenized_bodies_unzipped.pkl', 'wb') as f:\n",
    "    pickle.dump(tokenized_bodies_unzipped, f)"
   ]
  },
  {
   "cell_type": "code",
   "execution_count": 8,
   "metadata": {},
   "outputs": [],
   "source": [
    "# Load\n",
    "with open('/data/xhospodk/tokenized_bodies_unzipped.pkl', 'rb') as f:\n",
    "    tokenized_bodies_unzipped = pickle.load(f)"
   ]
  },
  {
   "cell_type": "markdown",
   "metadata": {},
   "source": [
    "#### Build Pairs"
   ]
  },
  {
   "cell_type": "code",
   "execution_count": null,
   "metadata": {
    "tags": []
   },
   "outputs": [],
   "source": [
    "def multi_buildPairs(document):\n",
    "    \"\"\"\n",
    "    Crawls every document instance and creates a tuples -> (token, document id). \n",
    "    It only does it so when token obeys certain conditions.\n",
    "    \"\"\"\n",
    "    \n",
    "    pairs = []\n",
    "    punc = '''!(),---[]{};::'\"\\ <>./?@#$%^&*_␣~\\n\\n'''\n",
    "       \n",
    "    tokens = tokenized_bodies_unzipped[document.document_id]\n",
    "\n",
    "    token = \"\"\n",
    "    doc_id = \"\"\n",
    "\n",
    "    for token in tokens:\n",
    "        if len(token) > 2:\n",
    "            if token not in stopwords:\n",
    "                for letter in token:\n",
    "                    if letter in punc:\n",
    "                        token = token.replace(letter, \"\")\n",
    "                            \n",
    "                doc_id = document.document_id\n",
    "                pairs.append((token, doc_id))\n",
    "    \n",
    "    return pairs"
   ]
  },
  {
   "cell_type": "code",
   "execution_count": null,
   "metadata": {
    "tags": []
   },
   "outputs": [],
   "source": [
    "# Parallel processing\n",
    "with Pool() as pool:\n",
    "    multi_pairs = pool.map(multi_buildPairs, tqdm(CORPUS.values() ))"
   ]
  },
  {
   "cell_type": "code",
   "execution_count": null,
   "metadata": {
    "tags": []
   },
   "outputs": [],
   "source": [
    "# Reforming\n",
    "multi_pairs_unzipped = []\n",
    "for array_of_tuples in tqdm(multi_pairs):\n",
    "    for tuple in array_of_tuples:\n",
    "        multi_pairs_unzipped.append(tuple)"
   ]
  },
  {
   "cell_type": "markdown",
   "metadata": {},
   "source": [
    "#### Uniq"
   ]
  },
  {
   "cell_type": "code",
   "execution_count": null,
   "metadata": {},
   "outputs": [],
   "source": [
    "def uniq(sorted_list):\n",
    "    \"\"\"\n",
    "    Reduces the list of pairs only to unique tuples (a term can be only once in a document)\n",
    "    \"\"\"\n",
    "    \n",
    "    if len(sorted_list) <= 1:\n",
    "        return sorted_list\n",
    "\n",
    "    uniq_list = sorted_list[:1]\n",
    "    previous_value = sorted_list[0]\n",
    "\n",
    "    for value in sorted_list[1:]:\n",
    "        if value != previous_value:\n",
    "            uniq_list.append(value)\n",
    "            previous_value = value\n",
    "                \n",
    "    return uniq_list"
   ]
  },
  {
   "cell_type": "code",
   "execution_count": null,
   "metadata": {
    "tags": []
   },
   "outputs": [],
   "source": [
    "uniq_pairs = uniq(sorted(tqdm(multi_pairs_unzipped), key=lambda x: (x[0].lower(), x[1])))"
   ]
  },
  {
   "cell_type": "markdown",
   "metadata": {},
   "source": [
    "#### Inverted Index"
   ]
  },
  {
   "cell_type": "code",
   "execution_count": null,
   "metadata": {},
   "outputs": [],
   "source": [
    "def buildInvertedIndex(uniq_pairs):\n",
    "      \"\"\" \n",
    "      Creates inverted index using the list of unique pairs (token, document id).\n",
    "      Returns inverted index (dictionary)\n",
    "      \"\"\"\n",
    "\n",
    "    inverted_index = {}\n",
    "\n",
    "    for term, document_id in tqdm(multi_pairs_unzipped):\n",
    "        if term not in inverted_index:\n",
    "            inverted_index[term] = []\n",
    "\n",
    "        inverted_index[term].append(document_id)\n",
    "    \n",
    "    return inverted_index"
   ]
  },
  {
   "cell_type": "code",
   "execution_count": null,
   "metadata": {
    "tags": []
   },
   "outputs": [],
   "source": [
    "inverted_index = buildInvertedIndex(uniq_pairs)"
   ]
  },
  {
   "cell_type": "markdown",
   "metadata": {},
   "source": [
    "##### Save and load pickle"
   ]
  },
  {
   "cell_type": "code",
   "execution_count": null,
   "metadata": {},
   "outputs": [],
   "source": [
    "# Save\n",
    "with open('/data/xhospodk/inverted_index.pkl', 'wb') as f:  # Save\n",
    "    pickle.dump(inverted_index, f)"
   ]
  },
  {
   "cell_type": "code",
   "execution_count": 9,
   "metadata": {},
   "outputs": [],
   "source": [
    "# Load\n",
    "with open('/data/xhospodk/inverted_index.pkl', 'rb') as f:\n",
    "    inverted_index = pickle.load(f)"
   ]
  },
  {
   "cell_type": "markdown",
   "metadata": {},
   "source": [
    "#### Frequency Index"
   ]
  },
  {
   "cell_type": "code",
   "execution_count": null,
   "metadata": {},
   "outputs": [],
   "source": [
    "def multi_buildFrequencyIndex(key):\n",
    "    \"\"\" \n",
    "    Creates frequency index (inverted index with term frequencies)\n",
    "    using inverted index as heuristics for crawling.\n",
    "    Returns frequency index (dictinoary).\n",
    "    \"\"\"\n",
    "  \n",
    "    local_list = {}\n",
    "    relevant_documents = inverted_index[key]\n",
    "\n",
    "    for doc_id in relevant_documents:\n",
    "      body = tokenized_bodies_unzipped[doc_id]\n",
    "      frequency = body.count(key)\n",
    "      local_list[doc_id] = frequency\n",
    "\n",
    "    return local_list"
   ]
  },
  {
   "cell_type": "code",
   "execution_count": null,
   "metadata": {},
   "outputs": [],
   "source": [
    "# Parallel processing\n",
    "with Pool(processes=60) as pool:\n",
    "    frequency_index = pool.map(multi_buildFrequencyIndex, tqdm(inverted_index.keys()) )"
   ]
  },
  {
   "cell_type": "markdown",
   "metadata": {},
   "source": [
    "##### Save and load pickle"
   ]
  },
  {
   "cell_type": "code",
   "execution_count": null,
   "metadata": {},
   "outputs": [],
   "source": [
    "with open('/data/xhospodk/frequency_index.pkl', 'wb') as f:  # Save\n",
    "    pickle.dump(frequency_index, f)"
   ]
  },
  {
   "cell_type": "code",
   "execution_count": null,
   "metadata": {},
   "outputs": [],
   "source": [
    "with open('frequency_index.pkl', 'rb') as f:\n",
    "    frequency_index = pickle.load(f)"
   ]
  },
  {
   "cell_type": "markdown",
   "metadata": {
    "jupyter": {
     "outputs_hidden": true
    },
    "tags": []
   },
   "source": [
    "#### Documents Length Index"
   ]
  },
  {
   "cell_type": "code",
   "execution_count": 10,
   "metadata": {},
   "outputs": [],
   "source": [
    "def buildDocumentsLengthIndex():\n",
    "    \"\"\" \n",
    "    Creates index containing information about documents lengths.\n",
    "    Returns documents length index (dictionary).\n",
    "    \"\"\"\n",
    "\n",
    "    documents_length_index = {}\n",
    "\n",
    "    for key in tqdm(CORPUS.keys()):\n",
    "        documents_length_index[key] = len(tokenized_bodies_unzipped[key])\n",
    "    \n",
    "    return documents_length_index"
   ]
  },
  {
   "cell_type": "code",
   "execution_count": 11,
   "metadata": {},
   "outputs": [
    {
     "name": "stderr",
     "output_type": "stream",
     "text": [
      "100%|██████████| 527890/527890 [00:01<00:00, 480614.34it/s]\n"
     ]
    }
   ],
   "source": [
    "documents_length_index = buildDocumentsLengthIndex()"
   ]
  },
  {
   "cell_type": "markdown",
   "metadata": {},
   "source": [
    "## 🧮 Ranking Dataframe"
   ]
  },
  {
   "cell_type": "code",
   "execution_count": 20,
   "metadata": {},
   "outputs": [],
   "source": [
    "def buildRankingDf():\n",
    "    \"\"\" \n",
    "    Prepares dataframe (table) with document instances loaded.\n",
    "    Ranking and sorting will be happening within this structure once called.\n",
    "    Returns dataframe.\n",
    "    \"\"\"\n",
    "    \n",
    "    id_as_list = [key for key, value in tqdm(CORPUS.items())]\n",
    "    text_as_list = [value.body[:10] for key, value in tqdm(CORPUS.items())]\n",
    "\n",
    "    df = pd.DataFrame({\"ID\":  id_as_list, \"Values\": text_as_list, \"Rank\": 0, \"Matches\": \"\" }) \n",
    "    df = df.set_index(\"ID\")\n",
    "\n",
    "    return df"
   ]
  },
  {
   "cell_type": "code",
   "execution_count": 21,
   "metadata": {
    "tags": []
   },
   "outputs": [
    {
     "name": "stderr",
     "output_type": "stream",
     "text": [
      "100%|██████████| 527890/527890 [00:00<00:00, 1108061.72it/s]\n",
      "100%|██████████| 527890/527890 [00:02<00:00, 263076.86it/s]\n"
     ]
    }
   ],
   "source": [
    "ranking_df = buildRankingDf()"
   ]
  },
  {
   "cell_type": "code",
   "execution_count": 25,
   "metadata": {},
   "outputs": [
    {
     "data": {
      "text/plain": [
       "(527890, 3)"
      ]
     },
     "execution_count": 25,
     "metadata": {},
     "output_type": "execute_result"
    }
   ],
   "source": [
    "ranking_df.shape"
   ]
  },
  {
   "cell_type": "markdown",
   "metadata": {},
   "source": [
    "## 🧹 Query Cleaning"
   ]
  },
  {
   "cell_type": "code",
   "execution_count": 57,
   "metadata": {},
   "outputs": [],
   "source": [
    "def cleanQuery(query):\n",
    "  \"\"\" \n",
    "  Cleans passed query's body.\n",
    "  Tokenization, stemming, stopwords and (words< 1) removed.\n",
    "  Returns clean query body (array).\n",
    "  \"\"\"        \n",
    "\n",
    "  query = query.body\n",
    "  query = nltk.word_tokenize(query)\n",
    "  query = [stemmer.stem(token) for token in query]\n",
    "  query = [token for token in query if len(token) > 1 if token not in stopwords]\n",
    "\n",
    "  return query"
   ]
  },
  {
   "cell_type": "markdown",
   "metadata": {},
   "source": [
    "___"
   ]
  },
  {
   "cell_type": "markdown",
   "metadata": {},
   "source": [
    "## 💯 Ranking Mechanism"
   ]
  },
  {
   "cell_type": "code",
   "execution_count": 134,
   "metadata": {},
   "outputs": [],
   "source": [
    "def rank(query):\n",
    "    \"\"\" \n",
    "    For every token in query ranks documents +1 for every token appearing in the document\n",
    "    \"\"\"\n",
    "\n",
    "    global ranking_df\n",
    "    ranking_df[\"Rank\"] = 0.0\n",
    "    ranking_df[\"Matches\"] = \"\"\n",
    "\n",
    "    for term in query:\n",
    "        if term in inverted_index:\n",
    "            for relevant_document_id in inverted_index[term]:\n",
    "                if term not in ranking_df.at[relevant_document_id, \"Matches\"]:\n",
    "                    ranking_df.at[relevant_document_id, \"Rank\"] += 1\n",
    "                    ranking_df.at[relevant_document_id, \"Matches\"] +=  \" \" + term\n",
    "\n",
    "\n",
    "    ranking_df = ranking_df.sort_values(\"Rank\", ascending = False)\n",
    "    sorted_documents = ranking_df[\"Values\"].tolist()\n",
    "\n",
    "    return sorted_documents"
   ]
  },
  {
   "cell_type": "markdown",
   "metadata": {
    "id": "xJM9TfbEPCZV"
   },
   "source": [
    "## 🚧 Information retrieval system and evaluation"
   ]
  },
  {
   "cell_type": "code",
   "execution_count": 135,
   "metadata": {
    "id": "Bqq_dijKRT-F"
   },
   "outputs": [],
   "source": [
    "class IRSystem(TrecIRSystemBase):\n",
    "\n",
    "    def __init__(self, print_matrix):\n",
    "        self.print_matrix = print_matrix\n",
    "        random_documents = sorted(set(document for query, document in train_judgements))\n",
    "        self.random_documents = random_documents\n",
    "\n",
    "    def search(self, query: Query) -> Iterable[Document]:\n",
    "        query = cleanQuery(query)\n",
    "        sorted_documents = rank(query)\n",
    "\n",
    "        if self.print_matrix == True:\n",
    "          print(\"Query: \",query)\n",
    "          print(ranking_df.head(20))\n",
    "\n",
    "        return(sorted_documents)"
   ]
  },
  {
   "cell_type": "code",
   "execution_count": 136,
   "metadata": {
    "id": "ssX-nvxGu3JK"
   },
   "outputs": [
    {
     "name": "stdout",
     "output_type": "stream",
     "text": [
      "Initializing your system ...\r"
     ]
    },
    {
     "name": "stderr",
     "output_type": "stream",
     "text": [
      "Querying your system, brother:   0%|          | 0/50 [00:00<?, ?it/s]"
     ]
    },
    {
     "name": "stdout",
     "output_type": "stream",
     "text": [
      "<Query 401 “What language and cultural differences impede the  ...”>\n",
      "<class '__main__.Query'>\n",
      "Query:  ['languag', 'cultur', 'differ', 'imped', 'integr', 'foreign', 'minor', 'germani']\n",
      "                        Values  Rank  \\\n",
      "ID                                     \n",
      "FBIS4-20472         Policy (Wh   8.0   \n",
      "FBIS3-42766         Language:    8.0   \n",
      "FBIS3-36078         Language:    8.0   \n",
      "FBIS3-30533         Language:    7.0   \n",
      "FBIS3-41666         Federation   7.0   \n",
      "FT924-3751          FOR THE tr   7.0   \n",
      "FBIS3-20098         Language:    7.0   \n",
      "FBIS3-31672         Language:    7.0   \n",
      "FBIS4-46969         CSO [Round   7.0   \n",
      "FBIS3-23561         Article      7.0   \n",
      "FBIS3-24361         Language:    7.0   \n",
      "FBIS3-44708         Language:    7.0   \n",
      "FBIS3-35195         Language:    7.0   \n",
      "FBIS3-31620         Language:    7.0   \n",
      "FBIS4-46766         CSO [Dialo   7.0   \n",
      "FR940602-1-00023  Thursday\\n\\n   7.0   \n",
      "FBIS3-19645         Language:    7.0   \n",
      "FBIS3-7981          Language:    7.0   \n",
      "FBIS4-40131         BFN [Speec   7.0   \n",
      "FBIS4-57153         BFN [Inter   7.0   \n",
      "\n",
      "                                                            Matches  \n",
      "ID                                                                   \n",
      "FBIS4-20472        languag cultur differ imped integr foreign mi...  \n",
      "FBIS3-42766        languag cultur differ imped integr foreign mi...  \n",
      "FBIS3-36078        languag cultur differ imped integr foreign mi...  \n",
      "FBIS3-30533        languag cultur differ integr foreign minor ge...  \n",
      "FBIS3-41666        languag cultur differ imped integr foreign minor  \n",
      "FT924-3751         languag cultur differ integr foreign minor ge...  \n",
      "FBIS3-20098        languag cultur differ integr foreign minor ge...  \n",
      "FBIS3-31672        languag cultur differ integr foreign minor ge...  \n",
      "FBIS4-46969        languag cultur differ integr foreign minor ge...  \n",
      "FBIS3-23561        languag cultur differ integr foreign minor ge...  \n",
      "FBIS3-24361        languag cultur differ integr foreign minor ge...  \n",
      "FBIS3-44708        languag cultur differ integr foreign minor ge...  \n",
      "FBIS3-35195        languag cultur differ integr foreign minor ge...  \n",
      "FBIS3-31620        languag cultur differ integr foreign minor ge...  \n",
      "FBIS4-46766        languag cultur differ integr foreign minor ge...  \n",
      "FR940602-1-00023   languag differ imped integr foreign minor ger...  \n",
      "FBIS3-19645        languag cultur differ integr foreign minor ge...  \n",
      "FBIS3-7981         languag cultur differ integr foreign minor ge...  \n",
      "FBIS4-40131        languag cultur differ integr foreign minor ge...  \n",
      "FBIS4-57153        languag cultur differ integr foreign minor ge...  \n"
     ]
    },
    {
     "name": "stderr",
     "output_type": "stream",
     "text": [
      "Querying your system, brother:   2%|▏         | 1/50 [00:25<21:04, 25.80s/it]"
     ]
    },
    {
     "name": "stdout",
     "output_type": "stream",
     "text": [
      "<Query 402 “What is happening in the field of behavioral genet ...”>\n",
      "<class '__main__.Query'>\n",
      "Query:  ['happen', 'field', 'behavior', 'genet', 'studi', 'rel', 'influenc', 'genet', 'environment', 'factor', 'individu', \"'s\", 'behavior', 'person']\n",
      "                      Values  Rank  \\\n",
      "ID                                   \n",
      "FBIS4-20472       Policy (Wh  11.0   \n",
      "LA100790-0251     Everything  10.0   \n",
      "FBIS3-60342       the Former  10.0   \n",
      "FBIS4-68893       CSO [Forew  10.0   \n",
      "FR940104-0-00034  21 CFR Par  10.0   \n",
      "FBIS3-37947       Language:   10.0   \n",
      "FBIS3-24469       Language:   10.0   \n",
      "LA062590-0042     At a confe  10.0   \n",
      "LA122489-0017     THE WORLD   10.0   \n",
      "FR940727-2-00007  National O  10.0   \n",
      "FBIS3-54460       Language:   10.0   \n",
      "FBIS3-14832       Language:   10.0   \n",
      "FBIS3-36078       Language:   10.0   \n",
      "FBIS3-61193       Language:   10.0   \n",
      "FBIS4-29          Foreign     10.0   \n",
      "FBIS3-41666       Federation  10.0   \n",
      "FBIS3-40450       Language:    9.0   \n",
      "FBIS3-58841       Language:    9.0   \n",
      "FBIS4-46469       CSO [Book:   9.0   \n",
      "FBIS3-10291       Language:    9.0   \n",
      "\n",
      "                                                            Matches  \n",
      "ID                                                                   \n",
      "FBIS4-20472        happen field behavior genet studi rel influen...  \n",
      "LA100790-0251      happen field behavior genet studi influenc en...  \n",
      "FBIS3-60342        happen field behavior studi rel influenc envi...  \n",
      "FBIS4-68893        happen field behavior studi rel influenc envi...  \n",
      "FR940104-0-00034   field behavior genet studi rel influenc envir...  \n",
      "FBIS3-37947        happen field behavior studi rel influenc envi...  \n",
      "FBIS3-24469        happen field behavior studi rel influenc envi...  \n",
      "LA062590-0042      happen field behavior genet studi rel environ...  \n",
      "LA122489-0017      happen field genet studi rel influenc environ...  \n",
      "FR940727-2-00007   field behavior genet studi rel influenc envir...  \n",
      "FBIS3-54460        happen field behavior studi rel influenc envi...  \n",
      "FBIS3-14832        happen field behavior studi rel influenc envi...  \n",
      "FBIS3-36078        happen field behavior studi rel influenc envi...  \n",
      "FBIS3-61193        happen field behavior studi rel influenc envi...  \n",
      "FBIS4-29           happen field behavior studi rel influenc envi...  \n",
      "FBIS3-41666        happen field genet studi rel influenc environ...  \n",
      "FBIS3-40450        happen field studi rel influenc environment f...  \n",
      "FBIS3-58841        happen field behavior studi rel influenc fact...  \n",
      "FBIS4-46469        happen field behavior studi rel influenc fact...  \n",
      "FBIS3-10291        happen field behavior studi influenc environm...  \n"
     ]
    },
    {
     "name": "stderr",
     "output_type": "stream",
     "text": [
      "Querying your system, brother:   4%|▍         | 2/50 [00:53<21:21, 26.70s/it]"
     ]
    },
    {
     "name": "stdout",
     "output_type": "stream",
     "text": [
      "<Query 403 “Find information on the effects of the dietary int ...”>\n",
      "<class '__main__.Query'>\n",
      "Query:  ['find', 'inform', 'effect', 'dietari', 'intak', 'potassium', 'magnesium', 'fruit', 'veget', 'determin', 'bone', 'miner', 'densiti', 'elderli', 'men', 'women', 'thu', 'prevent', 'osteoporosi', 'bone', 'decay']\n",
      "                         Values  Rank  \\\n",
      "ID                                      \n",
      "FBIS4-20472          Policy (Wh  15.0   \n",
      "FR940112-1-00044    Wednesday\\n  15.0   \n",
      "FR940104-0-00034     21 CFR Par  14.0   \n",
      "LA091489-0031        Many of us  14.0   \n",
      "LA033089-0013        The scient  14.0   \n",
      "FR940104-0-00033     DEPARTMENT  14.0   \n",
      "FR940204-1-00053     DEPARTMENT  13.0   \n",
      "FBIS3-41666          Federation  13.0   \n",
      "LA020989-0063        The carica  12.0   \n",
      "FBIS3-22119          Language:   12.0   \n",
      "FBIS4-66382          Undertakin  12.0   \n",
      "LA020490-0136        With the h  12.0   \n",
      "LA111689-0032        Are you am  12.0   \n",
      "FR940104-0-00032     DEPARTMENT  12.0   \n",
      "FR941130-0-00122    Wednesday\\n  12.0   \n",
      "LA061490-0026        When the N  12.0   \n",
      "FR940822-0-00067  Monday\\n\\n\\nA  12.0   \n",
      "FBIS4-44913        CSO \\n\\n  [T  12.0   \n",
      "FR940104-1-00050     Federal Re  12.0   \n",
      "FBIS3-36078          Language:   12.0   \n",
      "\n",
      "                                                            Matches  \n",
      "ID                                                                   \n",
      "FBIS4-20472        find inform effect dietari potassium magnesiu...  \n",
      "FR940112-1-00044   find inform effect dietari intak potassium ve...  \n",
      "FR940104-0-00034   find inform effect dietari intak fruit veget ...  \n",
      "LA091489-0031      find inform effect dietari intak potassium ma...  \n",
      "LA033089-0013      effect dietari intak fruit veget determin bon...  \n",
      "FR940104-0-00033   find inform effect dietari intak potassium ma...  \n",
      "FR940204-1-00053   find inform effect dietari intak fruit veget ...  \n",
      "FBIS3-41666        find inform effect intak potassium fruit vege...  \n",
      "LA020989-0063      find inform effect dietari intak potassium fr...  \n",
      "FBIS3-22119        find inform effect potassium veget determin m...  \n",
      "FBIS4-66382        find inform effect intak magnesium fruit vege...  \n",
      "LA020490-0136      find inform effect determin bone miner densit...  \n",
      "LA111689-0032      find inform effect dietari intak determin min...  \n",
      "FR940104-0-00032   find inform effect dietari intak potassium ma...  \n",
      "FR941130-0-00122   find inform effect dietari intak potassium de...  \n",
      "LA061490-0026      inform effect dietari intak potassium magnesi...  \n",
      "FR940822-0-00067   find inform effect dietari intak determin min...  \n",
      "FBIS4-44913        find inform effect intak magnesium veget dete...  \n",
      "FR940104-1-00050   find inform effect dietari intak potassium ma...  \n",
      "FBIS3-36078        find inform effect fruit determin bone miner ...  \n"
     ]
    },
    {
     "name": "stderr",
     "output_type": "stream",
     "text": [
      "Querying your system, brother:   6%|▌         | 3/50 [01:28<23:56, 30.55s/it]"
     ]
    },
    {
     "name": "stdout",
     "output_type": "stream",
     "text": [
      "<Query 404 “How often were the peace talks in Ireland delayed  ...”>\n",
      "<class '__main__.Query'>\n",
      "Query:  ['often', 'peac', 'talk', 'ireland', 'delay', 'disrupt', 'result', 'act', 'violenc']\n",
      "                     Values  Rank  \\\n",
      "ID                                  \n",
      "FBIS4-19453      BFN [Inter   8.0   \n",
      "FBIS3-31843      Language:    8.0   \n",
      "FBIS3-37947      Language:    8.0   \n",
      "FBIS3-207        Language:    8.0   \n",
      "FBIS4-43233      BFN [Speec   8.0   \n",
      "FBIS4-33915      BFN [Inter   8.0   \n",
      "FBIS3-14832      Language:    8.0   \n",
      "FBIS3-36078      Language:    8.0   \n",
      "LA011589-0005    What follo   8.0   \n",
      "FBIS4-67533    CSO \\n\\n       8.0   \n",
      "FBIS4-15599      BFN [Inter   8.0   \n",
      "FBIS4-44356      BFN [EC Do   7.0   \n",
      "FBIS4-26002      BFN [\"Text   7.0   \n",
      "FBIS3-15218      Language:    7.0   \n",
      "FBIS3-33775      Language:    7.0   \n",
      "FBIS3-1164       Language:    7.0   \n",
      "FBIS4-46649      1-464 FOR    7.0   \n",
      "LA090389-0004    THE mornin   7.0   \n",
      "FT934-5486       JANUARY 11   7.0   \n",
      "FBIS4-63176      BFN [Inter   7.0   \n",
      "\n",
      "                                                         Matches  \n",
      "ID                                                                \n",
      "FBIS4-19453     often peac talk ireland delay result act violenc  \n",
      "FBIS3-31843     often peac talk delay disrupt result act violenc  \n",
      "FBIS3-37947     often peac talk delay disrupt result act violenc  \n",
      "FBIS3-207       often peac talk delay disrupt result act violenc  \n",
      "FBIS4-43233     often peac talk ireland disrupt result act vi...  \n",
      "FBIS4-33915     often peac talk delay disrupt result act violenc  \n",
      "FBIS3-14832     often peac talk delay disrupt result act violenc  \n",
      "FBIS3-36078     often peac talk ireland delay result act violenc  \n",
      "LA011589-0005   often peac talk ireland disrupt result act vi...  \n",
      "FBIS4-67533     often peac talk ireland delay disrupt result act  \n",
      "FBIS4-15599     often peac talk ireland disrupt result act vi...  \n",
      "FBIS4-44356           peac talk ireland delay result act violenc  \n",
      "FBIS4-26002             often peac talk delay disrupt result act  \n",
      "FBIS3-15218             often peac talk delay result act violenc  \n",
      "FBIS3-33775             often peac talk delay disrupt result act  \n",
      "FBIS3-1164            peac talk delay disrupt result act violenc  \n",
      "FBIS4-46649          often peac delay disrupt result act violenc  \n",
      "LA090389-0004        often talk delay disrupt result act violenc  \n",
      "FT934-5486            peac talk ireland delay result act violenc  \n",
      "FBIS4-63176           often peac talk disrupt result act violenc  \n"
     ]
    },
    {
     "name": "stderr",
     "output_type": "stream",
     "text": [
      "Querying your system, brother:   8%|▊         | 4/50 [01:58<23:15, 30.34s/it]"
     ]
    },
    {
     "name": "stdout",
     "output_type": "stream",
     "text": [
      "<Query 405 “What unexpected or unexplained cosmic events or ce ...”>\n",
      "<class '__main__.Query'>\n",
      "Query:  ['unexpect', 'unexplain', 'cosmic', 'event', 'celesti', 'phenomena', 'radiat', 'supernova', 'outburst', 'new', 'comet', 'detect']\n",
      "                        Values  Rank  \\\n",
      "ID                                     \n",
      "FBIS3-42400         88) pp 1-2   7.0   \n",
      "FBIS4-66382         Undertakin   7.0   \n",
      "FBIS3-40352         Language:    7.0   \n",
      "FBIS3-41666         Federation   6.0   \n",
      "FBIS3-59752         Language:    6.0   \n",
      "FBIS4-46649         1-464 FOR    6.0   \n",
      "FBIS3-40388         OFFICIAL U   6.0   \n",
      "FBIS3-43042         Language:    6.0   \n",
      "FBIS3-43004         Language:    6.0   \n",
      "FBIS4-46469         CSO [Book:   6.0   \n",
      "FT944-864           Lo, the St   6.0   \n",
      "FBIS4-66185       CSO \\n\\n       5.0   \n",
      "FBIS4-45649         CSO [\"Draf   5.0   \n",
      "LA040590-0149       The upturn   5.0   \n",
      "FBIS4-38            BOOKS,   J   5.0   \n",
      "FBIS3-21268         Updated 29   5.0   \n",
      "FR940602-1-00023  Thursday\\n\\n   5.0   \n",
      "LA090889-0077       Each July    5.0   \n",
      "FBIS4-44916         Other Labs   5.0   \n",
      "FT922-13455         'At this i   5.0   \n",
      "\n",
      "                                                            Matches  \n",
      "ID                                                                   \n",
      "FBIS3-42400        unexpect event celesti phenomena radiat new d...  \n",
      "FBIS4-66382        cosmic celesti phenomena radiat outburst new ...  \n",
      "FBIS3-40352        unexpect cosmic celesti phenomena radiat new ...  \n",
      "FBIS3-41666              unexpect event phenomena radiat new detect  \n",
      "FBIS3-59752              cosmic celesti phenomena radiat new detect  \n",
      "FBIS4-46649              unexpect event phenomena radiat new detect  \n",
      "FBIS3-40388             event phenomena radiat supernova new detect  \n",
      "FBIS3-43042             unexplain event phenomena radiat new detect  \n",
      "FBIS3-43004             unexplain event phenomena radiat new detect  \n",
      "FBIS4-46469              unexpect event phenomena radiat new detect  \n",
      "FT944-864                cosmic event phenomena supernova new comet  \n",
      "FBIS4-66185                        unexpect event radiat new detect  \n",
      "FBIS4-45649                     unexpect event phenomena radiat new  \n",
      "LA040590-0149                     cosmic event phenomena radiat new  \n",
      "FBIS4-38                              event radiat new comet detect  \n",
      "FBIS3-21268                       event phenomena radiat new detect  \n",
      "FR940602-1-00023                   unexpect event radiat new detect  \n",
      "LA090889-0077                        event celesti radiat new comet  \n",
      "FBIS4-44916                      cosmic phenomena radiat new detect  \n",
      "FT922-13455                       unexplain cosmic new comet detect  \n"
     ]
    },
    {
     "name": "stderr",
     "output_type": "stream",
     "text": [
      "Querying your system, brother:  10%|█         | 5/50 [02:21<20:55, 27.89s/it]"
     ]
    },
    {
     "name": "stdout",
     "output_type": "stream",
     "text": [
      "<Query 406 “What is being done to treat the symptoms of Parkin ...”>\n",
      "<class '__main__.Query'>\n",
      "Query:  ['done', 'treat', 'symptom', 'parkinson', \"'s\", 'diseas', 'keep', 'patient', 'function', 'long', 'possibl']\n",
      "                         Values  Rank  \\\n",
      "ID                                      \n",
      "FBIS3-37947          Language:    9.0   \n",
      "FR940602-1-00023   Thursday\\n\\n   9.0   \n",
      "FBIS3-41666          Federation   9.0   \n",
      "FR940822-0-00067  Monday\\n\\n\\nA   9.0   \n",
      "LA101090-0146        Every morn   9.0   \n",
      "FR940203-1-00069   Thursday\\n\\n   9.0   \n",
      "LA030190-0065        These days   8.0   \n",
      "FR940118-0-00013     One commen   8.0   \n",
      "FT932-7262           The drugs    8.0   \n",
      "FR940406-0-00190    Wednesday\\n   8.0   \n",
      "LA081290-0070        KIMON BEAZ   8.0   \n",
      "LA110490-0018        Dr. Robert   8.0   \n",
      "LA101090-0147        Although A   8.0   \n",
      "LA061490-0184        John arriv   8.0   \n",
      "FBIS3-60342          the Former   8.0   \n",
      "LA111289-0076        A common g   8.0   \n",
      "LA031890-0074        Don't suga   8.0   \n",
      "FBIS3-36078          Language:    8.0   \n",
      "LA081990-0064        Diabetes s   8.0   \n",
      "LA081389-0044        Derold Big   8.0   \n",
      "\n",
      "                                                            Matches  \n",
      "ID                                                                   \n",
      "FBIS3-37947        done treat symptom diseas keep patient functi...  \n",
      "FR940602-1-00023   done treat symptom diseas keep patient functi...  \n",
      "FBIS3-41666        done treat symptom diseas keep patient functi...  \n",
      "FR940822-0-00067   done treat symptom diseas keep patient functi...  \n",
      "LA101090-0146      done treat symptom parkinson diseas keep pati...  \n",
      "FR940203-1-00069   done treat symptom diseas keep patient functi...  \n",
      "LA030190-0065      done symptom diseas keep patient function lon...  \n",
      "FR940118-0-00013   treat symptom diseas keep patient function lo...  \n",
      "FT932-7262         done symptom parkinson diseas patient functio...  \n",
      "FR940406-0-00190   done treat diseas keep patient function long ...  \n",
      "LA081290-0070      done treat symptom diseas keep patient long p...  \n",
      "LA110490-0018      done treat diseas keep patient function long ...  \n",
      "LA101090-0147      treat symptom parkinson diseas patient functi...  \n",
      "LA061490-0184      done treat diseas keep patient function long ...  \n",
      "FBIS3-60342        done treat symptom diseas keep function long ...  \n",
      "LA111289-0076      done treat symptom diseas keep patient long p...  \n",
      "LA031890-0074      done symptom diseas keep patient function lon...  \n",
      "FBIS3-36078        done treat diseas keep patient function long ...  \n",
      "LA081990-0064      done treat symptom diseas patient function lo...  \n",
      "LA081389-0044      done treat symptom diseas keep patient functi...  \n"
     ]
    },
    {
     "name": "stderr",
     "output_type": "stream",
     "text": [
      "Querying your system, brother:  12%|█▏        | 6/50 [02:45<19:25, 26.48s/it]"
     ]
    },
    {
     "name": "stdout",
     "output_type": "stream",
     "text": [
      "<Query 407 “What is the impact of poaching on the world's vari ...”>\n",
      "<class '__main__.Query'>\n",
      "Query:  ['impact', 'poach', 'world', \"'s\", 'variou', 'wildlif', 'preserv']\n",
      "                        Values  Rank  \\\n",
      "ID                                     \n",
      "FBIS3-41666         Federation   6.0   \n",
      "FBIS3-60342         the Former   6.0   \n",
      "LA021990-0093       Almost eve   5.0   \n",
      "LA091390-0020       Just west    5.0   \n",
      "LA050889-0063       This is wh   5.0   \n",
      "LA061889-0100       Don David    5.0   \n",
      "LA121089-0204       Kaolelo Ul   5.0   \n",
      "FBIS3-207           Language:    5.0   \n",
      "FBIS4-67533       CSO \\n\\n       5.0   \n",
      "FBIS4-57817         BFN [State   5.0   \n",
      "LA051389-0024       Madagascar   5.0   \n",
      "LA122690-0005       Like an in   5.0   \n",
      "FBIS4-27085         BFN [Repor   5.0   \n",
      "FBIS4-62092         BFN [Concl   4.0   \n",
      "FT942-8138          In an over   4.0   \n",
      "LA092189-0193       More than    4.0   \n",
      "FBIS4-66185       CSO \\n\\n       4.0   \n",
      "FT933-5757          NO ISSUE d   4.0   \n",
      "FR940831-2-00002    DEPARTMENT   4.0   \n",
      "FBIS4-46649         1-464 FOR    4.0   \n",
      "\n",
      "                                                     Matches  \n",
      "ID                                                            \n",
      "FBIS3-41666        impact poach world variou wildlif preserv  \n",
      "FBIS3-60342        impact poach world variou wildlif preserv  \n",
      "LA021990-0093            impact world variou wildlif preserv  \n",
      "LA091390-0020            impact world variou wildlif preserv  \n",
      "LA050889-0063            impact poach variou wildlif preserv  \n",
      "LA061889-0100            impact world variou wildlif preserv  \n",
      "LA121089-0204            impact world variou wildlif preserv  \n",
      "FBIS3-207                impact world variou wildlif preserv  \n",
      "FBIS4-67533               impact poach world wildlif preserv  \n",
      "FBIS4-57817              impact world variou wildlif preserv  \n",
      "LA051389-0024             impact poach world wildlif preserv  \n",
      "LA122690-0005            impact world variou wildlif preserv  \n",
      "FBIS4-27085                impact poach world variou preserv  \n",
      "FBIS4-62092                      impact world variou preserv  \n",
      "FT942-8138                       impact world variou wildlif  \n",
      "LA092189-0193                   impact world wildlif preserv  \n",
      "FBIS4-66185                      impact world variou preserv  \n",
      "FT933-5757                       poach world wildlif preserv  \n",
      "FR940831-2-00002               impact variou wildlif preserv  \n",
      "FBIS4-46649                      impact world variou preserv  \n"
     ]
    },
    {
     "name": "stderr",
     "output_type": "stream",
     "text": [
      "Querying your system, brother:  14%|█▍        | 7/50 [02:59<15:59, 22.32s/it]"
     ]
    },
    {
     "name": "stdout",
     "output_type": "stream",
     "text": [
      "<Query 408 “What tropical storms (hurricanes and typhoons) hav ...”>\n",
      "<class '__main__.Query'>\n",
      "Query:  ['tropic', 'storm', 'hurrican', 'typhoon', 'caus', 'signific', 'properti', 'damag', 'loss', 'life']\n",
      "                        Values  Rank  \\\n",
      "ID                                     \n",
      "FBIS4-20472         Policy (Wh   9.0   \n",
      "FBIS4-67533       CSO \\n\\n       9.0   \n",
      "FBIS3-41666         Federation   8.0   \n",
      "FBIS4-66382         Undertakin   8.0   \n",
      "FBIS3-36078         Language:    8.0   \n",
      "FR941026-2-00082    NUCLEAR RE   8.0   \n",
      "FT923-4394          KLAUS CONR   8.0   \n",
      "LA120489-0058       Two months   7.0   \n",
      "FBIS4-68275         CSO [Book    7.0   \n",
      "FBIS4-47642         Media        7.0   \n",
      "FBIS4-26773         BFN [By re   7.0   \n",
      "FBIS4-45041       CSO \\n\\n  [T   7.0   \n",
      "FBIS3-42811         Language:    7.0   \n",
      "FBIS3-42399         Language:    7.0   \n",
      "FR941221-2-00104    Biweekly N   7.0   \n",
      "FBIS3-22119         Language:    7.0   \n",
      "FBIS3-54461         Language:    7.0   \n",
      "FBIS3-42459         Article      7.0   \n",
      "FBIS3-60336         Decisions    7.0   \n",
      "LA112789-0022       If you squ   7.0   \n",
      "\n",
      "                                                            Matches  \n",
      "ID                                                                   \n",
      "FBIS4-20472        tropic storm typhoon caus signific properti d...  \n",
      "FBIS4-67533        tropic storm hurrican caus signific properti ...  \n",
      "FBIS3-41666        tropic storm caus signific properti damag los...  \n",
      "FBIS4-66382        storm typhoon caus signific properti damag lo...  \n",
      "FBIS3-36078        tropic storm hurrican caus signific properti ...  \n",
      "FR941026-2-00082   storm hurrican caus signific properti damag l...  \n",
      "FT923-4394         storm hurrican typhoon caus signific properti...  \n",
      "LA120489-0058        tropic storm hurrican caus properti damag life  \n",
      "FBIS4-68275            storm caus signific properti damag loss life  \n",
      "FBIS4-47642            storm caus signific properti damag loss life  \n",
      "FBIS4-26773              tropic storm caus properti damag loss life  \n",
      "FBIS4-45041            storm caus signific properti damag loss life  \n",
      "FBIS3-42811            storm caus signific properti damag loss life  \n",
      "FBIS3-42399            storm caus signific properti damag loss life  \n",
      "FR941221-2-00104    hurrican caus signific properti damag loss life  \n",
      "FBIS3-22119           tropic caus signific properti damag loss life  \n",
      "FBIS3-54461            storm caus signific properti damag loss life  \n",
      "FBIS3-42459            storm caus signific properti damag loss life  \n",
      "FBIS3-60336            storm caus signific properti damag loss life  \n",
      "LA112789-0022          storm hurrican caus signific damag loss life  \n"
     ]
    },
    {
     "name": "stderr",
     "output_type": "stream",
     "text": [
      "Querying your system, brother:  16%|█▌        | 8/50 [03:20<15:26, 22.06s/it]"
     ]
    },
    {
     "name": "stdout",
     "output_type": "stream",
     "text": [
      "<Query 409 “What legal actions have resulted from the destruct ...”>\n",
      "<class '__main__.Query'>\n",
      "Query:  ['legal', 'action', 'result', 'destruct', 'pan', 'flight', '103', 'lockerbi', 'scotland', 'decemb', '21', '1988']\n",
      "                     Values  Rank  \\\n",
      "ID                                  \n",
      "FBIS3-29         Foreign      9.0   \n",
      "FBIS4-43233      BFN [Speec   9.0   \n",
      "LA031789-0067    Airline an   9.0   \n",
      "LA091190-0052    Secretary    8.0   \n",
      "LA091590-0045    Secretary    8.0   \n",
      "FBIS3-24678      Table        8.0   \n",
      "FT923-13692      A US jury    8.0   \n",
      "FBIS3-60342      the Former   8.0   \n",
      "FBIS4-19450      BFN [Unatt   8.0   \n",
      "LA121589-0082    The State    8.0   \n",
      "LA031190-0197    Last week    8.0   \n",
      "FBIS3-61336      Language:    8.0   \n",
      "FBIS3-23561      Article      8.0   \n",
      "FBIS3-61335      Language:    8.0   \n",
      "FBIS4-20504      Program 11   8.0   \n",
      "FBIS3-67         Foreign      8.0   \n",
      "FBIS4-42         Table        8.0   \n",
      "FBIS4-66185    CSO \\n\\n       8.0   \n",
      "FBIS4-22027      BFN [Unatt   8.0   \n",
      "FBIS3-41666      Federation   8.0   \n",
      "\n",
      "                                                         Matches  \n",
      "ID                                                                \n",
      "FBIS3-29        legal action result flight 103 scotland decem...  \n",
      "FBIS4-43233     legal action result destruct pan 103 lockerbi...  \n",
      "LA031789-0067   action result pan flight 103 lockerbi scotlan...  \n",
      "LA091190-0052   result pan flight 103 lockerbi scotland decem...  \n",
      "LA091590-0045   result pan flight 103 lockerbi scotland decem...  \n",
      "FBIS3-24678     legal action result destruct flight decemb 21...  \n",
      "FT923-13692     legal pan flight 103 lockerbi scotland decemb...  \n",
      "FBIS3-60342     legal action result destruct 103 scotland dec...  \n",
      "FBIS4-19450     result pan flight 103 lockerbi scotland decem...  \n",
      "LA121589-0082   action pan flight 103 lockerbi scotland decem...  \n",
      "LA031190-0197   result pan flight 103 lockerbi scotland decem...  \n",
      "FBIS3-61336     legal action result destruct flight 103 decem...  \n",
      "FBIS3-23561     legal action result destruct flight decemb 21...  \n",
      "FBIS3-61335     legal action result destruct flight 103 decem...  \n",
      "FBIS4-20504        legal action result flight 103 decemb 21 1988  \n",
      "FBIS3-67           legal action result flight 103 decemb 21 1988  \n",
      "FBIS4-42           legal action result flight 103 decemb 21 1988  \n",
      "FBIS4-66185     legal action result destruct flight 103 decem...  \n",
      "FBIS4-22027     result pan flight 103 lockerbi scotland decem...  \n",
      "FBIS3-41666      legal action result destruct 103 decemb 21 1988  \n"
     ]
    },
    {
     "name": "stderr",
     "output_type": "stream",
     "text": [
      "Querying your system, brother:  18%|█▊        | 9/50 [03:46<15:44, 23.04s/it]"
     ]
    },
    {
     "name": "stdout",
     "output_type": "stream",
     "text": [
      "<Query 410 “Who is involved in the Schengen agreement to elimi ...”>\n",
      "<class '__main__.Query'>\n",
      "Query:  ['involv', 'schengen', 'agreement', 'elimin', 'border', 'control', 'western', 'europ', 'hope', 'accomplish']\n",
      "                   Values  Rank  \\\n",
      "ID                                \n",
      "FBIS3-29       Foreign      9.0   \n",
      "FBIS4-31159    BFN [Inter   9.0   \n",
      "FBIS3-43186    JAPAN:       9.0   \n",
      "FBIS3-58       Table        9.0   \n",
      "FBIS3-49035    Language:    9.0   \n",
      "FBIS4-46469    CSO [Book:   9.0   \n",
      "FBIS4-59772    BFN [Inter   9.0   \n",
      "FBIS3-43142    Europe       9.0   \n",
      "FBIS4-68893    CSO [Forew   9.0   \n",
      "FBIS4-66185  CSO \\n\\n       9.0   \n",
      "FBIS3-40524    Article Ty   9.0   \n",
      "FBIS3-43160    Foreign      9.0   \n",
      "FBIS3-43214    Foreign      9.0   \n",
      "FBIS4-68275    CSO [Book    9.0   \n",
      "FBIS4-23662    BFN [Speec   9.0   \n",
      "FBIS4-43047    BFN [Repor   9.0   \n",
      "FBIS4-19       Table        9.0   \n",
      "FBIS4-67533  CSO \\n\\n       9.0   \n",
      "FBIS3-43132    JAPAN:       9.0   \n",
      "FBIS3-41975    OFFICIAL U   9.0   \n",
      "\n",
      "                                                       Matches  \n",
      "ID                                                              \n",
      "FBIS3-29      involv agreement elimin border control wester...  \n",
      "FBIS4-31159   involv agreement elimin border control wester...  \n",
      "FBIS3-43186   involv agreement elimin border control wester...  \n",
      "FBIS3-58      involv agreement elimin border control wester...  \n",
      "FBIS3-49035   involv agreement elimin border control wester...  \n",
      "FBIS4-46469   involv agreement elimin border control wester...  \n",
      "FBIS4-59772   involv agreement elimin border control wester...  \n",
      "FBIS3-43142   involv agreement elimin border control wester...  \n",
      "FBIS4-68893   involv agreement elimin border control wester...  \n",
      "FBIS4-66185   involv agreement elimin border control wester...  \n",
      "FBIS3-40524   involv agreement elimin border control wester...  \n",
      "FBIS3-43160   involv agreement elimin border control wester...  \n",
      "FBIS3-43214   involv agreement elimin border control wester...  \n",
      "FBIS4-68275   involv agreement elimin border control wester...  \n",
      "FBIS4-23662   involv agreement elimin border control wester...  \n",
      "FBIS4-43047   involv schengen agreement elimin border contr...  \n",
      "FBIS4-19      involv agreement elimin border control wester...  \n",
      "FBIS4-67533   involv agreement elimin border control wester...  \n",
      "FBIS3-43132   involv agreement elimin border control wester...  \n",
      "FBIS3-41975   involv agreement elimin border control wester...  \n"
     ]
    },
    {
     "name": "stderr",
     "output_type": "stream",
     "text": [
      "Querying your system, brother:  20%|██        | 10/50 [04:18<17:12, 25.81s/it]"
     ]
    },
    {
     "name": "stdout",
     "output_type": "stream",
     "text": [
      "<Query 411 “Find information on shipwreck salvaging: the recov ...”>\n",
      "<class '__main__.Query'>\n",
      "Query:  ['find', 'inform', 'shipwreck', 'salvag', 'recoveri', 'attempt', 'recoveri', 'treasur', 'sunken', 'ship']\n",
      "                         Values  Rank  \\\n",
      "ID                                      \n",
      "FBIS4-66382          Undertakin   8.0   \n",
      "FBIS4-67533        CSO \\n\\n       8.0   \n",
      "FBIS3-24469          Language:    7.0   \n",
      "FBIS4-66185        CSO \\n\\n       7.0   \n",
      "FBIS3-41666          Federation   6.0   \n",
      "FR941019-0-00079    Wednesday\\n   6.0   \n",
      "FT922-4205           ON THE sta   6.0   \n",
      "FBIS4-47609          Table        6.0   \n",
      "LA011589-0005        What follo   6.0   \n",
      "FBIS3-61057          Language:    6.0   \n",
      "FBIS3-43132          JAPAN:       6.0   \n",
      "FR940927-0-00113  Tuesday\\n\\n\\n   6.0   \n",
      "FBIS3-43186          JAPAN:       6.0   \n",
      "FR940511-0-00076     (b) Applic   6.0   \n",
      "FR941206-1-00134  Tuesday\\n\\n\\n   6.0   \n",
      "FT934-5058           Mr Deputy    5.0   \n",
      "LA062689-0025        Despite it   5.0   \n",
      "FBIS4-46649          1-464 FOR    5.0   \n",
      "LA072990-0083        Sandy Reed   5.0   \n",
      "LA121190-0074        Armand Ham   5.0   \n",
      "\n",
      "                                                            Matches  \n",
      "ID                                                                   \n",
      "FBIS4-66382        find inform salvag recoveri attempt treasur s...  \n",
      "FBIS4-67533        find inform salvag recoveri attempt treasur s...  \n",
      "FBIS3-24469         find inform salvag recoveri attempt sunken ship  \n",
      "FBIS4-66185        find inform salvag recoveri attempt treasur ship  \n",
      "FBIS3-41666               find inform recoveri attempt treasur ship  \n",
      "FR941019-0-00079          find inform recoveri attempt treasur ship  \n",
      "FT922-4205            find shipwreck salvag recoveri treasur sunken  \n",
      "FBIS4-47609               find inform recoveri attempt treasur ship  \n",
      "LA011589-0005               find inform salvag attempt treasur ship  \n",
      "FBIS3-61057                  find inform salvag attempt sunken ship  \n",
      "FBIS3-43132                find inform salvag recoveri attempt ship  \n",
      "FR940927-0-00113          find inform recoveri attempt treasur ship  \n",
      "FBIS3-43186                find inform salvag recoveri attempt ship  \n",
      "FR940511-0-00076      find inform shipwreck salvag recoveri attempt  \n",
      "FR941206-1-00134           find inform salvag recoveri attempt ship  \n",
      "FT934-5058                        find inform recoveri attempt ship  \n",
      "LA062689-0025                      find inform attempt treasur ship  \n",
      "FBIS4-46649                       find inform recoveri attempt ship  \n",
      "LA072990-0083                      find inform attempt treasur ship  \n",
      "LA121190-0074                  find salvag recoveri attempt treasur  \n"
     ]
    },
    {
     "name": "stderr",
     "output_type": "stream",
     "text": [
      "Querying your system, brother:  22%|██▏       | 11/50 [04:37<15:33, 23.94s/it]"
     ]
    },
    {
     "name": "stdout",
     "output_type": "stream",
     "text": [
      "<Query 412 “What security measures are in effect or are propos ...”>\n",
      "<class '__main__.Query'>\n",
      "Query:  ['secur', 'measur', 'effect', 'propos', 'go', 'effect', 'airport']\n",
      "                      Values  Rank                              Matches\n",
      "ID                                                                     \n",
      "FBIS4-66382       Undertakin   5.0   secur measur effect propos airport\n",
      "LA121089-0204     Kaolelo Ul   5.0      measur effect propos go airport\n",
      "FBIS3-31670       Language:    5.0   secur measur effect propos airport\n",
      "FBIS4-2734        BFN [Xinji   5.0   secur measur effect propos airport\n",
      "FBIS4-46857       BFN [Comme   5.0   secur measur effect propos airport\n",
      "FBIS3-20481       Language:    5.0   secur measur effect propos airport\n",
      "FBIS4-4375        BFN [Speec   5.0   secur measur effect propos airport\n",
      "FBIS3-40497       Low-Pollut   5.0   secur measur effect propos airport\n",
      "LA020989-0133     When crude   5.0   secur measur effect propos airport\n",
      "FR940324-2-00137  Passenger    5.0   secur measur effect propos airport\n",
      "FBIS4-66662       CSO [Artic   5.0   secur measur effect propos airport\n",
      "FBIS3-31672       Language:    5.0   secur measur effect propos airport\n",
      "FBIS4-44356       BFN [EC Do   5.0   secur measur effect propos airport\n",
      "FBIS4-47613       Europe       5.0   secur measur effect propos airport\n",
      "FBIS4-19125       BFN [State   5.0   secur measur effect propos airport\n",
      "FT931-5888        STEEP cuts   5.0   secur measur effect propos airport\n",
      "FR941206-1-00137  Foreign ai   5.0   secur measur effect propos airport\n",
      "FR940429-2-00116  Passenger    5.0   secur measur effect propos airport\n",
      "FBIS3-51565       Language:    5.0   secur measur effect propos airport\n",
      "FBIS3-2128        Language:    5.0   secur measur effect propos airport\n"
     ]
    },
    {
     "name": "stderr",
     "output_type": "stream",
     "text": [
      "Querying your system, brother:  24%|██▍       | 12/50 [05:06<16:11, 25.56s/it]"
     ]
    },
    {
     "name": "stdout",
     "output_type": "stream",
     "text": [
      "<Query 413 “What are new methods of producing steel?”>\n",
      "<class '__main__.Query'>\n",
      "Query:  ['new', 'method', 'produc', 'steel']\n",
      "                     Values  Rank                   Matches\n",
      "ID                                                         \n",
      "FBIS4-66382      Undertakin   4.0   new method produc steel\n",
      "FBIS3-40065      Language:    4.0   new method produc steel\n",
      "FT923-9281       US STEEL,    4.0   new method produc steel\n",
      "LA062589-0181    Mark and C   4.0   new method produc steel\n",
      "FBIS3-21263      Updated 29   4.0   new method produc steel\n",
      "FT932-7004       Next Septe   4.0   new method produc steel\n",
      "FT932-2344       China's ne   4.0   new method produc steel\n",
      "FBIS4-5167     BFN \\n\\n  [T   4.0   new method produc steel\n",
      "FBIS4-1627       BFN [\"Repo   4.0   new method produc steel\n",
      "LA051390-0165    If there w   4.0   new method produc steel\n",
      "FBIS3-45822      Language:    4.0   new method produc steel\n",
      "FT922-9093       ALONG THE    4.0   new method produc steel\n",
      "FT923-1121       THE FIRST    4.0   new method produc steel\n",
      "LA092489-0060    QUESTION:    4.0   new method produc steel\n",
      "FBIS3-21356      Language:    4.0   new method produc steel\n",
      "FBIS4-5349       BFN [Repor   4.0   new method produc steel\n",
      "FBIS3-27049      Language:    4.0   new method produc steel\n",
      "FBIS3-43012      Language:    4.0   new method produc steel\n",
      "FBIS3-40341      Language:    4.0   new method produc steel\n",
      "FBIS4-21403      CSO [Artic   4.0   new method produc steel\n"
     ]
    },
    {
     "name": "stderr",
     "output_type": "stream",
     "text": [
      "Querying your system, brother:  26%|██▌       | 13/50 [05:33<15:57, 25.88s/it]"
     ]
    },
    {
     "name": "stdout",
     "output_type": "stream",
     "text": [
      "<Query 414 “How much sugar does Cuba export and which countrie ...”>\n",
      "<class '__main__.Query'>\n",
      "Query:  ['much', 'sugar', 'doe', 'cuba', 'export', 'countri', 'import']\n",
      "                     Values  Rank                                     Matches\n",
      "ID                                                                           \n",
      "LA031490-0104    Sandinista   7.0   much sugar doe cuba export countri import\n",
      "LA022790-0098    The Bush A   7.0   much sugar doe cuba export countri import\n",
      "FBIS3-32536      Language:    7.0   much sugar doe cuba export countri import\n",
      "FBIS4-33295      CSO [Artic   7.0   much sugar doe cuba export countri import\n",
      "FBIS4-34971    BFN \\n\\n       7.0   much sugar doe cuba export countri import\n",
      "FBIS4-47156      CSO [Comme   7.0   much sugar doe cuba export countri import\n",
      "FBIS3-50510      Article      7.0   much sugar doe cuba export countri import\n",
      "FBIS4-68893      CSO [Forew   7.0   much sugar doe cuba export countri import\n",
      "FBIS4-68782      [Signed to   7.0   much sugar doe cuba export countri import\n",
      "FBIS4-11284      BFN [Inter   7.0   much sugar doe cuba export countri import\n",
      "FBIS3-32199      Language:    7.0   much sugar doe cuba export countri import\n",
      "FBIS3-50564      Language:    7.0   much sugar doe cuba export countri import\n",
      "FBIS4-33690      BFN [Edito   7.0   much sugar doe cuba export countri import\n",
      "FBIS3-51398      Language:    7.0   much sugar doe cuba export countri import\n",
      "FT944-15442      Something    6.0        much sugar doe export countri import\n",
      "FBIS3-29         Foreign      6.0        much sugar doe export countri import\n",
      "FBIS4-47630      Europe       6.0        much sugar doe export countri import\n",
      "FBIS3-10740      Language:    6.0         much doe cuba export countri import\n",
      "LA052889-0096    Although i   6.0        much sugar doe export countri import\n",
      "FBIS4-31030    BFN \\n\\n  LO   6.0        much sugar doe export countri import\n"
     ]
    },
    {
     "name": "stderr",
     "output_type": "stream",
     "text": [
      "Querying your system, brother:  28%|██▊       | 14/50 [06:08<17:11, 28.64s/it]"
     ]
    },
    {
     "name": "stdout",
     "output_type": "stream",
     "text": [
      "<Query 415 “What is known about drug trafficking in the \"Golde ...”>\n",
      "<class '__main__.Query'>\n",
      "Query:  ['known', 'drug', 'traffick', \"''\", 'golden', 'triangl', \"''\", 'area', 'burma', 'thailand', 'lao', 'meet']\n",
      "                     Values  Rank  \\\n",
      "ID                                  \n",
      "FT921-3152       THE BURMES  10.0   \n",
      "FBIS3-21886      Language:   10.0   \n",
      "FBIS3-41211      Language:   10.0   \n",
      "FBIS3-28711      Language:    9.0   \n",
      "FBIS4-26800    BFN \\n\\n  [T   9.0   \n",
      "FBIS3-41250      Language:    9.0   \n",
      "FBIS4-66983      CSO [Repor   9.0   \n",
      "LA010189-0079    In northea   8.0   \n",
      "FBIS3-33963      Language:    8.0   \n",
      "FBIS3-41174      Language:    8.0   \n",
      "FBIS4-67209      BFN [By Su   8.0   \n",
      "LA043090-0142    At first b   8.0   \n",
      "FBIS4-30503    BFN \\n\\n  [T   8.0   \n",
      "FBIS4-26397    BFN \\n\\n  [T   8.0   \n",
      "FT921-3261       BURMA, Tha   8.0   \n",
      "FBIS3-60083      Language:    8.0   \n",
      "FBIS3-60189      Language:    8.0   \n",
      "FBIS4-1796     BFN \\n\\n       8.0   \n",
      "FBIS3-21611      Language:    8.0   \n",
      "FBIS3-9994       Language:    8.0   \n",
      "\n",
      "                                                         Matches  \n",
      "ID                                                                \n",
      "FT921-3152      known drug traffick golden triangl area burma...  \n",
      "FBIS3-21886     known drug traffick golden triangl area burma...  \n",
      "FBIS3-41211     known drug traffick golden triangl area burma...  \n",
      "FBIS3-28711     known drug traffick golden triangl burma thai...  \n",
      "FBIS4-26800     drug traffick golden triangl area burma thail...  \n",
      "FBIS3-41250     known drug traffick golden triangl burma thai...  \n",
      "FBIS4-66983     known drug golden triangl area burma thailand...  \n",
      "LA010189-0079   drug traffick golden triangl area burma thail...  \n",
      "FBIS3-33963     known drug traffick golden triangl area burma...  \n",
      "FBIS3-41174     known drug traffick golden triangl area burma...  \n",
      "FBIS4-67209     drug traffick golden triangl area burma thail...  \n",
      "LA043090-0142   drug golden triangl area burma thailand lao meet  \n",
      "FBIS4-30503     drug traffick golden triangl area burma thail...  \n",
      "FBIS4-26397     drug traffick golden triangl area burma thail...  \n",
      "FT921-3261      drug traffick golden triangl burma thailand l...  \n",
      "FBIS3-60083     drug traffick golden triangl area burma thail...  \n",
      "FBIS3-60189     drug traffick golden triangl burma thailand l...  \n",
      "FBIS4-1796      drug traffick golden triangl area burma lao meet  \n",
      "FBIS3-21611     drug traffick golden triangl area burma thail...  \n",
      "FBIS3-9994      drug traffick golden triangl area burma thail...  \n"
     ]
    },
    {
     "name": "stderr",
     "output_type": "stream",
     "text": [
      "Querying your system, brother:  30%|███       | 15/50 [06:31<15:39, 26.84s/it]"
     ]
    },
    {
     "name": "stdout",
     "output_type": "stream",
     "text": [
      "<Query 416 “What is the status of The Three Gorges Project?”>\n",
      "<class '__main__.Query'>\n",
      "Query:  ['statu', 'three', 'gorg', 'project']\n",
      "                        Values  Rank                    Matches\n",
      "ID                                                             \n",
      "FBIS4-47629         Table        4.0   statu three gorg project\n",
      "FBIS4-67533       CSO \\n\\n       4.0   statu three gorg project\n",
      "FBIS3-26359         Language:    4.0   statu three gorg project\n",
      "FBIS4-46649         1-464 FOR    4.0   statu three gorg project\n",
      "FBIS3-11          SUMMARY \\n\\n   4.0   statu three gorg project\n",
      "FBIS4-1843          BFN [Sichu   4.0   statu three gorg project\n",
      "FBIS4-25951         BFN [By Zh   4.0   statu three gorg project\n",
      "FBIS3-41666         Federation   4.0   statu three gorg project\n",
      "FBIS4-20472         Policy (Wh   4.0   statu three gorg project\n",
      "FBIS4-66185       CSO \\n\\n       4.0   statu three gorg project\n",
      "LA031989-0066       Shortly af   4.0   statu three gorg project\n",
      "FT944-6438          A bronze s   4.0   statu three gorg project\n",
      "FBIS3-3515          Language:    4.0   statu three gorg project\n",
      "FT933-5404          Frills are   3.0        statu three project\n",
      "FT941-12860         China and    3.0         three gorg project\n",
      "FR940314-1-00034    The petiti   3.0        statu three project\n",
      "LA083189-0120       In Septemb   3.0        statu three project\n",
      "FBIS3-40200         Language:    3.0        statu three project\n",
      "FBIS4-67558         BFN [Artic   3.0        statu three project\n",
      "FT944-15866         Mr Jose Ro   3.0        statu three project\n"
     ]
    },
    {
     "name": "stderr",
     "output_type": "stream",
     "text": [
      "Querying your system, brother:  32%|███▏      | 16/50 [06:47<13:24, 23.67s/it]"
     ]
    },
    {
     "name": "stdout",
     "output_type": "stream",
     "text": [
      "<Query 417 “Find ways of measuring creativity.”>\n",
      "<class '__main__.Query'>\n",
      "Query:  ['find', 'way', 'measur', 'creativ']\n",
      "                    Values  Rank                   Matches\n",
      "ID                                                        \n",
      "FBIS3-59506     Language:    4.0   find way measur creativ\n",
      "LA032689-0053   Values flo   4.0   find way measur creativ\n",
      "LA091690-0207   IT'S LATE    4.0   find way measur creativ\n",
      "FBIS3-21193     Language:    4.0   find way measur creativ\n",
      "FBIS3-43003     Language:    4.0   find way measur creativ\n",
      "FBIS4-46584     CSO [Artic   4.0   find way measur creativ\n",
      "FBIS4-46897     CSO [Inter   4.0   find way measur creativ\n",
      "LA070289-0152   While the    4.0   find way measur creativ\n",
      "FBIS3-30086     Language:    4.0   find way measur creativ\n",
      "FBIS3-23987     Language:    4.0   find way measur creativ\n",
      "FBIS4-44407     CSO [Artic   4.0   find way measur creativ\n",
      "FT932-15955     IF ALL the   4.0   find way measur creativ\n",
      "LA110289-0085   Five candi   4.0   find way measur creativ\n",
      "FT921-11209     TO BE a po   4.0   find way measur creativ\n",
      "FT944-5797     Brainbox\\nW   4.0   find way measur creativ\n",
      "LA083189-0150   For the la   4.0   find way measur creativ\n",
      "LA120290-0016   Norman's b   4.0   find way measur creativ\n",
      "FBIS4-66269     CSO [Artic   4.0   find way measur creativ\n",
      "LA051489-0210   For nearly   4.0   find way measur creativ\n",
      "FBIS3-10169     Language:    4.0   find way measur creativ\n"
     ]
    },
    {
     "name": "stderr",
     "output_type": "stream",
     "text": [
      "Querying your system, brother:  34%|███▍      | 17/50 [07:05<12:05, 21.99s/it]"
     ]
    },
    {
     "name": "stdout",
     "output_type": "stream",
     "text": [
      "<Query 418 “In what ways have quilts been used to generate inc ...”>\n",
      "<class '__main__.Query'>\n",
      "Query:  ['way', 'quilt', 'use', 'gener', 'incom']\n",
      "                     Values  Rank                     Matches\n",
      "ID                                                           \n",
      "FBIS4-24522      BFN [Speec   5.0   way quilt use gener incom\n",
      "LA052090-0246    THERE IS A   5.0   way quilt use gener incom\n",
      "LA083190-0132    Marine Mas   5.0   way quilt use gener incom\n",
      "FBIS3-21892      Language:    5.0   way quilt use gener incom\n",
      "LA050489-0034    Retirement   5.0   way quilt use gener incom\n",
      "FBIS3-59506      Language:    4.0         way use gener incom\n",
      "FBIS4-56568      BFN [Speec   4.0         way use gener incom\n",
      "FBIS4-19981      BFN [Inter   4.0         way use gener incom\n",
      "LA122690-0029    Tens of mi   4.0         way use gener incom\n",
      "FT933-5770       Some are i   4.0         way use gener incom\n",
      "LA053189-0120    The Depart   4.0         way use gener incom\n",
      "FBIS3-4871       Language:    4.0         way use gener incom\n",
      "FT921-1566       This month   4.0         way use gener incom\n",
      "FBIS3-43072      Language:    4.0         way use gener incom\n",
      "FT933-2591       BAD NEWS f   4.0         way use gener incom\n",
      "FT922-3937       IS THERE A   4.0         way use gener incom\n",
      "FBIS4-20373      CSO [Artic   4.0         way use gener incom\n",
      "FBIS3-22960      Language:    4.0         way use gener incom\n",
      "FBIS4-26541    BFN \\n\\n  [T   4.0         way use gener incom\n",
      "FT932-217        IN POLITIC   4.0         way use gener incom\n"
     ]
    },
    {
     "name": "stderr",
     "output_type": "stream",
     "text": [
      "Querying your system, brother:  36%|███▌      | 18/50 [07:40<13:42, 25.70s/it]"
     ]
    },
    {
     "name": "stdout",
     "output_type": "stream",
     "text": [
      "<Query 419 “What new uses have been developed for old automobi ...”>\n",
      "<class '__main__.Query'>\n",
      "Query:  ['new', 'use', 'develop', 'old', 'automobil', 'tire', 'mean', 'tire', 'recycl']\n",
      "                       Values  Rank  \\\n",
      "ID                                    \n",
      "LA020489-0135      Having she   8.0   \n",
      "LA010289-0021      There's go   8.0   \n",
      "LA011090-0115      Orange Cou   8.0   \n",
      "FBIS3-24678        Table        8.0   \n",
      "FBIS4-20472        Policy (Wh   8.0   \n",
      "FBIS4-44893        Show 94FE0   8.0   \n",
      "LA072090-0133      Ferrari bu   7.0   \n",
      "FBIS4-32817        BFN [News    7.0   \n",
      "FBIS3-22420        Language:    7.0   \n",
      "LA042489-0048      Oliver Cou   7.0   \n",
      "FR940831-2-00166  Appendix \\n   7.0   \n",
      "LA082690-0231      In an inst   7.0   \n",
      "FBIS3-43132        JAPAN:       7.0   \n",
      "FBIS3-43186        JAPAN:       7.0   \n",
      "FBIS3-29           Foreign      7.0   \n",
      "FBIS3-42810        Language:    7.0   \n",
      "FBIS4-22629        CSO [Artic   7.0   \n",
      "FBIS3-40450        Language:    7.0   \n",
      "FBIS4-66162        CSO [Artic   7.0   \n",
      "FR941130-0-00122  Wednesday\\n   7.0   \n",
      "\n",
      "                                                          Matches  \n",
      "ID                                                                 \n",
      "LA020489-0135      new use develop old automobil tire mean recycl  \n",
      "LA010289-0021      new use develop old automobil tire mean recycl  \n",
      "LA011090-0115      new use develop old automobil tire mean recycl  \n",
      "FBIS3-24678        new use develop old automobil tire mean recycl  \n",
      "FBIS4-20472        new use develop old automobil tire mean recycl  \n",
      "FBIS4-44893        new use develop old automobil tire mean recycl  \n",
      "LA072090-0133             new use develop old automobil tire mean  \n",
      "FBIS4-32817                  new use develop old tire mean recycl  \n",
      "FBIS3-22420                  new use develop old tire mean recycl  \n",
      "LA042489-0048          new use develop automobil tire mean recycl  \n",
      "FR940831-2-00166          new use develop old automobil tire mean  \n",
      "LA082690-0231             new use develop old automobil tire mean  \n",
      "FBIS3-43132             new use develop old automobil mean recycl  \n",
      "FBIS3-43186             new use develop old automobil mean recycl  \n",
      "FBIS3-29                  new use develop old automobil tire mean  \n",
      "FBIS3-42810               new use develop old automobil tire mean  \n",
      "FBIS4-22629                  new use develop old tire mean recycl  \n",
      "FBIS3-40450             new use develop old automobil mean recycl  \n",
      "FBIS4-66162               new use develop old automobil tire mean  \n",
      "FR941130-0-00122        new use develop old automobil mean recycl  \n"
     ]
    },
    {
     "name": "stderr",
     "output_type": "stream",
     "text": [
      "Querying your system, brother:  38%|███▊      | 19/50 [08:29<17:01, 32.95s/it]"
     ]
    },
    {
     "name": "stdout",
     "output_type": "stream",
     "text": [
      "<Query 420 “How widespread is carbon monoxide poisoning on a g ...”>\n",
      "<class '__main__.Query'>\n",
      "Query:  ['widespread', 'carbon', 'monoxid', 'poison', 'global', 'scale']\n",
      "                         Values  Rank  \\\n",
      "ID                                      \n",
      "FR940602-1-00023   Thursday\\n\\n   6.0   \n",
      "FBIS3-41666          Federation   6.0   \n",
      "FT921-8131           Environmen   5.0   \n",
      "FBIS3-40497          Low-Pollut   5.0   \n",
      "FBIS4-20472          Policy (Wh   5.0   \n",
      "FR940822-0-00067  Monday\\n\\n\\nA   5.0   \n",
      "FT941-12578          The scale    5.0   \n",
      "FR941130-0-00122    Wednesday\\n   5.0   \n",
      "FBIS4-66382          Undertakin   5.0   \n",
      "LA121089-0232        HEAD Landf   5.0   \n",
      "FBIS4-67533        CSO \\n\\n       4.0   \n",
      "FBIS4-20504          Program 11   4.0   \n",
      "FT934-3768           Anyone in    4.0   \n",
      "FBIS4-23114          Table        4.0   \n",
      "LA043089-0156        Thriving i   4.0   \n",
      "FBIS3-60342          the Former   4.0   \n",
      "FBIS4-66185        CSO \\n\\n       4.0   \n",
      "FBIS3-24469          Language:    4.0   \n",
      "LA111689-0032        Are you am   4.0   \n",
      "FR940112-1-00044    Wednesday\\n   4.0   \n",
      "\n",
      "                                                         Matches  \n",
      "ID                                                                \n",
      "FR940602-1-00023   widespread carbon monoxid poison global scale  \n",
      "FBIS3-41666        widespread carbon monoxid poison global scale  \n",
      "FT921-8131               widespread carbon monoxid poison global  \n",
      "FBIS3-40497                widespread carbon poison global scale  \n",
      "FBIS4-20472                widespread carbon poison global scale  \n",
      "FR940822-0-00067           widespread carbon poison global scale  \n",
      "FT941-12578               widespread carbon monoxid global scale  \n",
      "FR941130-0-00122          widespread carbon monoxid poison scale  \n",
      "FBIS4-66382               widespread carbon monoxid global scale  \n",
      "LA121089-0232                 carbon monoxid poison global scale  \n",
      "FBIS4-67533                           carbon poison global scale  \n",
      "FBIS4-20504                       widespread carbon global scale  \n",
      "FT934-3768                           carbon monoxid global scale  \n",
      "FBIS4-23114                       widespread carbon global scale  \n",
      "LA043089-0156                   widespread carbon monoxid global  \n",
      "FBIS3-60342                       widespread poison global scale  \n",
      "FBIS4-66185                       widespread carbon global scale  \n",
      "FBIS3-24469                          carbon monoxid poison scale  \n",
      "LA111689-0032                     widespread carbon poison scale  \n",
      "FR940112-1-00044                widespread carbon monoxid poison  \n"
     ]
    },
    {
     "name": "stderr",
     "output_type": "stream",
     "text": [
      "Querying your system, brother:  40%|████      | 20/50 [08:34<12:09, 24.30s/it]"
     ]
    },
    {
     "name": "stdout",
     "output_type": "stream",
     "text": [
      "<Query 421 “How is the disposal of industrial waste being acco ...”>\n",
      "<class '__main__.Query'>\n",
      "Query:  ['dispos', 'industri', 'wast', 'accomplish', 'industri', 'manag', 'throughout', 'world']\n",
      "                        Values  Rank  \\\n",
      "ID                                     \n",
      "FR940602-1-00023  Thursday\\n\\n   7.0   \n",
      "FBIS4-44724         CSO [Artic   7.0   \n",
      "FBIS4-31787         BFN [Text    7.0   \n",
      "FBIS3-60336         Decisions    7.0   \n",
      "FBIS3-13309         Language:    7.0   \n",
      "FBIS4-1866          BFN [Shand   7.0   \n",
      "FBIS3-43186         JAPAN:       7.0   \n",
      "FBIS3-24648         BOOKS,  JO   7.0   \n",
      "FBIS3-4210          Language:    7.0   \n",
      "FBIS3-23561         Article      7.0   \n",
      "FBIS3-43196         Europe       7.0   \n",
      "FBIS3-37944         Language:    7.0   \n",
      "FBIS3-13223         Language:    7.0   \n",
      "FBIS3-43142         Europe       7.0   \n",
      "FR940804-1-00057  Thursday\\n\\n   7.0   \n",
      "FBIS4-58121         BFN [Speec   7.0   \n",
      "FBIS4-22629         CSO [Artic   7.0   \n",
      "FBIS4-49021         BFN [Repor   7.0   \n",
      "FBIS3-29            Foreign      7.0   \n",
      "FBIS3-58            Table        7.0   \n",
      "\n",
      "                                                            Matches  \n",
      "ID                                                                   \n",
      "FR940602-1-00023   dispos industri wast accomplish manag through...  \n",
      "FBIS4-44724        dispos industri wast accomplish manag through...  \n",
      "FBIS4-31787        dispos industri wast accomplish manag through...  \n",
      "FBIS3-60336        dispos industri wast accomplish manag through...  \n",
      "FBIS3-13309        dispos industri wast accomplish manag through...  \n",
      "FBIS4-1866         dispos industri wast accomplish manag through...  \n",
      "FBIS3-43186        dispos industri wast accomplish manag through...  \n",
      "FBIS3-24648        dispos industri wast accomplish manag through...  \n",
      "FBIS3-4210         dispos industri wast accomplish manag through...  \n",
      "FBIS3-23561        dispos industri wast accomplish manag through...  \n",
      "FBIS3-43196        dispos industri wast accomplish manag through...  \n",
      "FBIS3-37944        dispos industri wast accomplish manag through...  \n",
      "FBIS3-13223        dispos industri wast accomplish manag through...  \n",
      "FBIS3-43142        dispos industri wast accomplish manag through...  \n",
      "FR940804-1-00057   dispos industri wast accomplish manag through...  \n",
      "FBIS4-58121        dispos industri wast accomplish manag through...  \n",
      "FBIS4-22629        dispos industri wast accomplish manag through...  \n",
      "FBIS4-49021        dispos industri wast accomplish manag through...  \n",
      "FBIS3-29           dispos industri wast accomplish manag through...  \n",
      "FBIS3-58           dispos industri wast accomplish manag through...  \n"
     ]
    },
    {
     "name": "stderr",
     "output_type": "stream",
     "text": [
      "Querying your system, brother:  42%|████▏     | 21/50 [09:05<12:51, 26.60s/it]"
     ]
    },
    {
     "name": "stdout",
     "output_type": "stream",
     "text": [
      "<Query 422 “What incidents have there been of stolen or forged ...”>\n",
      "<class '__main__.Query'>\n",
      "Query:  ['incid', 'stolen', 'forg', 'art']\n",
      "                        Values  Rank                 Matches\n",
      "ID                                                          \n",
      "LA092489-0079       Today an e   4.0   incid stolen forg art\n",
      "FBIS3-24145         Language:    4.0   incid stolen forg art\n",
      "LA041689-0134       When veter   4.0   incid stolen forg art\n",
      "LA123190-0042       There's go   4.0   incid stolen forg art\n",
      "FT944-14427         UNDER MY S   3.0          incid forg art\n",
      "LA020790-0088       Listen to    3.0         stolen forg art\n",
      "FBIS3-24152         Language:    3.0         stolen forg art\n",
      "LA031989-0036       Of course,   3.0         stolen forg art\n",
      "FBIS4-24633       BFN \\n\\n       3.0         stolen forg art\n",
      "LA010990-0001       Jesse Jame   3.0       incid stolen forg\n",
      "FBIS3-24197         Language:    3.0         stolen forg art\n",
      "FBIS4-1843          BFN [Sichu   3.0          incid forg art\n",
      "FT922-3656          It is not    3.0       incid stolen forg\n",
      "FBIS3-44708         Language:    3.0          incid forg art\n",
      "LA032090-0091       The wood-p   3.0        incid stolen art\n",
      "FBIS4-4816          BFN [Repor   3.0         stolen forg art\n",
      "FR940602-1-00023  Thursday\\n\\n   3.0          incid forg art\n",
      "FBIS3-26651         Language:    3.0       incid stolen forg\n",
      "LA061790-0235       Sitting pr   3.0         stolen forg art\n",
      "FBIS4-27085         BFN [Repor   3.0          incid forg art\n"
     ]
    },
    {
     "name": "stderr",
     "output_type": "stream",
     "text": [
      "Querying your system, brother:  44%|████▍     | 22/50 [09:10<09:16, 19.86s/it]"
     ]
    },
    {
     "name": "stdout",
     "output_type": "stream",
     "text": [
      "<Query 423 “Find references to Milosevic's wife, Mirjana Marko ...”>\n",
      "<class '__main__.Query'>\n",
      "Query:  ['find', 'refer', 'milosev', \"'s\", 'wife', 'mirjana', 'markov']\n",
      "                   Values  Rank                                  Matches\n",
      "ID                                                                      \n",
      "FBIS4-32111    BFN [Artic   6.0   find refer milosev wife mirjana markov\n",
      "FT943-7734     With an un   6.0   find refer milosev wife mirjana markov\n",
      "FT942-13554    Duga, the    5.0         find milosev wife mirjana markov\n",
      "FT942-11666    Calls for    5.0         find milosev wife mirjana markov\n",
      "FBIS3-30431    Language:    5.0        refer milosev wife mirjana markov\n",
      "FBIS4-8497     CSO [Artic   5.0        refer milosev wife mirjana markov\n",
      "FBIS4-30835    BFN [Inter   4.0                  find refer milosev wife\n",
      "FT944-8386     We are in    4.0                   find refer wife markov\n",
      "FBIS4-32072  CSO \\n\\n       4.0              milosev wife mirjana markov\n",
      "FBIS3-8272     Language:    4.0                find refer milosev markov\n",
      "FBIS4-8644     BFN [Inter   4.0                refer milosev wife markov\n",
      "FT933-2528     Mr Radovan   4.0              milosev wife mirjana markov\n",
      "FBIS4-55912  CSO \\n\\n       4.0                find refer milosev markov\n",
      "FBIS3-2        INTRODUCTI   4.0              milosev wife mirjana markov\n",
      "FBIS3-59479    Language:    4.0                find refer milosev markov\n",
      "FBIS3-49035    Language:    4.0               find refer milosev mirjana\n",
      "FBIS4-55493    BFN [Inter   4.0                 find milosev wife markov\n",
      "FBIS4-30975    CSO [Artic   4.0              milosev wife mirjana markov\n",
      "FBIS4-55851  BFN \\n\\n       4.0              milosev wife mirjana markov\n",
      "FT944-439      Once denou   4.0              milosev wife mirjana markov\n"
     ]
    },
    {
     "name": "stderr",
     "output_type": "stream",
     "text": [
      "Querying your system, brother:  46%|████▌     | 23/50 [09:19<07:32, 16.77s/it]"
     ]
    },
    {
     "name": "stdout",
     "output_type": "stream",
     "text": [
      "<Query 424 “Give examples of alleged suicides that aroused sus ...”>\n",
      "<class '__main__.Query'>\n",
      "Query:  ['give', 'exampl', 'alleg', 'suicid', 'arous', 'suspicion', 'death', 'actual', 'murder']\n",
      "                   Values  Rank  \\\n",
      "ID                                \n",
      "LA020189-0108  When she w   8.0   \n",
      "FBIS3-13962    Language:    8.0   \n",
      "FBIS4-68275    CSO [Book    8.0   \n",
      "FBIS4-31681    CSO [Inter   7.0   \n",
      "LA091690-0206  SMURF C WA   7.0   \n",
      "FT922-7713     THE arcane   7.0   \n",
      "FBIS4-58121    BFN [Speec   7.0   \n",
      "LA020490-0003  The Hollyw   7.0   \n",
      "LA093090-0066  ' \"This ca   7.0   \n",
      "LA012490-0173  On a sprin   7.0   \n",
      "FBIS4-47008    CSO [Inter   6.0   \n",
      "FBIS3-24469    Language:    6.0   \n",
      "FBIS3-39883    Language:    6.0   \n",
      "FBIS4-1628     BFN [\"Work   6.0   \n",
      "LA050789-0008  JAMES A. V   6.0   \n",
      "LA040890-0248  THE GUNS B   6.0   \n",
      "LA060489-0006  IN HER AIR   6.0   \n",
      "LA011090-0058  The full s   6.0   \n",
      "FBIS3-60959    Language:    6.0   \n",
      "LA092390-0185  When Marti   6.0   \n",
      "\n",
      "                                                         Matches  \n",
      "ID                                                                \n",
      "LA020189-0108   give exampl alleg suicid suspicion death actu...  \n",
      "FBIS3-13962     give exampl alleg arous suspicion death actua...  \n",
      "FBIS4-68275     give exampl alleg suicid suspicion death actu...  \n",
      "FBIS4-31681      give exampl alleg suspicion death actual murder  \n",
      "LA091690-0206    give exampl alleg suspicion death actual murder  \n",
      "FT922-7713        give exampl alleg arous suspicion death murder  \n",
      "FBIS4-58121      give exampl alleg arous suspicion actual murder  \n",
      "LA020490-0003       give exampl suicid arous death actual murder  \n",
      "LA093090-0066       give exampl alleg suicid death actual murder  \n",
      "LA012490-0173       give exampl suicid arous death actual murder  \n",
      "FBIS4-47008                give exampl alleg death actual murder  \n",
      "FBIS3-24469                give exampl alleg suicid death actual  \n",
      "FBIS3-39883               give exampl suicid death actual murder  \n",
      "FBIS4-1628                 give exampl alleg death actual murder  \n",
      "LA050789-0008              give exampl alleg death actual murder  \n",
      "LA040890-0248              give exampl alleg death actual murder  \n",
      "LA060489-0006              give exampl alleg death actual murder  \n",
      "LA011090-0058          give exampl suspicion death actual murder  \n",
      "FBIS3-60959             give exampl arous suspicion death actual  \n",
      "LA092390-0185          give exampl suspicion death actual murder  \n"
     ]
    },
    {
     "name": "stderr",
     "output_type": "stream",
     "text": [
      "Querying your system, brother:  48%|████▊     | 24/50 [09:36<07:17, 16.84s/it]"
     ]
    },
    {
     "name": "stdout",
     "output_type": "stream",
     "text": [
      "<Query 425 “What counterfeiting of money is being done in mode ...”>\n",
      "<class '__main__.Query'>\n",
      "Query:  ['counterfeit', 'money', 'done', 'modern', 'time']\n",
      "                   Values  Rank                              Matches\n",
      "ID                                                                  \n",
      "FBIS4-20770    CSO [Artic   5.0   counterfeit money done modern time\n",
      "FBIS3-67       Foreign      5.0   counterfeit money done modern time\n",
      "FBIS4-2721     BFN [Repor   5.0   counterfeit money done modern time\n",
      "FBIS4-58610    CSO [All f   5.0   counterfeit money done modern time\n",
      "FBIS4-49107    BFN [\"Exce   5.0   counterfeit money done modern time\n",
      "FBIS3-46614    Language:    5.0   counterfeit money done modern time\n",
      "FBIS4-20472    Policy (Wh   5.0   counterfeit money done modern time\n",
      "FBIS4-46889    CSO [Accou   5.0   counterfeit money done modern time\n",
      "FBIS4-1843     BFN [Sichu   5.0   counterfeit money done modern time\n",
      "FBIS3-24145    Language:    5.0   counterfeit money done modern time\n",
      "FT931-12092    PARIS IS t   5.0   counterfeit money done modern time\n",
      "FBIS4-31787    BFN [Text    5.0   counterfeit money done modern time\n",
      "FBIS3-29       Foreign      5.0   counterfeit money done modern time\n",
      "FT934-15738    BRITAIN se   4.0               money done modern time\n",
      "LA041689-0225  In 1987, w   4.0               money done modern time\n",
      "LA073190-0125  \"Yeah, the   4.0               money done modern time\n",
      "LA121989-0130  \"When it c   4.0               money done modern time\n",
      "FBIS3-40162    Language:    4.0               money done modern time\n",
      "LA122689-0149  Quietly at   4.0               money done modern time\n",
      "LA050390-0216  Everbody t   4.0               money done modern time\n"
     ]
    },
    {
     "name": "stderr",
     "output_type": "stream",
     "text": [
      "Querying your system, brother:  50%|█████     | 25/50 [10:01<08:00, 19.21s/it]"
     ]
    },
    {
     "name": "stdout",
     "output_type": "stream",
     "text": [
      "<Query 426 “Provide information on the use of dogs worldwide f ...”>\n",
      "<class '__main__.Query'>\n",
      "Query:  ['provid', 'inform', 'use', 'dog', 'worldwid', 'law', 'enforc', 'purpos']\n",
      "                        Values  Rank  \\\n",
      "ID                                     \n",
      "FBIS4-66382         Undertakin   8.0   \n",
      "FBIS4-66185       CSO \\n\\n       8.0   \n",
      "FBIS3-36078         Language:    8.0   \n",
      "FR940602-1-00023  Thursday\\n\\n   8.0   \n",
      "FR941130-0-00122   Wednesday\\n   7.0   \n",
      "FR940324-2-00020    Office of    7.0   \n",
      "FBIS4-404           BFN [State   7.0   \n",
      "FBIS3-43132         JAPAN:       7.0   \n",
      "FR940112-1-00044   Wednesday\\n   7.0   \n",
      "FBIS3-51695         Language:    7.0   \n",
      "FBIS3-48483         Language:    7.0   \n",
      "FBIS3-22833         Language:    7.0   \n",
      "FBIS4-9354          BFN [\"Text   7.0   \n",
      "FR940406-0-00093    DEPARTMENT   7.0   \n",
      "FBIS3-43186         JAPAN:       7.0   \n",
      "FBIS4-22377         Narcotics    7.0   \n",
      "FBIS4-1860          BFN [Guang   7.0   \n",
      "FBIS3-20900         Language:    7.0   \n",
      "FBIS3-72            This     S   7.0   \n",
      "FR940804-1-00057  Thursday\\n\\n   7.0   \n",
      "\n",
      "                                                            Matches  \n",
      "ID                                                                   \n",
      "FBIS4-66382        provid inform use dog worldwid law enforc purpos  \n",
      "FBIS4-66185        provid inform use dog worldwid law enforc purpos  \n",
      "FBIS3-36078        provid inform use dog worldwid law enforc purpos  \n",
      "FR940602-1-00023   provid inform use dog worldwid law enforc purpos  \n",
      "FR941130-0-00122            provid inform use dog law enforc purpos  \n",
      "FR940324-2-00020       provid inform use worldwid law enforc purpos  \n",
      "FBIS4-404              provid inform use worldwid law enforc purpos  \n",
      "FBIS3-43132            provid inform use worldwid law enforc purpos  \n",
      "FR940112-1-00044            provid inform use dog law enforc purpos  \n",
      "FBIS3-51695            provid inform use worldwid law enforc purpos  \n",
      "FBIS3-48483            provid inform use worldwid law enforc purpos  \n",
      "FBIS3-22833               provid inform use dog worldwid law purpos  \n",
      "FBIS4-9354             provid inform use worldwid law enforc purpos  \n",
      "FR940406-0-00093       provid inform use worldwid law enforc purpos  \n",
      "FBIS3-43186            provid inform use worldwid law enforc purpos  \n",
      "FBIS4-22377            provid inform use worldwid law enforc purpos  \n",
      "FBIS4-1860             provid inform use worldwid law enforc purpos  \n",
      "FBIS3-20900            provid inform use worldwid law enforc purpos  \n",
      "FBIS3-72               provid inform use worldwid law enforc purpos  \n",
      "FR940804-1-00057       provid inform use worldwid law enforc purpos  \n"
     ]
    },
    {
     "name": "stderr",
     "output_type": "stream",
     "text": [
      "Querying your system, brother:  52%|█████▏    | 26/50 [10:40<10:01, 25.05s/it]"
     ]
    },
    {
     "name": "stdout",
     "output_type": "stream",
     "text": [
      "<Query 427 “Find documents that discuss the damage ultraviolet ...”>\n",
      "<class '__main__.Query'>\n",
      "Query:  ['find', 'document', 'discuss', 'damag', 'ultraviolet', 'uv', 'light', 'sun', 'eye']\n",
      "                        Values  Rank  \\\n",
      "ID                                     \n",
      "FBIS4-66382         Undertakin   7.0   \n",
      "FBIS3-43132         JAPAN:       7.0   \n",
      "FBIS3-43186         JAPAN:       7.0   \n",
      "LA081990-0198       The road t   7.0   \n",
      "FBIS3-42399         Language:    7.0   \n",
      "FR940112-1-00044   Wednesday\\n   7.0   \n",
      "FBIS4-67533       CSO \\n\\n       7.0   \n",
      "FBIS3-46291         Language:    7.0   \n",
      "FBIS3-23561         Article      7.0   \n",
      "FBIS4-46469         CSO [Book:   7.0   \n",
      "LA081290-0070       KIMON BEAZ   6.0   \n",
      "FBIS4-67877       CSO \\n\\n       6.0   \n",
      "FBIS3-54461         Language:    6.0   \n",
      "FBIS4-50901         BFN [Gover   6.0   \n",
      "LA090789-0051       \"Silence E   6.0   \n",
      "FBIS4-20472         Policy (Wh   6.0   \n",
      "FBIS4-20736         CSO [Part    6.0   \n",
      "FBIS3-40450         Language:    6.0   \n",
      "FBIS3-35189         Language:    6.0   \n",
      "FBIS4-66185       CSO \\n\\n       6.0   \n",
      "\n",
      "                                                            Matches  \n",
      "ID                                                                   \n",
      "FBIS4-66382               find document discuss damag light sun eye  \n",
      "FBIS3-43132               find document discuss damag light sun eye  \n",
      "FBIS3-43186               find document discuss damag light sun eye  \n",
      "LA081990-0198             find document discuss damag light sun eye  \n",
      "FBIS3-42399               find document discuss damag light sun eye  \n",
      "FR940112-1-00044          find document discuss damag light sun eye  \n",
      "FBIS4-67533        find document discuss damag ultraviolet light...  \n",
      "FBIS3-46291               find document discuss damag light sun eye  \n",
      "FBIS3-23561               find document discuss damag light sun eye  \n",
      "FBIS4-46469               find document discuss damag light sun eye  \n",
      "LA081290-0070                 find document discuss damag light eye  \n",
      "FBIS4-67877                   find document discuss damag light eye  \n",
      "FBIS3-54461                   find document discuss damag light eye  \n",
      "FBIS4-50901                   find document discuss damag light eye  \n",
      "LA090789-0051                 find document discuss damag light eye  \n",
      "FBIS4-20472                   find document discuss damag light eye  \n",
      "FBIS4-20736                   find document discuss damag light eye  \n",
      "FBIS3-40450                   find document discuss damag light eye  \n",
      "FBIS3-35189                   find document discuss damag light eye  \n",
      "FBIS4-66185                        find discuss damag light sun eye  \n"
     ]
    },
    {
     "name": "stderr",
     "output_type": "stream",
     "text": [
      "Querying your system, brother:  54%|█████▍    | 27/50 [10:58<08:52, 23.14s/it]"
     ]
    },
    {
     "name": "stdout",
     "output_type": "stream",
     "text": [
      "<Query 428 “Do any countries other than the U.S. and China hav ...”>\n",
      "<class '__main__.Query'>\n",
      "Query:  ['ani', 'countri', 'u.s.', 'china', 'declin', 'birth', 'rate']\n",
      "                     Values  Rank                               Matches\n",
      "ID                                                                     \n",
      "LA041590-0153    In the 20    6.0   ani countri china declin birth rate\n",
      "FBIS4-49862      BFN [Artic   6.0   ani countri china declin birth rate\n",
      "FBIS3-4209       Language:    6.0   ani countri china declin birth rate\n",
      "FBIS3-2516       Language:    6.0   ani countri china declin birth rate\n",
      "FBIS3-30086      Language:    6.0   ani countri china declin birth rate\n",
      "FBIS3-43174      Foreign      6.0   ani countri china declin birth rate\n",
      "FBIS3-14832      Language:    6.0   ani countri china declin birth rate\n",
      "FBIS4-54622    BFN \\n\\n  BO   6.0   ani countri china declin birth rate\n",
      "FBIS3-59343      Language:    6.0   ani countri china declin birth rate\n",
      "LA042990-0214    Fifteen ye   6.0   ani countri china declin birth rate\n",
      "FBIS4-29397      CSO [Artic   6.0   ani countri china declin birth rate\n",
      "FBIS3-35195      Language:    6.0   ani countri china declin birth rate\n",
      "FT943-5505       In the pas   6.0   ani countri china declin birth rate\n",
      "LA122489-0017    THE WORLD    6.0   ani countri china declin birth rate\n",
      "FBIS4-2699       BFN [By Ts   6.0   ani countri china declin birth rate\n",
      "FT943-4010       Nine month   6.0   ani countri china declin birth rate\n",
      "FBIS3-37947      Language:    6.0   ani countri china declin birth rate\n",
      "FBIS4-47629      Table        6.0   ani countri china declin birth rate\n",
      "FBIS4-49021      BFN [Repor   6.0   ani countri china declin birth rate\n",
      "FBIS3-45822      Language:    6.0   ani countri china declin birth rate\n"
     ]
    },
    {
     "name": "stderr",
     "output_type": "stream",
     "text": [
      "Querying your system, brother:  56%|█████▌    | 28/50 [11:33<09:47, 26.70s/it]"
     ]
    },
    {
     "name": "stdout",
     "output_type": "stream",
     "text": [
      "<Query 429 “Identify outbreaks of Legionnaires' disease.”>\n",
      "<class '__main__.Query'>\n",
      "Query:  ['identifi', 'outbreak', 'legionnair', 'diseas']\n",
      "                      Values  Rank                               Matches\n",
      "ID                                                                      \n",
      "FR940202-2-00107  G. Other P   4.0   identifi outbreak legionnair diseas\n",
      "FR940202-2-00110  In hospita   4.0   identifi outbreak legionnair diseas\n",
      "FR940817-0-00002  DEPARTMENT   3.0              identifi outbreak diseas\n",
      "FBIS3-22561       Article      3.0              identifi outbreak diseas\n",
      "FBIS3-60454       Language:    3.0              identifi outbreak diseas\n",
      "FR940318-0-00006  Accordingl   3.0              identifi outbreak diseas\n",
      "LA060890-0001     Southern C   3.0              identifi outbreak diseas\n",
      "LA091790-0001     Henry Voss   3.0              identifi outbreak diseas\n",
      "LA040689-0078     Thorough h   3.0              identifi outbreak diseas\n",
      "LA110689-0060     Stooped an   3.0              identifi outbreak diseas\n",
      "FBIS4-11145       CSO [Artic   3.0            identifi legionnair diseas\n",
      "FR940202-2-00137  251. Holdc   3.0            outbreak legionnair diseas\n",
      "FBIS3-41752       Language:    3.0              identifi outbreak diseas\n",
      "FBIS3-22523       Language:    3.0              identifi outbreak diseas\n",
      "FT942-8336        UK governm   3.0              identifi outbreak diseas\n",
      "LA110389-0072     An outbrea   3.0            outbreak legionnair diseas\n",
      "FR940825-0-00015  7 CFR Part   3.0              identifi outbreak diseas\n",
      "FR940202-2-00102  NNIS repor   3.0              identifi outbreak diseas\n",
      "FBIS3-22518       Language:    3.0              identifi outbreak diseas\n",
      "FBIS3-22534       Article      3.0              identifi outbreak diseas\n"
     ]
    },
    {
     "name": "stderr",
     "output_type": "stream",
     "text": [
      "Querying your system, brother:  58%|█████▊    | 29/50 [11:37<06:55, 19.79s/it]"
     ]
    },
    {
     "name": "stdout",
     "output_type": "stream",
     "text": [
      "<Query 430 “Identify instances of attacks on humans by African ...”>\n",
      "<class '__main__.Query'>\n",
      "Query:  ['identifi', 'instanc', 'attack', 'human', 'african', 'killer', 'bee']\n",
      "                     Values  Rank  \\\n",
      "ID                                  \n",
      "LA011589-0005    What follo   7.0   \n",
      "LA080389-0111    Something    6.0   \n",
      "LA060890-0001    Southern C   6.0   \n",
      "FBIS4-66185    CSO \\n\\n       6.0   \n",
      "FBIS4-1214     BFN \\n\\n  [T   5.0   \n",
      "LA020590-0004    Trapped in   5.0   \n",
      "FBIS3-1509       Language:    5.0   \n",
      "LA112189-0045    It wasn't    5.0   \n",
      "FBIS3-13962      Language:    5.0   \n",
      "LA031190-0011    THERE IS S   5.0   \n",
      "FBIS4-67533    CSO \\n\\n       5.0   \n",
      "FBIS3-36078      Language:    5.0   \n",
      "LA061689-0067    Agricultur   5.0   \n",
      "FBIS3-60342      the Former   5.0   \n",
      "FBIS3-43563      Article      5.0   \n",
      "LA061789-0067    A homeless   5.0   \n",
      "FBIS3-60454      Language:    5.0   \n",
      "LA050789-0065    A bespecta   5.0   \n",
      "LA082889-0040    When Prome   4.0   \n",
      "LA092490-0070    President    4.0   \n",
      "\n",
      "                                                         Matches  \n",
      "ID                                                                \n",
      "LA011589-0005   identifi instanc attack human african killer bee  \n",
      "LA080389-0111           identifi attack human african killer bee  \n",
      "LA060890-0001           identifi attack human african killer bee  \n",
      "FBIS4-66185              instanc attack human african killer bee  \n",
      "FBIS4-1214                 identifi instanc attack human african  \n",
      "LA020590-0004                  identifi human african killer bee  \n",
      "FBIS3-1509                   instanc attack human african killer  \n",
      "LA112189-0045               identifi attack human african killer  \n",
      "FBIS3-13962                 identifi instanc attack human killer  \n",
      "LA031190-0011               identifi instanc attack human killer  \n",
      "FBIS4-67533                identifi instanc attack human african  \n",
      "FBIS3-36078                     instanc attack human african bee  \n",
      "LA061689-0067                 identifi attack african killer bee  \n",
      "FBIS3-60342                identifi instanc attack human african  \n",
      "FBIS3-43563                  instanc attack human african killer  \n",
      "LA061789-0067                    attack human african killer bee  \n",
      "FBIS3-60454                 identifi instanc attack human killer  \n",
      "LA050789-0065               identifi attack human african killer  \n",
      "LA082889-0040                        instanc attack human killer  \n",
      "LA092490-0070                      identifi attack human african  \n"
     ]
    },
    {
     "name": "stderr",
     "output_type": "stream",
     "text": [
      "Querying your system, brother:  60%|██████    | 30/50 [11:46<05:32, 16.63s/it]"
     ]
    },
    {
     "name": "stdout",
     "output_type": "stream",
     "text": [
      "<Query 431 “What are the latest developments in robotic techno ...”>\n",
      "<class '__main__.Query'>\n",
      "Query:  ['latest', 'develop', 'robot', 'technolog']\n",
      "                     Values  Rank                          Matches\n",
      "ID                                                                \n",
      "FBIS3-20888      Language:    4.0   latest develop robot technolog\n",
      "FT911-129        FOR all th   4.0   latest develop robot technolog\n",
      "FT932-3748       Steven Spi   4.0   latest develop robot technolog\n",
      "FT943-8066       Ever since   4.0   latest develop robot technolog\n",
      "FT922-4420       THE world    4.0   latest develop robot technolog\n",
      "FBIS3-43166      JAPAN:       4.0   latest develop robot technolog\n",
      "FBIS4-67877    CSO \\n\\n       4.0   latest develop robot technolog\n",
      "LA082290-0041    George Jet   4.0   latest develop robot technolog\n",
      "FBIS3-58         Table        4.0   latest develop robot technolog\n",
      "FBIS4-20652      Conceptual   4.0   latest develop robot technolog\n",
      "FT923-12755      An interna   4.0   latest develop robot technolog\n",
      "FT941-3758       For two de   4.0   latest develop robot technolog\n",
      "FT941-2542       Dead Holly   4.0   latest develop robot technolog\n",
      "FBIS4-20472      Policy (Wh   4.0   latest develop robot technolog\n",
      "FBIS3-59640      Language:    4.0   latest develop robot technolog\n",
      "FT911-3927       AFTER only   4.0   latest develop robot technolog\n",
      "FT932-13418      When Audi    4.0   latest develop robot technolog\n",
      "FBIS3-43132      JAPAN:       4.0   latest develop robot technolog\n",
      "FBIS4-20504      Program 11   4.0   latest develop robot technolog\n",
      "FBIS3-67         Foreign      4.0   latest develop robot technolog\n"
     ]
    },
    {
     "name": "stderr",
     "output_type": "stream",
     "text": [
      "Querying your system, brother:  62%|██████▏   | 31/50 [12:01<05:07, 16.18s/it]"
     ]
    },
    {
     "name": "stdout",
     "output_type": "stream",
     "text": [
      "<Query 432 “Do police departments use \"profiling\" to stop moto ...”>\n",
      "<class '__main__.Query'>\n",
      "Query:  ['polic', 'depart', 'use', '``', 'profil', \"''\", 'stop', 'motorist']\n",
      "                   Values  Rank                          Matches\n",
      "ID                                                              \n",
      "LA062490-0138  Extraction   5.0     polic depart use profil stop\n",
      "LA021289-0138  Some well-   5.0   polic depart use stop motorist\n",
      "LA081990-0095  Not so lon   5.0   polic depart use stop motorist\n",
      "LA012590-0157  Los Angele   5.0   polic depart use stop motorist\n",
      "LA051090-0134  Facing wha   5.0   polic depart use stop motorist\n",
      "LA083190-0008  San Diegan   5.0   polic depart use stop motorist\n",
      "LA041389-0067  Inglewood'   5.0     polic depart use profil stop\n",
      "LA012089-0090  For the la   5.0   polic depart use stop motorist\n",
      "FT934-5058     Mr Deputy    5.0   polic depart use stop motorist\n",
      "FBIS3-45197    Language:    5.0     polic depart use profil stop\n",
      "FT944-4458     Government   5.0   polic depart use stop motorist\n",
      "LA101989-0134  Still rock   5.0   polic depart use stop motorist\n",
      "LA022690-0089  Dear Stree   5.0   polic depart use stop motorist\n",
      "FBIS3-38225    Language:    5.0     polic depart use profil stop\n",
      "LA092289-0134  A small gr   5.0   polic depart use stop motorist\n",
      "LA032089-0009  Los Angele   5.0   polic depart use stop motorist\n",
      "LA121689-0079  The FBI, a   5.0     polic depart use profil stop\n",
      "LA112390-0111  OK, Thanks   5.0   polic depart use stop motorist\n",
      "LA112590-0155  At a recen   5.0   polic depart use stop motorist\n",
      "FT923-15111    THE French   5.0   polic depart use stop motorist\n"
     ]
    },
    {
     "name": "stderr",
     "output_type": "stream",
     "text": [
      "Querying your system, brother:  64%|██████▍   | 32/50 [12:26<05:35, 18.62s/it]"
     ]
    },
    {
     "name": "stdout",
     "output_type": "stream",
     "text": [
      "<Query 433 “Is there contemporary interest in the Greek philos ...”>\n",
      "<class '__main__.Query'>\n",
      "Query:  ['contemporari', 'interest', 'greek', 'philosophi', 'stoicism']\n",
      "                   Values  Rank                                  Matches\n",
      "ID                                                                      \n",
      "FBIS3-59837    Language:    4.0   contemporari interest greek philosophi\n",
      "LA011589-0005  What follo   4.0   contemporari interest greek philosophi\n",
      "LA031989-0196  What the h   4.0       interest greek philosophi stoicism\n",
      "FT933-3941     THE Royal    4.0   contemporari interest greek philosophi\n",
      "FBIS3-60342    the Former   4.0   contemporari interest greek philosophi\n",
      "FBIS3-42399    Language:    4.0   contemporari interest greek philosophi\n",
      "LA012890-0190  IT IS DECE   4.0   contemporari interest greek philosophi\n",
      "FBIS3-36078    Language:    4.0   contemporari interest greek philosophi\n",
      "FT934-11393    One of the   3.0              contemporari interest greek\n",
      "LA111989-0213  After six    3.0         contemporari interest philosophi\n",
      "LA030689-0029  Once, Pam    3.0         contemporari interest philosophi\n",
      "FBIS3-37947    Language:    3.0         contemporari interest philosophi\n",
      "FBIS3-40283    Language:    3.0                interest greek philosophi\n",
      "LA102890-0125  William Sh   3.0         contemporari interest philosophi\n",
      "FT924-386      CHRISTMAS    3.0              contemporari interest greek\n",
      "LA093090-0064  Once a Hol   3.0         contemporari interest philosophi\n",
      "LA061889-0009  Virtually    3.0              contemporari interest greek\n",
      "LA043089-0194  At times o   3.0         contemporari interest philosophi\n",
      "FT931-5224     WITH THE U   3.0           contemporari interest stoicism\n",
      "LA022389-0090  The psycho   3.0                interest greek philosophi\n"
     ]
    },
    {
     "name": "stderr",
     "output_type": "stream",
     "text": [
      "Querying your system, brother:  66%|██████▌   | 33/50 [12:36<04:34, 16.18s/it]"
     ]
    },
    {
     "name": "stdout",
     "output_type": "stream",
     "text": [
      "<Query 434 “What is the state of the economy of Estonia?”>\n",
      "<class '__main__.Query'>\n",
      "Query:  ['state', 'economi', 'estonia']\n",
      "                     Values  Rank                 Matches\n",
      "ID                                                       \n",
      "FBIS3-61258      p 8 944K05   3.0   state economi estonia\n",
      "FBIS3-42851      Language:    3.0   state economi estonia\n",
      "FBIS3-38333      Language:    3.0   state economi estonia\n",
      "FBIS3-42766      Language:    3.0   state economi estonia\n",
      "FT942-14636      Shortly af   3.0   state economi estonia\n",
      "FBIS4-46790      CSO [Artic   3.0   state economi estonia\n",
      "FBIS3-55112      Language:    3.0   state economi estonia\n",
      "FT934-17320      Western Eu   3.0   state economi estonia\n",
      "FT924-1740       IT WAS bac   3.0   state economi estonia\n",
      "FBIS4-64177    BFN \\n\\n  [T   3.0   state economi estonia\n",
      "FBIS4-68662      CSO [Artic   3.0   state economi estonia\n",
      "FT934-11297      THE CENTRA   3.0   state economi estonia\n",
      "FT911-3287       REBELLIOUS   3.0   state economi estonia\n",
      "FT943-11937      The presid   3.0   state economi estonia\n",
      "FBIS4-68782      [Signed to   3.0   state economi estonia\n",
      "FBIS4-20821    BFN \\n\\n  [T   3.0   state economi estonia\n",
      "FBIS3-23777      Language:    3.0   state economi estonia\n",
      "FBIS4-46811      CSO [Guest   3.0   state economi estonia\n",
      "LA070690-0032    In Poland,   3.0   state economi estonia\n",
      "FBIS3-23781      Language:    3.0   state economi estonia\n"
     ]
    },
    {
     "name": "stderr",
     "output_type": "stream",
     "text": [
      "Querying your system, brother:  68%|██████▊   | 34/50 [12:56<04:38, 17.40s/it]"
     ]
    },
    {
     "name": "stdout",
     "output_type": "stream",
     "text": [
      "<Query 435 “What measures have been taken worldwide and what c ...”>\n",
      "<class '__main__.Query'>\n",
      "Query:  ['measur', 'taken', 'worldwid', 'countri', 'effect', 'curb', 'popul', 'growth']\n",
      "                     Values  Rank  \\\n",
      "ID                                  \n",
      "FBIS3-67         Foreign      8.0   \n",
      "FBIS3-29         Foreign      8.0   \n",
      "FT941-12411      According    8.0   \n",
      "FBIS3-17354      Language:    8.0   \n",
      "FT944-6732       Fears abou   8.0   \n",
      "FBIS3-24653      Table        8.0   \n",
      "FBIS3-24678      Table        8.0   \n",
      "FBIS4-44468      CSO [Artic   8.0   \n",
      "FBIS3-10291      Language:    8.0   \n",
      "FBIS4-67533    CSO \\n\\n       8.0   \n",
      "LA041590-0153    In the 20    8.0   \n",
      "FBIS3-37947      Language:    8.0   \n",
      "FBIS4-4249       BFN [Artic   8.0   \n",
      "FBIS3-5105       Language:    7.0   \n",
      "FBIS4-22685      CSO [Inter   7.0   \n",
      "FT932-1558       One year a   7.0   \n",
      "FBIS4-50133      BFN [Artic   7.0   \n",
      "FBIS3-28303      Language:    7.0   \n",
      "FBIS4-25085      BFN [\"Spec   7.0   \n",
      "FBIS3-24679      Europe       7.0   \n",
      "\n",
      "                                                         Matches  \n",
      "ID                                                                \n",
      "FBIS3-67        measur taken worldwid countri effect curb pop...  \n",
      "FBIS3-29        measur taken worldwid countri effect curb pop...  \n",
      "FT941-12411     measur taken worldwid countri effect curb pop...  \n",
      "FBIS3-17354     measur taken worldwid countri effect curb pop...  \n",
      "FT944-6732      measur taken worldwid countri effect curb pop...  \n",
      "FBIS3-24653     measur taken worldwid countri effect curb pop...  \n",
      "FBIS3-24678     measur taken worldwid countri effect curb pop...  \n",
      "FBIS4-44468     measur taken worldwid countri effect curb pop...  \n",
      "FBIS3-10291     measur taken worldwid countri effect curb pop...  \n",
      "FBIS4-67533     measur taken worldwid countri effect curb pop...  \n",
      "LA041590-0153   measur taken worldwid countri effect curb pop...  \n",
      "FBIS3-37947     measur taken worldwid countri effect curb pop...  \n",
      "FBIS4-4249      measur taken worldwid countri effect curb pop...  \n",
      "FBIS3-5105      measur taken worldwid countri effect popul gr...  \n",
      "FBIS4-22685     measur taken worldwid countri effect popul gr...  \n",
      "FT932-1558         measur taken countri effect curb popul growth  \n",
      "FBIS4-50133        measur taken countri effect curb popul growth  \n",
      "FBIS3-28303     measur taken worldwid countri effect popul gr...  \n",
      "FBIS4-25085        measur taken countri effect curb popul growth  \n",
      "FBIS3-24679        measur taken countri effect curb popul growth  \n"
     ]
    },
    {
     "name": "stderr",
     "output_type": "stream",
     "text": [
      "Querying your system, brother:  70%|███████   | 35/50 [13:29<05:28, 21.88s/it]"
     ]
    },
    {
     "name": "stdout",
     "output_type": "stream",
     "text": [
      "<Query 436 “What are the causes of railway accidents throughou ...”>\n",
      "<class '__main__.Query'>\n",
      "Query:  ['caus', 'railway', 'accid', 'throughout', 'world']\n",
      "                 Values  Rank                               Matches\n",
      "ID                                                                 \n",
      "FT933-13657  ON FEBRUAR   5.0   caus railway accid throughout world\n",
      "FBIS3-2516   Language:    5.0   caus railway accid throughout world\n",
      "FBIS4-50901  BFN [Gover   5.0   caus railway accid throughout world\n",
      "FBIS4-49832  BFN [Yunna   5.0   caus railway accid throughout world\n",
      "FBIS4-1860   BFN [Guang   5.0   caus railway accid throughout world\n",
      "FBIS4-4067   BFN [Gover   5.0   caus railway accid throughout world\n",
      "FBIS3-40200  Language:    5.0   caus railway accid throughout world\n",
      "FBIS3-41666  Federation   5.0   caus railway accid throughout world\n",
      "FBIS4-20472  Policy (Wh   5.0   caus railway accid throughout world\n",
      "FBIS4-66382  Undertakin   5.0   caus railway accid throughout world\n",
      "FBIS4-2439   BFN [Jiang   5.0   caus railway accid throughout world\n",
      "FBIS4-42     Table        5.0   caus railway accid throughout world\n",
      "FBIS4-29     Foreign      5.0   caus railway accid throughout world\n",
      "FBIS4-20561  Developmen   5.0   caus railway accid throughout world\n",
      "FBIS4-1866   BFN [Shand   5.0   caus railway accid throughout world\n",
      "FBIS3-4694   Language:    5.0   caus railway accid throughout world\n",
      "FBIS4-45649  CSO [\"Draf   5.0   caus railway accid throughout world\n",
      "FBIS4-68893  CSO [Forew   5.0   caus railway accid throughout world\n",
      "FBIS3-4209   Language:    5.0   caus railway accid throughout world\n",
      "FBIS4-49809  BFN [\"Exce   5.0   caus railway accid throughout world\n"
     ]
    },
    {
     "name": "stderr",
     "output_type": "stream",
     "text": [
      "Querying your system, brother:  72%|███████▏  | 36/50 [13:43<04:35, 19.65s/it]"
     ]
    },
    {
     "name": "stdout",
     "output_type": "stream",
     "text": [
      "<Query 437 “What has been the experience of residential utilit ...”>\n",
      "<class '__main__.Query'>\n",
      "Query:  ['ha', 'experi', 'residenti', 'util', 'custom', 'follow', 'deregul', 'ga', 'electr']\n",
      "                         Values  Rank  \\\n",
      "ID                                      \n",
      "FBIS4-67533        CSO \\n\\n       7.0   \n",
      "FBIS4-19             Table        7.0   \n",
      "FBIS3-23             Table        7.0   \n",
      "FBIS3-43166          JAPAN:       7.0   \n",
      "FBIS4-20472          Policy (Wh   7.0   \n",
      "FBIS3-43220          JAPAN:       7.0   \n",
      "FBIS3-24653          Table        7.0   \n",
      "FBIS3-58             Table        7.0   \n",
      "FR940304-1-00115     The rest o   6.0   \n",
      "FBIS4-66162          CSO [Artic   6.0   \n",
      "FBIS3-40450          Language:    6.0   \n",
      "FBIS4-31029        BFN \\n\\n  ST   6.0   \n",
      "FBIS4-47609          Table        6.0   \n",
      "FBIS3-13309          Language:    6.0   \n",
      "FBIS4-23084          Table        6.0   \n",
      "FT941-2928           In a taste   6.0   \n",
      "FBIS3-24678          Table        6.0   \n",
      "FBIS3-43174          Foreign      6.0   \n",
      "FR941206-1-00134  Tuesday\\n\\n\\n   6.0   \n",
      "FBIS3-5471           Language:    6.0   \n",
      "\n",
      "                                                            Matches  \n",
      "ID                                                                   \n",
      "FBIS4-67533        experi residenti util custom follow deregul e...  \n",
      "FBIS4-19           experi residenti util custom follow deregul e...  \n",
      "FBIS3-23           experi residenti util custom follow deregul e...  \n",
      "FBIS3-43166        experi residenti util custom follow deregul e...  \n",
      "FBIS4-20472        experi residenti util custom follow deregul e...  \n",
      "FBIS3-43220        experi residenti util custom follow deregul e...  \n",
      "FBIS3-24653        experi residenti util custom follow deregul e...  \n",
      "FBIS3-58           experi residenti util custom follow deregul e...  \n",
      "FR940304-1-00115         experi residenti util custom follow electr  \n",
      "FBIS4-66162              experi residenti util custom follow electr  \n",
      "FBIS3-40450                experi util custom follow deregul electr  \n",
      "FBIS4-31029             residenti util custom follow deregul electr  \n",
      "FBIS4-47609                experi util custom follow deregul electr  \n",
      "FBIS3-13309              experi residenti util custom follow electr  \n",
      "FBIS4-23084             residenti util custom follow deregul electr  \n",
      "FT941-2928              experi residenti util custom deregul electr  \n",
      "FBIS3-24678              experi residenti util custom follow electr  \n",
      "FBIS3-43174                experi util custom follow deregul electr  \n",
      "FR941206-1-00134         experi residenti util custom follow electr  \n",
      "FBIS3-5471               experi residenti util custom follow electr  \n"
     ]
    },
    {
     "name": "stderr",
     "output_type": "stream",
     "text": [
      "Querying your system, brother:  74%|███████▍  | 37/50 [14:02<04:10, 19.27s/it]"
     ]
    },
    {
     "name": "stdout",
     "output_type": "stream",
     "text": [
      "<Query 438 “What countries are experiencing an increase in tou ...”>\n",
      "<class '__main__.Query'>\n",
      "Query:  ['countri', 'experienc', 'increas', 'tourism']\n",
      "                        Values  Rank                             Matches\n",
      "ID                                                                      \n",
      "FBIS3-32488         Language:    4.0   countri experienc increas tourism\n",
      "FBIS3-3164          Language:    4.0   countri experienc increas tourism\n",
      "FBIS4-7494          BFN [Inter   4.0   countri experienc increas tourism\n",
      "LA073190-0040       Expansion    4.0   countri experienc increas tourism\n",
      "FBIS3-51398         Language:    4.0   countri experienc increas tourism\n",
      "FBIS3-13220         Language:    4.0   countri experienc increas tourism\n",
      "FBIS4-25051         BFN [\"Spee   4.0   countri experienc increas tourism\n",
      "FBIS4-66770         CSO [Inter   4.0   countri experienc increas tourism\n",
      "FBIS4-34168         BFN [\"High   4.0   countri experienc increas tourism\n",
      "FT933-4753          Israeli op   4.0   countri experienc increas tourism\n",
      "FBIS3-21475         Language:    4.0   countri experienc increas tourism\n",
      "FT924-12831         ITALY'S sm   4.0   countri experienc increas tourism\n",
      "FR940602-1-00023  Thursday\\n\\n   4.0   countri experienc increas tourism\n",
      "FBIS4-68517         CSO [Artic   4.0   countri experienc increas tourism\n",
      "FBIS4-68893         CSO [Forew   4.0   countri experienc increas tourism\n",
      "FT931-16416         AS IF they   4.0   countri experienc increas tourism\n",
      "FBIS3-40190         Language:    4.0   countri experienc increas tourism\n",
      "FT942-2266          If there i   4.0   countri experienc increas tourism\n",
      "FBIS4-49021         BFN [Repor   4.0   countri experienc increas tourism\n",
      "FBIS4-38206         BFN [State   4.0   countri experienc increas tourism\n"
     ]
    },
    {
     "name": "stderr",
     "output_type": "stream",
     "text": [
      "Querying your system, brother:  76%|███████▌  | 38/50 [14:22<03:55, 19.62s/it]"
     ]
    },
    {
     "name": "stdout",
     "output_type": "stream",
     "text": [
      "<Query 439 “What new inventions or scientific discoveries have ...”>\n",
      "<class '__main__.Query'>\n",
      "Query:  ['new', 'invent', 'scientif', 'discoveri', 'made']\n",
      "                   Values  Rank                              Matches\n",
      "ID                                                                  \n",
      "FBIS4-68445    CSO [Artic   5.0   new invent scientif discoveri made\n",
      "LA022389-0081  There's no   5.0   new invent scientif discoveri made\n",
      "FBIS3-59903    Language:    5.0   new invent scientif discoveri made\n",
      "FBIS3-42399    Language:    5.0   new invent scientif discoveri made\n",
      "FT923-5533     for money,   5.0   new invent scientif discoveri made\n",
      "FBIS3-21348    Language:    5.0   new invent scientif discoveri made\n",
      "LA010990-0070  Discoverin   5.0   new invent scientif discoveri made\n",
      "FBIS3-24469    Language:    5.0   new invent scientif discoveri made\n",
      "FBIS4-20472    Policy (Wh   5.0   new invent scientif discoveri made\n",
      "FT941-6376     Europe is    5.0   new invent scientif discoveri made\n",
      "FT921-12579    THE PROFES   5.0   new invent scientif discoveri made\n",
      "FBIS4-61217    BFN [Valer   5.0   new invent scientif discoveri made\n",
      "FBIS3-40450    Language:    5.0   new invent scientif discoveri made\n",
      "FT931-2016     THE COMPUT   5.0   new invent scientif discoveri made\n",
      "FBIS3-42405    Language:    5.0   new invent scientif discoveri made\n",
      "FT944-636      Listen, my   5.0   new invent scientif discoveri made\n",
      "LA100589-0058  Serendipit   5.0   new invent scientif discoveri made\n",
      "FT924-15660    the polyme   5.0   new invent scientif discoveri made\n",
      "FBIS3-36078    Language:    5.0   new invent scientif discoveri made\n",
      "LA090290-0118  BIOGRAPHY    5.0   new invent scientif discoveri made\n"
     ]
    },
    {
     "name": "stderr",
     "output_type": "stream",
     "text": [
      "Querying your system, brother:  78%|███████▊  | 39/50 [14:53<04:12, 22.99s/it]"
     ]
    },
    {
     "name": "stdout",
     "output_type": "stream",
     "text": [
      "<Query 440 “What steps are being taken by governments or corpo ...”>\n",
      "<class '__main__.Query'>\n",
      "Query:  ['step', 'taken', 'govern', 'corpor', 'elimin', 'abus', 'child', 'labor']\n",
      "                       Values  Rank  \\\n",
      "ID                                    \n",
      "FBIS4-33740        BFN [Speec   8.0   \n",
      "FBIS4-68893        CSO [Forew   8.0   \n",
      "FBIS3-42677        Language:    8.0   \n",
      "FBIS4-23089        Europe       8.0   \n",
      "FBIS3-1849         Article      8.0   \n",
      "FBIS4-50706        BFN [Fujia   8.0   \n",
      "FBIS4-2049         BFN [\"Exce   7.0   \n",
      "FR941102-1-00119  Wednesday\\n   7.0   \n",
      "FBIS3-20796        Language:    7.0   \n",
      "FBIS4-47609        Table        7.0   \n",
      "FBIS4-1861         BFN [Hebei   7.0   \n",
      "FBIS3-8249         Language:    7.0   \n",
      "FBIS3-24145        Language:    7.0   \n",
      "FBIS3-32560        Language:    7.0   \n",
      "FBIS4-1860         BFN [Guang   7.0   \n",
      "FBIS4-49021        BFN [Repor   7.0   \n",
      "FBIS4-1843         BFN [Sichu   7.0   \n",
      "FBIS3-59334        Language:    7.0   \n",
      "LA011589-0005      What follo   7.0   \n",
      "FBIS4-57220        BFN [Speec   7.0   \n",
      "\n",
      "                                                            Matches  \n",
      "ID                                                                   \n",
      "FBIS4-33740        step taken govern corpor elimin abus child labor  \n",
      "FBIS4-68893        step taken govern corpor elimin abus child labor  \n",
      "FBIS3-42677        step taken govern corpor elimin abus child labor  \n",
      "FBIS4-23089        step taken govern corpor elimin abus child labor  \n",
      "FBIS3-1849         step taken govern corpor elimin abus child labor  \n",
      "FBIS4-50706        step taken govern corpor elimin abus child labor  \n",
      "FBIS4-2049              step taken govern corpor elimin child labor  \n",
      "FR941102-1-00119        step taken govern corpor elimin child labor  \n",
      "FBIS3-20796               step taken govern corpor abus child labor  \n",
      "FBIS4-47609              step taken govern corpor elimin abus labor  \n",
      "FBIS4-1861               step taken govern corpor elimin abus labor  \n",
      "FBIS3-8249              taken govern corpor elimin abus child labor  \n",
      "FBIS3-24145               step taken govern elimin abus child labor  \n",
      "FBIS3-32560              step taken govern corpor elimin abus labor  \n",
      "FBIS4-1860              step taken govern corpor elimin child labor  \n",
      "FBIS4-49021              step taken govern corpor elimin abus labor  \n",
      "FBIS4-1843               step taken govern corpor elimin abus labor  \n",
      "FBIS3-59334              step taken govern corpor elimin abus labor  \n",
      "LA011589-0005            step taken govern corpor elimin abus child  \n",
      "FBIS4-57220              step taken govern corpor elimin abus labor  \n"
     ]
    },
    {
     "name": "stderr",
     "output_type": "stream",
     "text": [
      "Querying your system, brother:  80%|████████  | 40/50 [15:22<04:08, 24.81s/it]"
     ]
    },
    {
     "name": "stdout",
     "output_type": "stream",
     "text": [
      "<Query 441 “How do you prevent and treat Lyme disease?”>\n",
      "<class '__main__.Query'>\n",
      "Query:  ['prevent', 'treat', 'lyme', 'diseas']\n",
      "                      Values  Rank                     Matches\n",
      "ID                                                            \n",
      "FT923-453         DISEASE-MO   4.0   prevent treat lyme diseas\n",
      "FBIS4-10326       BFN [Secon   3.0        prevent treat diseas\n",
      "LA112090-0144     You are lo   3.0        prevent treat diseas\n",
      "LA070189-0089     More than    3.0         prevent lyme diseas\n",
      "FBIS3-1945        Language:    3.0        prevent treat diseas\n",
      "FT943-1589        From the c   3.0        prevent treat diseas\n",
      "LA090690-0116     The image    3.0        prevent treat diseas\n",
      "FBIS3-48296       Language:    3.0        prevent treat diseas\n",
      "FT932-1044        A 51-year-   3.0        prevent treat diseas\n",
      "LA112689-0092     Feral cats   3.0        prevent treat diseas\n",
      "LA050690-0016     By any sta   3.0        prevent treat diseas\n",
      "FR941107-2-00231  Table 3_Ca   3.0         prevent lyme diseas\n",
      "FR940523-2-00059  Advisory C   3.0         prevent lyme diseas\n",
      "FBIS3-34214       Language:    3.0        prevent treat diseas\n",
      "LA122089-0062     Medical re   3.0        prevent treat diseas\n",
      "FT923-11350       The thousa   3.0        prevent treat diseas\n",
      "FBIS4-66951       Neglected    3.0        prevent treat diseas\n",
      "LA122389-0074     President    3.0        prevent treat diseas\n",
      "LA060590-0146     In plannin   3.0        prevent treat diseas\n",
      "LA062389-0056     A 10-year-   3.0        prevent treat diseas\n"
     ]
    },
    {
     "name": "stderr",
     "output_type": "stream",
     "text": [
      "Querying your system, brother:  82%|████████▏ | 41/50 [15:27<02:50, 18.92s/it]"
     ]
    },
    {
     "name": "stdout",
     "output_type": "stream",
     "text": [
      "<Query 442 “Find accounts of selfless heroic acts by individua ...”>\n",
      "<class '__main__.Query'>\n",
      "Query:  ['find', 'account', 'selfless', 'heroic', 'act', 'individu', 'small', 'group', 'benefit', 'caus']\n",
      "                   Values  Rank  \\\n",
      "ID                                \n",
      "FBIS3-42399    Language:   10.0   \n",
      "FBIS3-37947    Language:   10.0   \n",
      "FBIS3-43196    Europe       9.0   \n",
      "FBIS4-22690    CSO [Inter   9.0   \n",
      "FBIS4-57286    BFN [Debat   9.0   \n",
      "FBIS3-43142    Europe       9.0   \n",
      "FBIS3-4209     Language:    9.0   \n",
      "FBIS4-66308    CSO [Repor   9.0   \n",
      "FBIS3-2516     Language:    9.0   \n",
      "FBIS4-49245    BFN [Anhui   9.0   \n",
      "FBIS4-49021    BFN [Repor   9.0   \n",
      "FBIS3-42400    88) pp 1-2   9.0   \n",
      "FBIS3-5642     Language:    9.0   \n",
      "FBIS3-24469    Language:    9.0   \n",
      "FBIS4-1844     BFN [Tianj   9.0   \n",
      "FBIS4-66382    Undertakin   9.0   \n",
      "FBIS4-66161    CSO [Artic   9.0   \n",
      "FBIS4-27085    BFN [Repor   9.0   \n",
      "FBIS4-25261  BFN \\n\\n  [T   9.0   \n",
      "FBIS4-11145    CSO [Artic   8.0   \n",
      "\n",
      "                                                       Matches  \n",
      "ID                                                              \n",
      "FBIS3-42399   find account selfless heroic act individu sma...  \n",
      "FBIS3-37947   find account selfless heroic act individu sma...  \n",
      "FBIS3-43196   find account heroic act individu small group ...  \n",
      "FBIS4-22690   find account heroic act individu small group ...  \n",
      "FBIS4-57286   find account heroic act individu small group ...  \n",
      "FBIS3-43142   find account heroic act individu small group ...  \n",
      "FBIS3-4209    account selfless heroic act individu small gr...  \n",
      "FBIS4-66308   find account selfless act individu small grou...  \n",
      "FBIS3-2516    account selfless heroic act individu small gr...  \n",
      "FBIS4-49245   find account heroic act individu small group ...  \n",
      "FBIS4-49021   find account heroic act individu small group ...  \n",
      "FBIS3-42400   find account selfless heroic act individu sma...  \n",
      "FBIS3-5642    find account heroic act individu small group ...  \n",
      "FBIS3-24469   find account heroic act individu small group ...  \n",
      "FBIS4-1844    find account heroic act individu small group ...  \n",
      "FBIS4-66382   find account selfless act individu small grou...  \n",
      "FBIS4-66161   find account selfless act individu small grou...  \n",
      "FBIS4-27085   find account selfless act individu small grou...  \n",
      "FBIS4-25261   find account heroic act individu small group ...  \n",
      "FBIS4-11145   find account act individu small group benefit...  \n"
     ]
    },
    {
     "name": "stderr",
     "output_type": "stream",
     "text": [
      "Querying your system, brother:  84%|████████▍ | 42/50 [16:09<03:26, 25.86s/it]"
     ]
    },
    {
     "name": "stdout",
     "output_type": "stream",
     "text": [
      "<Query 443 “What is the extent of U.S. (government and private ...”>\n",
      "<class '__main__.Query'>\n",
      "Query:  ['extent', 'u.s.', 'govern', 'privat', 'invest', 'sub-saharan', 'africa']\n",
      "                     Values  Rank                              Matches\n",
      "ID                                                                    \n",
      "FBIS3-1510       Language:    5.0   extent govern privat invest africa\n",
      "FT941-16502      For a grou   5.0   extent govern privat invest africa\n",
      "FT921-6710       The Intern   5.0   extent govern privat invest africa\n",
      "FBIS3-61089      Language:    5.0   extent govern privat invest africa\n",
      "LA021690-0060    Jesse Jack   5.0   extent govern privat invest africa\n",
      "FBIS4-20400      CSO [Artic   5.0   extent govern privat invest africa\n",
      "FBIS4-68893      CSO [Forew   5.0   extent govern privat invest africa\n",
      "FBIS3-14832      Language:    5.0   extent govern privat invest africa\n",
      "FBIS3-22757      Language:    5.0   extent govern privat invest africa\n",
      "FBIS3-20446      Language:    5.0   extent govern privat invest africa\n",
      "FBIS3-39883      Language:    5.0   extent govern privat invest africa\n",
      "LA030490-0017    THIS IS TH   5.0   extent govern privat invest africa\n",
      "FT932-9794       GENCOR's a   5.0   extent govern privat invest africa\n",
      "FT943-16190      Mr Derek K   5.0   extent govern privat invest africa\n",
      "LA121890-0117    It was a p   5.0   extent govern privat invest africa\n",
      "FBIS4-788        BFN [Debat   5.0   extent govern privat invest africa\n",
      "FBIS4-67533    CSO \\n\\n       5.0   extent govern privat invest africa\n",
      "FT922-10449      THERE are    5.0   extent govern privat invest africa\n",
      "FBIS3-33477      Language:    5.0   extent govern privat invest africa\n",
      "FBIS3-18532      Language:    5.0   extent govern privat invest africa\n"
     ]
    },
    {
     "name": "stderr",
     "output_type": "stream",
     "text": [
      "Querying your system, brother:  86%|████████▌ | 43/50 [16:36<03:02, 26.06s/it]"
     ]
    },
    {
     "name": "stdout",
     "output_type": "stream",
     "text": [
      "<Query 444 “What are the potential uses for supercritical flui ...”>\n",
      "<class '__main__.Query'>\n",
      "Query:  ['potenti', 'use', 'supercrit', 'fluid', 'environment', 'protect', 'measur']\n",
      "                         Values  Rank  \\\n",
      "ID                                      \n",
      "FBIS4-44913        CSO \\n\\n  [T   7.0   \n",
      "FBIS4-20472          Policy (Wh   7.0   \n",
      "FBIS4-20504          Program 11   6.0   \n",
      "LA121089-0225        Southern C   6.0   \n",
      "FBIS3-58             Table        6.0   \n",
      "FR941026-2-00082     NUCLEAR RE   6.0   \n",
      "FBIS4-44815          Developmen   6.0   \n",
      "FBIS3-22119          Language:    6.0   \n",
      "FBIS3-20670          Language:    6.0   \n",
      "FR941206-1-00134  Tuesday\\n\\n\\n   6.0   \n",
      "FR941107-2-00226     Immunocomp   6.0   \n",
      "FBIS3-20948          153-157, 1   6.0   \n",
      "FBIS3-10291          Language:    6.0   \n",
      "FR940705-2-00151     Appendix Q   6.0   \n",
      "FR940817-2-00266     5.2.3. Exp   6.0   \n",
      "FBIS3-43040          Language:    6.0   \n",
      "FR940104-0-00032     DEPARTMENT   6.0   \n",
      "FBIS3-24469          Language:    6.0   \n",
      "FR940216-2-00036     NUCLEAR RE   6.0   \n",
      "FR940204-1-00053     DEPARTMENT   6.0   \n",
      "\n",
      "                                                            Matches  \n",
      "ID                                                                   \n",
      "FBIS4-44913        potenti use supercrit fluid environment prote...  \n",
      "FBIS4-20472        potenti use supercrit fluid environment prote...  \n",
      "FBIS4-20504            potenti use fluid environment protect measur  \n",
      "LA121089-0225          potenti use fluid environment protect measur  \n",
      "FBIS3-58               potenti use fluid environment protect measur  \n",
      "FR941026-2-00082       potenti use fluid environment protect measur  \n",
      "FBIS4-44815            potenti use fluid environment protect measur  \n",
      "FBIS3-22119            potenti use fluid environment protect measur  \n",
      "FBIS3-20670            potenti use fluid environment protect measur  \n",
      "FR941206-1-00134       potenti use fluid environment protect measur  \n",
      "FR941107-2-00226       potenti use fluid environment protect measur  \n",
      "FBIS3-20948            potenti use fluid environment protect measur  \n",
      "FBIS3-10291            potenti use fluid environment protect measur  \n",
      "FR940705-2-00151       potenti use fluid environment protect measur  \n",
      "FR940817-2-00266       potenti use fluid environment protect measur  \n",
      "FBIS3-43040            potenti use fluid environment protect measur  \n",
      "FR940104-0-00032       potenti use fluid environment protect measur  \n",
      "FBIS3-24469            potenti use fluid environment protect measur  \n",
      "FR940216-2-00036       potenti use fluid environment protect measur  \n",
      "FR940204-1-00053       potenti use fluid environment protect measur  \n"
     ]
    },
    {
     "name": "stderr",
     "output_type": "stream",
     "text": [
      "Querying your system, brother:  88%|████████▊ | 44/50 [17:02<02:36, 26.13s/it]"
     ]
    },
    {
     "name": "stdout",
     "output_type": "stream",
     "text": [
      "<Query 445 “What other countries besides the United States are ...”>\n",
      "<class '__main__.Query'>\n",
      "Query:  ['countri', 'besid', 'unit', 'state', 'consid', 'approv', 'women', 'clergi', 'person']\n",
      "                     Values  Rank  \\\n",
      "ID                                  \n",
      "FBIS3-41666      Federation   9.0   \n",
      "FBIS3-24678      Table        8.0   \n",
      "LA030189-0034    Each year    8.0   \n",
      "LA042389-0005    KHALIL TAB   8.0   \n",
      "FBIS4-49809      BFN [\"Exce   8.0   \n",
      "FBIS3-6216       Language:    8.0   \n",
      "FBIS3-24145      Language:    8.0   \n",
      "FBIS3-1411       Language:    8.0   \n",
      "FBIS3-23832      Language:    8.0   \n",
      "LA040289-0106    When asked   8.0   \n",
      "FBIS4-45041    CSO \\n\\n  [T   8.0   \n",
      "FBIS4-34315      BFN [\"Excl   8.0   \n",
      "FBIS4-46588      BFN [\"Pole   8.0   \n",
      "FBIS3-14452      Language:    8.0   \n",
      "FBIS3-43160      Foreign      8.0   \n",
      "FBIS4-68545      CSO [Artic   8.0   \n",
      "FBIS4-50901      BFN [Gover   8.0   \n",
      "FBIS4-50993      BFN [Repor   8.0   \n",
      "FBIS4-68275      CSO [Book    8.0   \n",
      "FBIS3-43214      Foreign      8.0   \n",
      "\n",
      "                                                         Matches  \n",
      "ID                                                                \n",
      "FBIS3-41666     countri besid unit state consid approv women ...  \n",
      "FBIS3-24678     countri besid unit state consid approv women ...  \n",
      "LA030189-0034   countri unit state consid approv women clergi...  \n",
      "LA042389-0005   countri besid unit state consid approv women ...  \n",
      "FBIS4-49809     countri besid unit state consid approv women ...  \n",
      "FBIS3-6216      countri besid unit state consid approv women ...  \n",
      "FBIS3-24145     countri unit state consid approv women clergi...  \n",
      "FBIS3-1411      countri besid unit state consid approv women ...  \n",
      "FBIS3-23832     countri besid unit state consid approv women ...  \n",
      "LA040289-0106   countri besid unit state consid approv women ...  \n",
      "FBIS4-45041     countri besid unit state consid approv women ...  \n",
      "FBIS4-34315     countri besid unit state consid approv women ...  \n",
      "FBIS4-46588     countri besid unit state consid approv women ...  \n",
      "FBIS3-14452     countri besid unit state consid approv women ...  \n",
      "FBIS3-43160     countri besid unit state consid approv women ...  \n",
      "FBIS4-68545     countri besid unit state consid approv women ...  \n",
      "FBIS4-50901     countri besid unit state consid approv women ...  \n",
      "FBIS4-50993     countri besid unit state consid approv women ...  \n",
      "FBIS4-68275     countri besid unit state consid approv women ...  \n",
      "FBIS3-43214     countri besid unit state consid approv women ...  \n"
     ]
    },
    {
     "name": "stderr",
     "output_type": "stream",
     "text": [
      "Querying your system, brother:  90%|█████████ | 45/50 [17:54<02:49, 33.97s/it]"
     ]
    },
    {
     "name": "stdout",
     "output_type": "stream",
     "text": [
      "<Query 446 “Where are tourists likely to be subjected to acts  ...”>\n",
      "<class '__main__.Query'>\n",
      "Query:  ['tourist', 'like', 'subject', 'act', 'violenc', 'caus', 'bodili', 'harm', 'death']\n",
      "                        Values  Rank  \\\n",
      "ID                                     \n",
      "LA020689-0027       It came to   8.0   \n",
      "FBIS3-37947         Language:    8.0   \n",
      "FBIS3-60941         Language:    8.0   \n",
      "FBIS3-24145         Language:    8.0   \n",
      "FBIS3-36078         Language:    8.0   \n",
      "FBIS4-42            Table        7.0   \n",
      "FBIS4-46775         CSO [Artic   7.0   \n",
      "FBIS4-66185       CSO \\n\\n       7.0   \n",
      "LA121190-0075       Jesse B. S   7.0   \n",
      "FBIS4-28712         BFN [Artic   7.0   \n",
      "LA100889-0040       When I hea   7.0   \n",
      "FBIS3-207           Language:    7.0   \n",
      "FR940817-0-00065  (2) \\n\\nDead   7.0   \n",
      "FBIS4-68893         CSO [Forew   7.0   \n",
      "FBIS3-13653         Language:    7.0   \n",
      "FBIS4-29            Foreign      7.0   \n",
      "FBIS4-34471         CSO [Inter   7.0   \n",
      "FBIS3-34820         Language:    7.0   \n",
      "FBIS3-35329         Language:    7.0   \n",
      "FBIS3-31672         Language:    7.0   \n",
      "\n",
      "                                                            Matches  \n",
      "ID                                                                   \n",
      "LA020689-0027       like subject act violenc caus bodili harm death  \n",
      "FBIS3-37947        tourist like subject act violenc caus harm death  \n",
      "FBIS3-60941        tourist like subject act violenc caus harm death  \n",
      "FBIS3-24145         like subject act violenc caus bodili harm death  \n",
      "FBIS3-36078        tourist like subject act violenc caus harm death  \n",
      "FBIS4-42                  tourist like subject act caus bodili harm  \n",
      "FBIS4-46775                like subject act violenc caus harm death  \n",
      "FBIS4-66185                tourist like subject act caus harm death  \n",
      "LA121190-0075          tourist like subject violenc caus harm death  \n",
      "FBIS4-28712             tourist like subject act violenc caus death  \n",
      "LA100889-0040              like subject act violenc caus harm death  \n",
      "FBIS3-207                  like subject act violenc caus harm death  \n",
      "FR940817-0-00065            like subject act caus bodili harm death  \n",
      "FBIS4-68893                tourist like subject act caus harm death  \n",
      "FBIS3-13653                tourist like act violenc caus harm death  \n",
      "FBIS4-29                   tourist like subject act caus harm death  \n",
      "FBIS4-34471                like subject act violenc caus harm death  \n",
      "FBIS3-34820             tourist like subject act violenc caus death  \n",
      "FBIS3-35329                like subject act violenc caus harm death  \n",
      "FBIS3-31672                like subject act violenc caus harm death  \n"
     ]
    },
    {
     "name": "stderr",
     "output_type": "stream",
     "text": [
      "Querying your system, brother:  92%|█████████▏| 46/50 [18:21<02:07, 31.95s/it]"
     ]
    },
    {
     "name": "stdout",
     "output_type": "stream",
     "text": [
      "<Query 447 “What new developments and applications are there f ...”>\n",
      "<class '__main__.Query'>\n",
      "Query:  ['new', 'develop', 'applic', 'stirl', 'engin']\n",
      "                        Values  Rank                          Matches\n",
      "ID                                                                   \n",
      "FT933-6707          It's a bad   5.0   new develop applic stirl engin\n",
      "FBIS3-21198         Material 1   5.0   new develop applic stirl engin\n",
      "FT923-9701          In the pub   5.0   new develop applic stirl engin\n",
      "FBIS3-40450         Language:    5.0   new develop applic stirl engin\n",
      "FT931-8135          SPECULATIO   4.0          new develop stirl engin\n",
      "FBIS4-28316       BFN \\n\\n  [T   4.0         new develop applic engin\n",
      "FR940505-1-00065    A bump-up    4.0         new develop applic engin\n",
      "FBIS3-40507        on \\n Aircr   4.0         new develop applic engin\n",
      "FR940516-1-00114    While adeq   4.0         new develop applic engin\n",
      "FT934-14189         SINCE THE    4.0         new develop applic engin\n",
      "FT923-1186          Power flui   4.0         new develop applic engin\n",
      "FR940314-1-00002    DEPARTMENT   4.0         new develop applic engin\n",
      "FBIS4-66408         Productivi   4.0         new develop applic engin\n",
      "FT932-3539          RESULTS DU   4.0          new develop stirl engin\n",
      "FR941227-0-00035    14 CFR Par   4.0         new develop applic engin\n",
      "FBIS3-40209         Language:    4.0         new develop applic engin\n",
      "FBIS4-22982         OFFICIAL U   4.0         new develop applic engin\n",
      "FBIS4-25952       BFN \\n\\n  [T   4.0         new develop applic engin\n",
      "FBIS3-59780         Language:    4.0         new develop applic engin\n",
      "FBIS4-44458         CSO [Gover   4.0         new develop applic engin\n"
     ]
    },
    {
     "name": "stderr",
     "output_type": "stream",
     "text": [
      "Querying your system, brother:  94%|█████████▍| 47/50 [18:56<01:38, 32.81s/it]"
     ]
    },
    {
     "name": "stdout",
     "output_type": "stream",
     "text": [
      "<Query 448 “Identify instances in which weather was a main or  ...”>\n",
      "<class '__main__.Query'>\n",
      "Query:  ['identifi', 'instanc', 'weather', 'wa', 'main', 'contribut', 'factor', 'loss', 'ship', 'sea']\n",
      "                        Values  Rank  \\\n",
      "ID                                     \n",
      "FBIS4-66382         Undertakin   9.0   \n",
      "FBIS3-23561         Article      9.0   \n",
      "FBIS4-67533       CSO \\n\\n       9.0   \n",
      "FBIS4-46469         CSO [Book:   9.0   \n",
      "FBIS4-20472         Policy (Wh   9.0   \n",
      "FBIS3-42400         88) pp 1-2   9.0   \n",
      "FBIS4-19            Table        9.0   \n",
      "FBIS3-58            Table        9.0   \n",
      "FBIS4-46649         1-464 FOR    9.0   \n",
      "FBIS3-60342         the Former   9.0   \n",
      "FBIS3-24678         Table        8.0   \n",
      "FBIS3-43132         JAPAN:       8.0   \n",
      "FBIS3-42399         Language:    8.0   \n",
      "FBIS3-29            Foreign      8.0   \n",
      "FR940602-1-00023  Thursday\\n\\n   8.0   \n",
      "FBIS4-67877       CSO \\n\\n       8.0   \n",
      "FBIS3-41666         Federation   8.0   \n",
      "FBIS3-43186         JAPAN:       8.0   \n",
      "FBIS3-23            Table        8.0   \n",
      "FBIS3-24653         Table        8.0   \n",
      "\n",
      "                                                            Matches  \n",
      "ID                                                                   \n",
      "FBIS4-66382        identifi instanc weather main contribut facto...  \n",
      "FBIS3-23561        identifi instanc weather main contribut facto...  \n",
      "FBIS4-67533        identifi instanc weather main contribut facto...  \n",
      "FBIS4-46469        identifi instanc weather main contribut facto...  \n",
      "FBIS4-20472        identifi instanc weather main contribut facto...  \n",
      "FBIS3-42400        identifi instanc weather main contribut facto...  \n",
      "FBIS4-19           identifi instanc wa main contribut factor los...  \n",
      "FBIS3-58           identifi instanc weather main contribut facto...  \n",
      "FBIS4-46649        identifi instanc weather main contribut facto...  \n",
      "FBIS3-60342        identifi instanc weather main contribut facto...  \n",
      "FBIS3-24678        identifi weather main contribut factor loss s...  \n",
      "FBIS3-43132        identifi instanc weather main contribut facto...  \n",
      "FBIS3-42399        identifi instanc weather main contribut facto...  \n",
      "FBIS3-29           identifi instanc main contribut factor loss s...  \n",
      "FR940602-1-00023   identifi instanc weather contribut factor los...  \n",
      "FBIS4-67877        identifi weather main contribut factor loss s...  \n",
      "FBIS3-41666        identifi weather main contribut factor loss s...  \n",
      "FBIS3-43186        identifi instanc weather main contribut facto...  \n",
      "FBIS3-23           identifi instanc wa main contribut factor los...  \n",
      "FBIS3-24653        identifi instanc main contribut factor loss s...  \n"
     ]
    },
    {
     "name": "stderr",
     "output_type": "stream",
     "text": [
      "Querying your system, brother:  96%|█████████▌| 48/50 [19:16<00:57, 28.98s/it]"
     ]
    },
    {
     "name": "stdout",
     "output_type": "stream",
     "text": [
      "<Query 449 “What has caused the current ineffectiveness of ant ...”>\n",
      "<class '__main__.Query'>\n",
      "Query:  ['ha', 'caus', 'current', 'ineffect', 'antibiot', 'infect', 'prognosi', 'new', 'drug']\n",
      "                        Values  Rank  \\\n",
      "ID                                     \n",
      "FR940112-1-00044   Wednesday\\n   7.0   \n",
      "FBIS4-33295         CSO [Artic   7.0   \n",
      "LA022689-0006       The 1980s    7.0   \n",
      "LA030190-0139       A major Ha   6.0   \n",
      "LA070489-0051       The 65-yea   6.0   \n",
      "LA120890-0059       Milk and m   6.0   \n",
      "FT932-16160         The virus    6.0   \n",
      "LA081290-0070       KIMON BEAZ   6.0   \n",
      "LA111190-0179       SOMETIMES    6.0   \n",
      "LA052190-0106       Puppeteer    6.0   \n",
      "LA092689-0119       Health wor   6.0   \n",
      "FT933-7438          A virulent   6.0   \n",
      "FR940203-1-00069  Thursday\\n\\n   6.0   \n",
      "LA061390-0002       Every week   6.0   \n",
      "FR940202-2-00103    V. Risk Fa   6.0   \n",
      "LA021590-0211       Americans    6.0   \n",
      "FR941027-1-00030  Thursday\\n\\n   6.0   \n",
      "LA092689-0080       Health wor   6.0   \n",
      "LA062590-0046       After five   6.0   \n",
      "FBIS4-20504         Program 11   6.0   \n",
      "\n",
      "                                                          Matches  \n",
      "ID                                                                 \n",
      "FR940112-1-00044   caus current ineffect antibiot infect new drug  \n",
      "FBIS4-33295        caus current ineffect antibiot infect new drug  \n",
      "LA022689-0006      caus current antibiot infect prognosi new drug  \n",
      "LA030190-0139               caus current antibiot infect new drug  \n",
      "LA070489-0051               caus current antibiot infect new drug  \n",
      "LA120890-0059               caus current antibiot infect new drug  \n",
      "FT932-16160                caus ineffect antibiot infect new drug  \n",
      "LA081290-0070               caus current antibiot infect new drug  \n",
      "LA111190-0179               caus current ineffect infect new drug  \n",
      "LA052190-0106              caus ineffect antibiot infect new drug  \n",
      "LA092689-0119               caus current antibiot infect new drug  \n",
      "FT933-7438                  caus current antibiot infect new drug  \n",
      "FR940203-1-00069            caus current antibiot infect new drug  \n",
      "LA061390-0002               caus current antibiot infect new drug  \n",
      "FR940202-2-00103            caus current antibiot infect new drug  \n",
      "LA021590-0211               caus current ineffect infect new drug  \n",
      "FR941027-1-00030            caus current antibiot infect new drug  \n",
      "LA092689-0080               caus current antibiot infect new drug  \n",
      "LA062590-0046               caus current antibiot infect new drug  \n",
      "FBIS4-20504               caus current ineffect prognosi new drug  \n"
     ]
    },
    {
     "name": "stderr",
     "output_type": "stream",
     "text": [
      "Querying your system, brother:  98%|█████████▊| 49/50 [19:48<00:29, 29.81s/it]"
     ]
    },
    {
     "name": "stdout",
     "output_type": "stream",
     "text": [
      "<Query 450 “How significant a figure over the years was the la ...”>\n",
      "<class '__main__.Query'>\n",
      "Query:  ['signific', 'figur', 'year', 'wa', 'late', 'jordanian', 'king', 'hussein', 'peac', 'middl', 'east']\n",
      "                     Values  Rank  \\\n",
      "ID                                  \n",
      "FT944-14204     MONDAY 24\\n   9.0   \n",
      "FT943-13705    18\\nMONDAY\\n   9.0   \n",
      "LA033189-0105    During his   9.0   \n",
      "FBIS4-66185    CSO \\n\\n       8.0   \n",
      "FT924-8277       JORDAN'S r   8.0   \n",
      "FBIS4-67533    CSO \\n\\n       8.0   \n",
      "FT943-12422     MONDAY 25\\n   8.0   \n",
      "LA021289-0041    A one-time   8.0   \n",
      "FT911-1699       A joint in   8.0   \n",
      "FBIS3-36078      Language:    8.0   \n",
      "FBIS3-37947      Language:    8.0   \n",
      "LA082790-0013    As I write   8.0   \n",
      "LA021989-0037    What a dif   8.0   \n",
      "FBIS4-36533      BFN [Studi   8.0   \n",
      "FBIS4-37832      BFN [Inter   8.0   \n",
      "FT932-12056      WHEN King    8.0   \n",
      "FT921-7455       Talking of   8.0   \n",
      "FT944-15625      Just how d   8.0   \n",
      "LA053190-0100    Arab leade   8.0   \n",
      "LA040189-0010    King Fahd    8.0   \n",
      "\n",
      "                                                         Matches  \n",
      "ID                                                                \n",
      "FT944-14204     figur year late jordanian king hussein peac m...  \n",
      "FT943-13705     figur year late jordanian king hussein peac m...  \n",
      "LA033189-0105   signific figur year jordanian king hussein pe...  \n",
      "FBIS4-66185        signific figur year late king peac middl east  \n",
      "FT924-8277      figur year jordanian king hussein peac middl ...  \n",
      "FBIS4-67533     signific figur year late jordanian peac middl...  \n",
      "FT943-12422     figur year jordanian king hussein peac middl ...  \n",
      "LA021289-0041   signific year jordanian king hussein peac mid...  \n",
      "FT911-1699      year late jordanian king hussein peac middl east  \n",
      "FBIS3-36078        signific figur year late king peac middl east  \n",
      "FBIS3-37947        signific figur year late king peac middl east  \n",
      "LA082790-0013   signific year jordanian king hussein peac mid...  \n",
      "LA021989-0037    signific year late king hussein peac middl east  \n",
      "FBIS4-36533     signific year late jordanian king peac middl ...  \n",
      "FBIS4-37832     signific figur year jordanian king peac middl...  \n",
      "FT932-12056     signific year jordanian king hussein peac mid...  \n",
      "FT921-7455      year late jordanian king hussein peac middl east  \n",
      "FT944-15625     year late jordanian king hussein peac middl east  \n",
      "LA053190-0100   figur year jordanian king hussein peac middl ...  \n",
      "LA040189-0010    signific year late king hussein peac middl east  \n"
     ]
    },
    {
     "name": "stderr",
     "output_type": "stream",
     "text": [
      "                                                                              \r"
     ]
    },
    {
     "data": {
      "text/markdown": [
       "Your system achieved **0.00% MAP score**."
      ],
      "text/plain": [
       "<IPython.core.display.Markdown object>"
      ]
     },
     "metadata": {},
     "output_type": "display_data"
    },
    {
     "data": {
      "text/markdown": [
       "You need at least **10%** to pass. 😢"
      ],
      "text/plain": [
       "<IPython.core.display.Markdown object>"
      ]
     },
     "metadata": {},
     "output_type": "display_data"
    },
    {
     "data": {
      "text/markdown": [
       "Try playing with the preprocessing of queries and documents! 💡"
      ],
      "text/plain": [
       "<IPython.core.display.Markdown object>"
      ]
     },
     "metadata": {},
     "output_type": "display_data"
    },
    {
     "data": {
      "text/markdown": [
       "Set `submit_result = True` and write your name to the `author_name` variable to submit your result to [the leaderboard](https://docs.google.com/spreadsheets/d/e/2PACX-1vQ33YdFZtGH6g2bDbkD9aLozLdVVGNuP09sRh-F9d_EY9nWntOrLHSyNATFsXw4v9lw3UA3vOzl5l0s/pubhtml). 🏆\n",
       "\n",
       "The best submissions on the leaderboard will receive *small awards during the semester*, and some *__seriously big__ awards* after the personal check at the end of the competition (2021-05-16). Please be polite, do not spoil the game for the others, and **have fun!** 😉"
      ],
      "text/plain": [
       "<IPython.core.display.Markdown object>"
      ]
     },
     "metadata": {},
     "output_type": "display_data"
    }
   ],
   "source": [
    "submit_result = False\n",
    "author_name = \"Hospodka, Adam\"\n",
    "system = IRSystem(print_matrix = True)\n",
    "\n",
    "\n",
    "print('Initializing your system ...', end='', flush=True)\n",
    "test_queries = load_queries(Query, 'test')\n",
    "test_judgements = load_judgements(test_queries, documents, 'test')\n",
    "evaluation = TrecEvaluation(system, test_judgements, TrecLeaderboard(), author_name)\n",
    "print(end='\\r', flush=True)\n",
    "evaluation.evaluate(tqdm(test_queries.values(), desc=\"Querying your system, brother\", leave=False), submit_result)"
   ]
  }
 ],
 "metadata": {
  "colab": {
   "collapsed_sections": [
    "xmpR8qpTZwyP",
    "y845E0ePZqeH",
    "CwYwHs-MpD1_",
    "8psrfOlGH-hM",
    "xJM9TfbEPCZV"
   ],
   "name": "Copy of Second term project (TREC) assignment.ipynb",
   "provenance": []
  },
  "kernelspec": {
   "display_name": "Python 3",
   "language": "python",
   "name": "python3"
  },
  "language_info": {
   "codemirror_mode": {
    "name": "ipython",
    "version": 3
   },
   "file_extension": ".py",
   "mimetype": "text/x-python",
   "name": "python",
   "nbconvert_exporter": "python",
   "pygments_lexer": "ipython3",
   "version": "3.6.8"
  },
  "toc-autonumbering": false,
  "toc-showcode": false,
  "toc-showmarkdowntxt": false,
  "toc-showtags": false
 },
 "nbformat": 4,
 "nbformat_minor": 4
}
