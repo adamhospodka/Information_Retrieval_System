{
  "nbformat": 4,
  "nbformat_minor": 0,
  "metadata": {
    "colab": {
      "name": "Implementation of information retrieval system.ipynb",
      "provenance": [],
      "collapsed_sections": [
        "AbHbOmhJ48MG",
        "43UYar2l5SXy"
      ]
    },
    "kernelspec": {
      "name": "python380jvsc74a57bd0aee8b7b246df8f9039afb4144a1f6fd8d2ca17a180786b69acc140d282b71a49",
      "display_name": "Python 3.8.0 64-bit"
    },
    "language_info": {
      "name": "python",
      "version": "3.8.0-final"
    },
    "widgets": {
      "application/vnd.jupyter.widget-state+json": {
        "fb5103be8d1248dea73b4ae2aca173db": {
          "model_module": "@jupyter-widgets/controls",
          "model_name": "HBoxModel",
          "state": {
            "_view_name": "HBoxView",
            "_dom_classes": [],
            "_model_name": "HBoxModel",
            "_view_module": "@jupyter-widgets/controls",
            "_model_module_version": "1.5.0",
            "_view_count": null,
            "_view_module_version": "1.5.0",
            "box_style": "",
            "layout": "IPY_MODEL_615fe6cea2c44f0db33c95f9b6faac9e",
            "_model_module": "@jupyter-widgets/controls",
            "children": [
              "IPY_MODEL_ec4b60b52885434f9f82ff79de2c1f97",
              "IPY_MODEL_67701a0eaaab490f9bcd4eff9fd353c3"
            ]
          }
        },
        "615fe6cea2c44f0db33c95f9b6faac9e": {
          "model_module": "@jupyter-widgets/base",
          "model_name": "LayoutModel",
          "state": {
            "_view_name": "LayoutView",
            "grid_template_rows": null,
            "right": null,
            "justify_content": null,
            "_view_module": "@jupyter-widgets/base",
            "overflow": null,
            "_model_module_version": "1.2.0",
            "_view_count": null,
            "flex_flow": null,
            "width": null,
            "min_width": null,
            "border": null,
            "align_items": null,
            "bottom": null,
            "_model_module": "@jupyter-widgets/base",
            "top": null,
            "grid_column": null,
            "overflow_y": null,
            "overflow_x": null,
            "grid_auto_flow": null,
            "grid_area": null,
            "grid_template_columns": null,
            "flex": null,
            "_model_name": "LayoutModel",
            "justify_items": null,
            "grid_row": null,
            "max_height": null,
            "align_content": null,
            "visibility": null,
            "align_self": null,
            "height": null,
            "min_height": null,
            "padding": null,
            "grid_auto_rows": null,
            "grid_gap": null,
            "max_width": null,
            "order": null,
            "_view_module_version": "1.2.0",
            "grid_template_areas": null,
            "object_position": null,
            "object_fit": null,
            "grid_auto_columns": null,
            "margin": null,
            "display": null,
            "left": null
          }
        },
        "ec4b60b52885434f9f82ff79de2c1f97": {
          "model_module": "@jupyter-widgets/controls",
          "model_name": "FloatProgressModel",
          "state": {
            "_view_name": "ProgressView",
            "style": "IPY_MODEL_72223cda2f7a4a69b8bb2220e0671799",
            "_dom_classes": [],
            "description": "Querying your system, brother: 100%",
            "_model_name": "FloatProgressModel",
            "bar_style": "",
            "max": 225,
            "_view_module": "@jupyter-widgets/controls",
            "_model_module_version": "1.5.0",
            "value": 225,
            "_view_count": null,
            "_view_module_version": "1.5.0",
            "orientation": "horizontal",
            "min": 0,
            "description_tooltip": null,
            "_model_module": "@jupyter-widgets/controls",
            "layout": "IPY_MODEL_8a60f476c08245d3a3ac25632edbff55"
          }
        },
        "67701a0eaaab490f9bcd4eff9fd353c3": {
          "model_module": "@jupyter-widgets/controls",
          "model_name": "HTMLModel",
          "state": {
            "_view_name": "HTMLView",
            "style": "IPY_MODEL_458da016978e461a88ab51febe8756fc",
            "_dom_classes": [],
            "description": "",
            "_model_name": "HTMLModel",
            "placeholder": "​",
            "_view_module": "@jupyter-widgets/controls",
            "_model_module_version": "1.5.0",
            "value": " 225/225 [00:15&lt;00:00, 12.94it/s]",
            "_view_count": null,
            "_view_module_version": "1.5.0",
            "description_tooltip": null,
            "_model_module": "@jupyter-widgets/controls",
            "layout": "IPY_MODEL_e63895e465e1429e92e100a325c7a917"
          }
        },
        "72223cda2f7a4a69b8bb2220e0671799": {
          "model_module": "@jupyter-widgets/controls",
          "model_name": "ProgressStyleModel",
          "state": {
            "_view_name": "StyleView",
            "_model_name": "ProgressStyleModel",
            "description_width": "initial",
            "_view_module": "@jupyter-widgets/base",
            "_model_module_version": "1.5.0",
            "_view_count": null,
            "_view_module_version": "1.2.0",
            "bar_color": null,
            "_model_module": "@jupyter-widgets/controls"
          }
        },
        "8a60f476c08245d3a3ac25632edbff55": {
          "model_module": "@jupyter-widgets/base",
          "model_name": "LayoutModel",
          "state": {
            "_view_name": "LayoutView",
            "grid_template_rows": null,
            "right": null,
            "justify_content": null,
            "_view_module": "@jupyter-widgets/base",
            "overflow": null,
            "_model_module_version": "1.2.0",
            "_view_count": null,
            "flex_flow": null,
            "width": null,
            "min_width": null,
            "border": null,
            "align_items": null,
            "bottom": null,
            "_model_module": "@jupyter-widgets/base",
            "top": null,
            "grid_column": null,
            "overflow_y": null,
            "overflow_x": null,
            "grid_auto_flow": null,
            "grid_area": null,
            "grid_template_columns": null,
            "flex": null,
            "_model_name": "LayoutModel",
            "justify_items": null,
            "grid_row": null,
            "max_height": null,
            "align_content": null,
            "visibility": null,
            "align_self": null,
            "height": null,
            "min_height": null,
            "padding": null,
            "grid_auto_rows": null,
            "grid_gap": null,
            "max_width": null,
            "order": null,
            "_view_module_version": "1.2.0",
            "grid_template_areas": null,
            "object_position": null,
            "object_fit": null,
            "grid_auto_columns": null,
            "margin": null,
            "display": null,
            "left": null
          }
        },
        "458da016978e461a88ab51febe8756fc": {
          "model_module": "@jupyter-widgets/controls",
          "model_name": "DescriptionStyleModel",
          "state": {
            "_view_name": "StyleView",
            "_model_name": "DescriptionStyleModel",
            "description_width": "",
            "_view_module": "@jupyter-widgets/base",
            "_model_module_version": "1.5.0",
            "_view_count": null,
            "_view_module_version": "1.2.0",
            "_model_module": "@jupyter-widgets/controls"
          }
        },
        "e63895e465e1429e92e100a325c7a917": {
          "model_module": "@jupyter-widgets/base",
          "model_name": "LayoutModel",
          "state": {
            "_view_name": "LayoutView",
            "grid_template_rows": null,
            "right": null,
            "justify_content": null,
            "_view_module": "@jupyter-widgets/base",
            "overflow": null,
            "_model_module_version": "1.2.0",
            "_view_count": null,
            "flex_flow": null,
            "width": null,
            "min_width": null,
            "border": null,
            "align_items": null,
            "bottom": null,
            "_model_module": "@jupyter-widgets/base",
            "top": null,
            "grid_column": null,
            "overflow_y": null,
            "overflow_x": null,
            "grid_auto_flow": null,
            "grid_area": null,
            "grid_template_columns": null,
            "flex": null,
            "_model_name": "LayoutModel",
            "justify_items": null,
            "grid_row": null,
            "max_height": null,
            "align_content": null,
            "visibility": null,
            "align_self": null,
            "height": null,
            "min_height": null,
            "padding": null,
            "grid_auto_rows": null,
            "grid_gap": null,
            "max_width": null,
            "order": null,
            "_view_module_version": "1.2.0",
            "grid_template_areas": null,
            "object_position": null,
            "object_fit": null,
            "grid_auto_columns": null,
            "margin": null,
            "display": null,
            "left": null
          }
        }
      }
    }
  },
  "cells": [
    {
      "cell_type": "markdown",
      "metadata": {
        "id": "AmGKfAwV28wA"
      },
      "source": [
        "# Assignment no.1 - Implementation of information retrieval system\n",
        "\n",
        "---\n",
        "\n"
      ]
    },
    {
      "cell_type": "markdown",
      "metadata": {
        "id": "AbHbOmhJ48MG"
      },
      "source": [
        "## ℹ️ Project info\n",
        "*   **Course**: PV211 Introduction to information retrieval\n",
        "*   Semester: Summer semester 2021\n",
        "*   **Author**: Adam Hospodka ([506521@muni.cz](mailto:506521@muni.cz))\n",
        "*   **UČO**: 506521"
      ]
    },
    {
      "cell_type": "markdown",
      "metadata": {
        "id": "43UYar2l5SXy"
      },
      "source": [
        "## 🧭 Application overview\n",
        "\n",
        "### Idea:\n",
        "Ranking the documents for given queries using the standard *TF-IDF* approach with small tweaks.\n",
        "\n",
        "###Steps:\n",
        "1. List every word from every document using ```buildPairs()``` function\n",
        "2. Remove duplicates using the ```uniq()``` function\n",
        "3. Based on these pairs create inverted index using the ```buildInvertedIndex()``` function\n",
        "4. Use knowledge of inverted index to build frequency index (inv. index with word frequencies) using the ```buildFrequencyIndex()``` function\n",
        "5. Build index that contains length of each document using the ```buildDocumentsLengthIndex()``` function\n",
        "6. Prepare *Pandas* DataFrame with document instances ready to be ranked using the ```buildRankingDf()``` function\n",
        "7. Initialize the search with ```IRSystem.search()```\n",
        "8. Clean the given query with the ```cleanQuery()``` function\n",
        "9. Rank the relevant documents with the ```rank()``` function\n",
        "\n"
      ]
    },
    {
      "cell_type": "markdown",
      "metadata": {
        "id": "Cicor2V-m2lm"
      },
      "source": [
        "## 📚 Imports"
      ]
    },
    {
      "cell_type": "code",
      "metadata": {
        "id": "yMJ5g_a4rwxZ",
        "colab": {
          "base_uri": "https://localhost:8080/"
        },
        "outputId": "cb1f1e04-2cfc-4ba2-d7f5-f4ac32d9a483"
      },
      "source": [
        "pip install git+https://gitlab.fi.muni.cz/xstefan3/pv211-utils.git@master | grep \"Succ\""
      ],
      "execution_count": null,
      "outputs": [
        {
          "output_type": "stream",
          "text": [
            "  Running command git clone -q https://gitlab.fi.muni.cz/xstefan3/pv211-utils.git /tmp/pip-req-build-4vdm3mbq\n",
            "Successfully built pv211-utils\n"
          ],
          "name": "stdout"
        }
      ]
    },
    {
      "cell_type": "code",
      "metadata": {
        "id": "3LAVXI4ffHQJ",
        "colab": {
          "base_uri": "https://localhost:8080/"
        },
        "outputId": "9a12d195-83ac-4294-ce77-85047d938e2f"
      },
      "source": [
        "import nltk\n",
        "import time\n",
        "import math\n",
        "import random\n",
        "import numpy as np\n",
        "import pandas as pd\n",
        "from typing import Iterable\n",
        "from tqdm.notebook import tqdm\n",
        "from nltk.corpus import stopwords\n",
        "\n",
        "from pv211_utils.cranfield.loader import load_queries\n",
        "from pv211_utils.cranfield.loader import load_documents\n",
        "from pv211_utils.cranfield.loader import load_judgements\n",
        "from pv211_utils.cranfield.eval import CranfieldEvaluation\n",
        "from pv211_utils.cranfield.entities import CranfieldQueryBase\n",
        "from pv211_utils.cranfield.irsystem import CranfieldIRSystemBase\n",
        "from pv211_utils.cranfield.entities import CranfieldDocumentBase\n",
        "from pv211_utils.cranfield.leaderboard import CranfieldLeaderboard\n",
        "\n",
        "nltk.download('punkt')\n",
        "nltk.download('stopwords')\n",
        "\n",
        "stemmer = nltk.PorterStemmer()\n",
        "stopwords = stopwords.words('english')"
      ],
      "execution_count": 2,
      "outputs": [
        {
          "output_type": "stream",
          "name": "stderr",
          "text": [
            "[nltk_data] Downloading package punkt to\n[nltk_data]     /Users/adamhospodka/nltk_data...\n[nltk_data]   Package punkt is already up-to-date!\n[nltk_data] Downloading package stopwords to\n[nltk_data]     /Users/adamhospodka/nltk_data...\n[nltk_data]   Package stopwords is already up-to-date!\n"
          ]
        }
      ]
    },
    {
      "cell_type": "markdown",
      "metadata": {
        "id": "Ghor8QSFgIw0"
      },
      "source": [
        "## 🏗 Instance load\n"
      ]
    },
    {
      "cell_type": "markdown",
      "metadata": {
        "id": "-iz6-DfLItFd"
      },
      "source": [
        "### Documents"
      ]
    },
    {
      "cell_type": "code",
      "metadata": {
        "id": "0oLD3jZ9fi9D"
      },
      "source": [
        "class Document(CranfieldDocumentBase):\n",
        "  \"\"\"\n",
        "  A preprocessed Cranfield collection document\n",
        "  \"\"\"\n",
        "\n",
        "  def __init__(self, document_id: str, authors: str, bibliography: str, title: str, body: str):\n",
        "    stem_body = body\n",
        "    stem_body = nltk.word_tokenize(stem_body)\n",
        "    stem_body = [stemmer.stem(token) for token in stem_body]\n",
        "    self.stem_body = stem_body\n",
        "\n",
        "    super().__init__(document_id, authors, bibliography, title, body)\n",
        "    "
      ],
      "execution_count": 3,
      "outputs": []
    },
    {
      "cell_type": "code",
      "metadata": {
        "id": "A8195MKTgTE8"
      },
      "source": [
        "documents = load_documents(Document)"
      ],
      "execution_count": 4,
      "outputs": []
    },
    {
      "cell_type": "markdown",
      "metadata": {
        "id": "3NyssuO-Ivw1"
      },
      "source": [
        "### Queries"
      ]
    },
    {
      "cell_type": "code",
      "metadata": {
        "id": "KHXNf2i8gZ0o"
      },
      "source": [
        "class Query(CranfieldQueryBase):\n",
        "  \"\"\"\n",
        "  A preprocessed Cranfield collection query\n",
        "  \"\"\"\n",
        "\n",
        "  def __init__(self, query_id: int, body: str):\n",
        "    super().__init__(query_id, body)"
      ],
      "execution_count": 5,
      "outputs": []
    },
    {
      "cell_type": "code",
      "metadata": {
        "id": "m-aYtXa0gafs"
      },
      "source": [
        "queries = load_queries(Query)"
      ],
      "execution_count": 6,
      "outputs": []
    },
    {
      "cell_type": "markdown",
      "metadata": {
        "id": "5hx1CgXTmPwY"
      },
      "source": [
        "## 📜 Index construction"
      ]
    },
    {
      "cell_type": "markdown",
      "metadata": {
        "id": "g6-Ieubw6O5e"
      },
      "source": [
        "### Listing pairs (term, document)"
      ]
    },
    {
      "cell_type": "code",
      "metadata": {
        "id": "mfwh9F2_SyGM"
      },
      "source": [
        "def isStringNumber(token):\n",
        "  \"\"\" \n",
        "  Checks whether the passed string isn't actually a number.\n",
        "\n",
        "  Parameters\n",
        "  ----------\n",
        "  token: str\n",
        "    Token from body of document instance.\n",
        "\n",
        "  \"\"\"\n",
        "\n",
        "  try: \n",
        "    x = int(token) > 0\n",
        "    return(False)\n",
        "  except:\n",
        "    return(True)"
      ],
      "execution_count": 7,
      "outputs": []
    },
    {
      "cell_type": "code",
      "metadata": {
        "id": "Horrghr7gepm"
      },
      "source": [
        "def buildPairs():\n",
        "  \"\"\" \n",
        "  Crawls every document instance and creates a tuples -> (token, document id).\n",
        "  It only does it so when token obeys certain conditions.\n",
        "  Passed tokens are stemmed.\n",
        "  Returns list of pairs.\n",
        "\n",
        "  \"\"\"\n",
        "    \n",
        "  pairs = []\n",
        "            \n",
        "  for key, value in documents.items(): \n",
        "    body = str(value.body)\n",
        "    tokens = nltk.word_tokenize(body)\n",
        "\n",
        "    for token in tokens:\n",
        "      cond1 = len(token) > 1\n",
        "      cond2 = token not in stopwords\n",
        "      cond3 = isStringNumber(token) == True\n",
        "\n",
        "      if cond1 and cond2 and cond3:   \n",
        "        token = stemmer.stem(token)\n",
        "        doc_id = key\n",
        "        pairs.append((token, doc_id))\n",
        "    \n",
        "  return(pairs)"
      ],
      "execution_count": 8,
      "outputs": []
    },
    {
      "cell_type": "markdown",
      "metadata": {
        "id": "uH-us6fsMXhQ"
      },
      "source": [
        "### Unique pairs sorter"
      ]
    },
    {
      "cell_type": "code",
      "metadata": {
        "id": "M5r6IrQUTRv9"
      },
      "source": [
        "def uniq(sorted_list):\n",
        "  \"\"\" \n",
        "  Crawls every document instance and creates a tuples -> (token, document id).\n",
        "  It only does it so when token obeys certain conditions.\n",
        "  Passed tokens are stemmed.\n",
        "  Returns list of unique pairs (token, document id).\n",
        "  \n",
        "  Parameters\n",
        "  ----------\n",
        "  sorted_list: list\n",
        "    List of sorted tuples from buildPairs() functions \n",
        "\n",
        "  \"\"\"\n",
        "    \n",
        "  if len(sorted_list) <= 1:\n",
        "    return sorted_list\n",
        "\n",
        "  uniq_list = sorted_list[:1]\n",
        "  previous_value = sorted_list[0]\n",
        "\n",
        "  for value in sorted_list[1:]:\n",
        "    if value != previous_value:\n",
        "      uniq_list.append(value)\n",
        "      previous_value = value\n",
        "                \n",
        "  return uniq_list"
      ],
      "execution_count": 9,
      "outputs": []
    },
    {
      "cell_type": "markdown",
      "metadata": {
        "id": "BIoETyE2MTdU"
      },
      "source": [
        "### Inverted index construction"
      ]
    },
    {
      "cell_type": "code",
      "metadata": {
        "id": "4Znw-klpgub_"
      },
      "source": [
        "def buildInvertedIndex(uniq_pairs):\n",
        "  \"\"\" \n",
        "  Creates inverted index using the list of unique pairs (token, document id).\n",
        "  Returns inverted index (dictionary)\n",
        "\n",
        "  Parameters\n",
        "  ----------\n",
        "  uniq_pairs: list\n",
        "    List of unique tuples -> (term, document id)\n",
        "\n",
        "  \"\"\"\n",
        "\n",
        "  inverted_index = {}\n",
        "\n",
        "  for term, document_id in pairs:\n",
        "    if term not in inverted_index:\n",
        "      inverted_index[term] = []\n",
        "\n",
        "    inverted_index[term].append(document_id)\n",
        "    \n",
        "  return inverted_index"
      ],
      "execution_count": 10,
      "outputs": []
    },
    {
      "cell_type": "markdown",
      "metadata": {
        "id": "HpeYPhFgMJcJ"
      },
      "source": [
        "### Frequency index construction"
      ]
    },
    {
      "cell_type": "code",
      "metadata": {
        "id": "traubdKIhJoa"
      },
      "source": [
        "def buildFrequencyIndex():\n",
        "  \"\"\" \n",
        "  Creates frequency index (inverted index with term frequencies)\n",
        "  using inverted index as heuristics for crawling.\n",
        "  Returns frequency index (dictinoary).\n",
        "\n",
        "  \"\"\"\n",
        "\n",
        "  frequency_index = {}\n",
        "\n",
        "  for term, relevant_documents in inverted_index.items():\n",
        "    local_list = {}\n",
        "\n",
        "    for doc_id in relevant_documents:\n",
        "      stem_body = documents[doc_id].stem_body\n",
        "      frequency = stem_body.count(term)\n",
        "      local_list[doc_id] = frequency\n",
        "\n",
        "    frequency_index[term] = local_list\n",
        "\n",
        "  return frequency_index"
      ],
      "execution_count": 11,
      "outputs": []
    },
    {
      "cell_type": "markdown",
      "metadata": {
        "id": "4qkRnGkRmdFq"
      },
      "source": [
        "### Documents length index construction"
      ]
    },
    {
      "cell_type": "code",
      "metadata": {
        "id": "CBTa2wuKjLK5"
      },
      "source": [
        "def buildDocumentsLengthIndex():\n",
        "  \"\"\" \n",
        "  Creates index containing information about documents lengths.\n",
        "  Returns documents length index (dictionary).\n",
        "\n",
        "  \"\"\"\n",
        "\n",
        "  documentsLengthIndex = {}\n",
        "\n",
        "  for key, value in documents.items():\n",
        "    count_of_words = len(nltk.word_tokenize(value.body))\n",
        "    documentsLengthIndex[key] = count_of_words\n",
        "    \n",
        "  return documentsLengthIndex"
      ],
      "execution_count": 12,
      "outputs": []
    },
    {
      "cell_type": "markdown",
      "metadata": {
        "id": "TaRNnCtBn1ol"
      },
      "source": [
        "## 🧮 Dataframe for ranking results"
      ]
    },
    {
      "cell_type": "code",
      "metadata": {
        "id": "WhIE8xlIn1vI"
      },
      "source": [
        "def buildRankingDf():\n",
        "  \"\"\" \n",
        "  Prepares dataframe (table) with document instances loaded.\n",
        "  Ranking and sorting will be happening within this structure once called.\n",
        "  Returns dataframe.\n",
        "\n",
        "  \"\"\"\n",
        "\n",
        "  id_as_list = [key for key, value in documents.items()]\n",
        "  text_as_list = [value for key, value in documents.items()]\n",
        "\n",
        "  df = pd.DataFrame({\"Numbers\":  id_as_list, \"Values\": text_as_list, \"Rank\": 0, \"Matches\": \"\" }) \n",
        "  df = df.set_index(\"Numbers\")\n",
        "\n",
        "  return df"
      ],
      "execution_count": 13,
      "outputs": []
    },
    {
      "cell_type": "markdown",
      "metadata": {
        "id": "5eC8gGBiniEh"
      },
      "source": [
        "## 🧹 Query cleaning"
      ]
    },
    {
      "cell_type": "code",
      "metadata": {
        "id": "RLAvDHg6njtZ"
      },
      "source": [
        "def cleanQuery(query):\n",
        "  \"\"\" \n",
        "  Cleans passed query's body.\n",
        "  Tokenization, stemming, stopwords and (words< 1) removed.\n",
        "  Returns clean query body (array).\n",
        "\n",
        "  \"\"\" \n",
        "            \n",
        "  query = query.body\n",
        "  query = nltk.word_tokenize(query)\n",
        "  query = [stemmer.stem(token) for token in query]\n",
        "  query = [token for token in query if len(token) > 1 if token not in stopwords]\n",
        "\n",
        "  return query"
      ],
      "execution_count": 14,
      "outputs": []
    },
    {
      "cell_type": "markdown",
      "metadata": {
        "id": "mt7lvy9JNDDZ"
      },
      "source": [
        "## 💯 Ranking mechanism"
      ]
    },
    {
      "cell_type": "code",
      "metadata": {
        "id": "_x45IlUunrlf"
      },
      "source": [
        "def rank(query):\n",
        "  \"\"\" \n",
        "  For every token in query ranks documents in dataframe based on the TF-IDF mechanism\n",
        "  Also adds a point for every matched terms in document (no matter the frequency).\n",
        "  Also adds a point for every matched terms in docuemnt title.\n",
        "  Saves the matched terms\n",
        "\n",
        "  \"\"\"\n",
        "\n",
        "  global ranking_df\n",
        "  ranking_df[\"Rank\"] = 0.0\n",
        "  ranking_df[\"Matches\"] = \"\"\n",
        "\n",
        "\n",
        "  for term in query:\n",
        "    if term in frequency_index:     \n",
        "      for doc_id in frequency_index[term]:\n",
        "\n",
        "        # TF-IFD scoring (+ 1 point)\n",
        "        tf = frequency_index[term][str(doc_id)] / documentsLengthIndex[str(doc_id)]\n",
        "        idf = math.log(len(documents) / len(frequency_index[term]),2)\n",
        "        score = tf * idf\n",
        "        ranking_df.at[doc_id, \"Rank\"] += 1 + score\n",
        "\n",
        "        # Additional points for term in title\n",
        "        if term in documents[doc_id].title:\n",
        "          ranking_df.at[doc_id, \"Rank\"] += 1\n",
        "\n",
        "        # Adding found terms to dataframe\n",
        "        ranking_df.at[doc_id, \"Matches\"] = ranking_df.at[doc_id, \"Matches\"] + \" \" + term + \"-\" + str(frequency_index[term][str(doc_id)])\n",
        "\n",
        "\n",
        "\n",
        "  ranking_df = ranking_df.sort_values(\"Rank\", ascending = False)\n",
        "  sorted_documents = ranking_df[\"Values\"].tolist()\n",
        "\n",
        "  return sorted_documents"
      ],
      "execution_count": 15,
      "outputs": []
    },
    {
      "cell_type": "markdown",
      "metadata": {
        "id": "jjS0oNICxmFV"
      },
      "source": [
        "## 🦸‍♂️ Functions, assemble!\n",
        "\n"
      ]
    },
    {
      "cell_type": "code",
      "metadata": {
        "id": "g3nPCaY6wqDF"
      },
      "source": [
        "pairs = buildPairs()\n",
        "uniq_pairs = uniq(sorted(pairs, key=lambda x: (x[0].lower(), x[1])))\n",
        "inverted_index = buildInvertedIndex(uniq_pairs)\n",
        "frequency_index = buildFrequencyIndex()\n",
        "documentsLengthIndex = buildDocumentsLengthIndex()\n",
        "ranking_df = buildRankingDf()"
      ],
      "execution_count": 16,
      "outputs": []
    },
    {
      "cell_type": "code",
      "metadata": {
        "colab": {
          "base_uri": "https://localhost:8080/"
        },
        "id": "A7N_kxP3_lar",
        "outputId": "48578279-77ac-4606-eecd-905d22e52fd7"
      },
      "source": [
        "# Pairs Showcase\n",
        "print(f\"Pairs: \\n {pairs[2000:2010]} \\n\")"
      ],
      "execution_count": 46,
      "outputs": [
        {
          "output_type": "stream",
          "name": "stdout",
          "text": [
            "Pairs: \n [('similar', '25'), ('theori', '25'), ('except', '25'), ('near', '25'), ('hemisphere-cylind', '25'), ('junction', '25'), ('energi', '25'), ('consider', '25'), ('combin', '25'), ('detail', '25')] \n\n"
          ]
        }
      ]
    },
    {
      "cell_type": "code",
      "metadata": {
        "colab": {
          "base_uri": "https://localhost:8080/"
        },
        "id": "2aV4cOEjAANq",
        "outputId": "d1b660a7-acba-4976-c26a-08870db38193"
      },
      "source": [
        "# Unique Pairs Showcase\n",
        "print(f\"Unique Pairs: \\n {uniq_pairs[2000:2010]} \\n\")"
      ],
      "execution_count": 47,
      "outputs": [
        {
          "output_type": "stream",
          "name": "stdout",
          "text": [
            "Unique Pairs: \n [('account', '594'), ('account', '596'), ('account', '600'), ('account', '610'), ('account', '616'), ('account', '619'), ('account', '63'), ('account', '652'), ('account', '667'), ('account', '683')] \n\n"
          ]
        }
      ]
    },
    {
      "cell_type": "code",
      "metadata": {
        "colab": {
          "base_uri": "https://localhost:8080/"
        },
        "id": "w0yu3iUUAAFt",
        "outputId": "8986501b-1b68-4fe4-e6df-d8738af9c711"
      },
      "source": [
        "# Inverted Index Showcase\n",
        "\n",
        "print(\"Inverted Index: \\n Whirl:{} \\n\".format(inverted_index[\"whirl\"]))"
      ],
      "execution_count": 48,
      "outputs": [
        {
          "output_type": "stream",
          "name": "stdout",
          "text": [
            "Inverted Index: \n Whirl:['42', '42', '183', '989'] \n\n"
          ]
        }
      ]
    },
    {
      "cell_type": "code",
      "metadata": {
        "colab": {
          "base_uri": "https://localhost:8080/"
        },
        "id": "-HVyQzJlBiKA",
        "outputId": "19905ae7-d1fb-4368-94f9-2556d2517629"
      },
      "source": [
        "# Frequency Index Showcase\n",
        "\n",
        "print(\"Frequency Index: \\n Whirl:{} \\n\".format(frequency_index[\"whirl\"]))"
      ],
      "execution_count": 49,
      "outputs": [
        {
          "output_type": "stream",
          "name": "stdout",
          "text": [
            "Frequency Index: \n Whirl:{'42': 2, '183': 1, '989': 1} \n\n"
          ]
        }
      ]
    },
    {
      "cell_type": "code",
      "metadata": {
        "colab": {
          "base_uri": "https://localhost:8080/"
        },
        "id": "y8yPdZ3ACBir",
        "outputId": "29e96fc6-85cc-4f0f-da46-68c740be53a1"
      },
      "source": [
        "# Documents Length Index Showcase\n",
        "\n",
        "keys = [x for x in documentsLengthIndex.keys()]\n",
        "for x in range(10):\n",
        "    print(keys[x],documentsLengthIndex[keys[x]])"
      ],
      "execution_count": 50,
      "outputs": [
        {
          "output_type": "stream",
          "name": "stdout",
          "text": [
            "1 147\n2 206\n3 26\n4 80\n5 57\n6 113\n7 250\n8 173\n9 347\n10 54\n"
          ]
        }
      ]
    },
    {
      "cell_type": "code",
      "metadata": {
        "colab": {
          "base_uri": "https://localhost:8080/"
        },
        "id": "ZzrRXIHaCzew",
        "outputId": "81323fcb-3b32-477d-faed-5275d5536b39"
      },
      "source": [
        "# Ranking DataFrame Showcase\n",
        "\n",
        "print(\"Ranking DataFrame: \\n {} \\n\".format(ranking_df))"
      ],
      "execution_count": 51,
      "outputs": [
        {
          "output_type": "stream",
          "name": "stdout",
          "text": [
            "Ranking DataFrame: \n                                                     Values  Rank Matches\nNumbers                                                                 \n1        <Document 1 “experimental investigation of the...     0        \n2        <Document 2 “simple shear flow past a flat pla...     0        \n3        <Document 3 “the boundary layer in simple shea...     0        \n4        <Document 4 “approximate solutions of the inco...     0        \n5        <Document 5 “one-dimensional transient heat co...     0        \n...                                                    ...   ...     ...\n1396     <Document 1396 “shear buckling of clamped and ...     0        \n1397     <Document 1397 “critical shear stress of an in...     0        \n1398     <Document 1398 “stability of rectangular plate...     0        \n1399     <Document 1399 “buckling of transverse stiffen...     0        \n1400     <Document 1400 “the buckling shear stress of s...     0        \n\n[1400 rows x 3 columns] \n\n"
          ]
        }
      ]
    },
    {
      "cell_type": "markdown",
      "metadata": {
        "id": "RNgTAZRdyTuU"
      },
      "source": [
        "## 🚧 IR System evaluation\n",
        "\n"
      ]
    },
    {
      "cell_type": "code",
      "metadata": {
        "id": "UYO-dovYyVKa"
      },
      "source": [
        "class IRSystem(CranfieldIRSystemBase):\n",
        "  \"\"\"\n",
        "    Implementation of information retrieval system.\n",
        "  \n",
        "  \"\"\"\n",
        "\n",
        "  def __init__(self, print_matrix):\n",
        "    self.documents = documents\n",
        "    self.print_matrix = print_matrix\n",
        "\n",
        "  def search(self, query: Query):\n",
        "    query = cleanQuery(query)\n",
        "    sorted_documents = rank(query)\n",
        "\n",
        "    if self.print_matrix == True:\n",
        "      print(\"Query: \",query)\n",
        "      print(ranking_df.head(20))\n",
        "        \n",
        "    return(sorted_documents)"
      ],
      "execution_count": 52,
      "outputs": []
    },
    {
      "cell_type": "code",
      "metadata": {
        "colab": {
          "base_uri": "https://localhost:8080/",
          "height": 92,
          "referenced_widgets": [
            "fb5103be8d1248dea73b4ae2aca173db",
            "615fe6cea2c44f0db33c95f9b6faac9e",
            "ec4b60b52885434f9f82ff79de2c1f97",
            "67701a0eaaab490f9bcd4eff9fd353c3",
            "72223cda2f7a4a69b8bb2220e0671799",
            "8a60f476c08245d3a3ac25632edbff55",
            "458da016978e461a88ab51febe8756fc",
            "e63895e465e1429e92e100a325c7a917"
          ]
        },
        "id": "-MwyqF0I-a0O",
        "outputId": "b8575290-4034-4b36-cf44-62f5d2b7f96c"
      },
      "source": [
        "submit_result = True\n",
        "author_name = \"Hospodka, Adam\"\n",
        "\n",
        "system = IRSystem(print_matrix = False)\n",
        "\n",
        "print('Initializing your system ...', end='', flush=True)\n",
        "evaluation = CranfieldEvaluation(system, load_judgements(queries, documents), CranfieldLeaderboard(), author_name)\n",
        "print(end='\\r', flush=True)\n",
        "evaluation.evaluate(tqdm(queries.values(), desc=\"Querying your system, brother\", leave=False), submit_result)"
      ],
      "execution_count": 53,
      "outputs": [
        {
          "output_type": "stream",
          "name": "stdout",
          "text": []
        },
        {
          "output_type": "display_data",
          "data": {
            "text/plain": "HBox(children=(FloatProgress(value=0.0, description='Querying your system, brother', max=225.0, style=Progress…",
            "application/vnd.jupyter.widget-view+json": {
              "version_major": 2,
              "version_minor": 0,
              "model_id": "325540cd57ed4f619d44e5bf03f1219a"
            }
          },
          "metadata": {}
        },
        {
          "output_type": "stream",
          "name": "stdout",
          "text": [
            ""
          ]
        },
        {
          "output_type": "display_data",
          "data": {
            "text/plain": "<IPython.core.display.Markdown object>",
            "text/markdown": "Your system achieved **37.46% MAP score**."
          },
          "metadata": {}
        },
        {
          "output_type": "display_data",
          "data": {
            "text/plain": "<IPython.core.display.Markdown object>",
            "text/markdown": "Congratulations, you passed the **35%** minimum! 🥳"
          },
          "metadata": {}
        },
        {
          "output_type": "display_data",
          "data": {
            "text/plain": "<IPython.core.display.Markdown object>",
            "text/markdown": "Your result has been submitted to [the leaderboard](https://docs.google.com/spreadsheets/d/e/2PACX-1vRRR4eDkQIWx5FSU08Uj5DciWwxNfHJeLruNR1T0WW9xmSsYl457Zqv5SlA1jfvsYHpsaUw_8P3z1OF/pubhtml)! 🏆"
          },
          "metadata": {}
        }
      ]
    }
  ]
}