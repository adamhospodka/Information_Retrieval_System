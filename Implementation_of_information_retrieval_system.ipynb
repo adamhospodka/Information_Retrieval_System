{
  "nbformat": 4,
  "nbformat_minor": 0,
  "metadata": {
    "colab": {
      "name": "Implementation of information retrieval system.ipynb",
      "provenance": [],
      "collapsed_sections": [
        "AbHbOmhJ48MG",
        "43UYar2l5SXy"
      ]
    },
    "kernelspec": {
      "name": "python3",
      "display_name": "Python 3"
    },
    "language_info": {
      "name": "python"
    },
    "widgets": {
      "application/vnd.jupyter.widget-state+json": {
        "fb5103be8d1248dea73b4ae2aca173db": {
          "model_module": "@jupyter-widgets/controls",
          "model_name": "HBoxModel",
          "state": {
            "_view_name": "HBoxView",
            "_dom_classes": [],
            "_model_name": "HBoxModel",
            "_view_module": "@jupyter-widgets/controls",
            "_model_module_version": "1.5.0",
            "_view_count": null,
            "_view_module_version": "1.5.0",
            "box_style": "",
            "layout": "IPY_MODEL_615fe6cea2c44f0db33c95f9b6faac9e",
            "_model_module": "@jupyter-widgets/controls",
            "children": [
              "IPY_MODEL_ec4b60b52885434f9f82ff79de2c1f97",
              "IPY_MODEL_67701a0eaaab490f9bcd4eff9fd353c3"
            ]
          }
        },
        "615fe6cea2c44f0db33c95f9b6faac9e": {
          "model_module": "@jupyter-widgets/base",
          "model_name": "LayoutModel",
          "state": {
            "_view_name": "LayoutView",
            "grid_template_rows": null,
            "right": null,
            "justify_content": null,
            "_view_module": "@jupyter-widgets/base",
            "overflow": null,
            "_model_module_version": "1.2.0",
            "_view_count": null,
            "flex_flow": null,
            "width": null,
            "min_width": null,
            "border": null,
            "align_items": null,
            "bottom": null,
            "_model_module": "@jupyter-widgets/base",
            "top": null,
            "grid_column": null,
            "overflow_y": null,
            "overflow_x": null,
            "grid_auto_flow": null,
            "grid_area": null,
            "grid_template_columns": null,
            "flex": null,
            "_model_name": "LayoutModel",
            "justify_items": null,
            "grid_row": null,
            "max_height": null,
            "align_content": null,
            "visibility": null,
            "align_self": null,
            "height": null,
            "min_height": null,
            "padding": null,
            "grid_auto_rows": null,
            "grid_gap": null,
            "max_width": null,
            "order": null,
            "_view_module_version": "1.2.0",
            "grid_template_areas": null,
            "object_position": null,
            "object_fit": null,
            "grid_auto_columns": null,
            "margin": null,
            "display": null,
            "left": null
          }
        },
        "ec4b60b52885434f9f82ff79de2c1f97": {
          "model_module": "@jupyter-widgets/controls",
          "model_name": "FloatProgressModel",
          "state": {
            "_view_name": "ProgressView",
            "style": "IPY_MODEL_72223cda2f7a4a69b8bb2220e0671799",
            "_dom_classes": [],
            "description": "Querying your system, brother: 100%",
            "_model_name": "FloatProgressModel",
            "bar_style": "",
            "max": 225,
            "_view_module": "@jupyter-widgets/controls",
            "_model_module_version": "1.5.0",
            "value": 225,
            "_view_count": null,
            "_view_module_version": "1.5.0",
            "orientation": "horizontal",
            "min": 0,
            "description_tooltip": null,
            "_model_module": "@jupyter-widgets/controls",
            "layout": "IPY_MODEL_8a60f476c08245d3a3ac25632edbff55"
          }
        },
        "67701a0eaaab490f9bcd4eff9fd353c3": {
          "model_module": "@jupyter-widgets/controls",
          "model_name": "HTMLModel",
          "state": {
            "_view_name": "HTMLView",
            "style": "IPY_MODEL_458da016978e461a88ab51febe8756fc",
            "_dom_classes": [],
            "description": "",
            "_model_name": "HTMLModel",
            "placeholder": "​",
            "_view_module": "@jupyter-widgets/controls",
            "_model_module_version": "1.5.0",
            "value": " 225/225 [00:15&lt;00:00, 12.94it/s]",
            "_view_count": null,
            "_view_module_version": "1.5.0",
            "description_tooltip": null,
            "_model_module": "@jupyter-widgets/controls",
            "layout": "IPY_MODEL_e63895e465e1429e92e100a325c7a917"
          }
        },
        "72223cda2f7a4a69b8bb2220e0671799": {
          "model_module": "@jupyter-widgets/controls",
          "model_name": "ProgressStyleModel",
          "state": {
            "_view_name": "StyleView",
            "_model_name": "ProgressStyleModel",
            "description_width": "initial",
            "_view_module": "@jupyter-widgets/base",
            "_model_module_version": "1.5.0",
            "_view_count": null,
            "_view_module_version": "1.2.0",
            "bar_color": null,
            "_model_module": "@jupyter-widgets/controls"
          }
        },
        "8a60f476c08245d3a3ac25632edbff55": {
          "model_module": "@jupyter-widgets/base",
          "model_name": "LayoutModel",
          "state": {
            "_view_name": "LayoutView",
            "grid_template_rows": null,
            "right": null,
            "justify_content": null,
            "_view_module": "@jupyter-widgets/base",
            "overflow": null,
            "_model_module_version": "1.2.0",
            "_view_count": null,
            "flex_flow": null,
            "width": null,
            "min_width": null,
            "border": null,
            "align_items": null,
            "bottom": null,
            "_model_module": "@jupyter-widgets/base",
            "top": null,
            "grid_column": null,
            "overflow_y": null,
            "overflow_x": null,
            "grid_auto_flow": null,
            "grid_area": null,
            "grid_template_columns": null,
            "flex": null,
            "_model_name": "LayoutModel",
            "justify_items": null,
            "grid_row": null,
            "max_height": null,
            "align_content": null,
            "visibility": null,
            "align_self": null,
            "height": null,
            "min_height": null,
            "padding": null,
            "grid_auto_rows": null,
            "grid_gap": null,
            "max_width": null,
            "order": null,
            "_view_module_version": "1.2.0",
            "grid_template_areas": null,
            "object_position": null,
            "object_fit": null,
            "grid_auto_columns": null,
            "margin": null,
            "display": null,
            "left": null
          }
        },
        "458da016978e461a88ab51febe8756fc": {
          "model_module": "@jupyter-widgets/controls",
          "model_name": "DescriptionStyleModel",
          "state": {
            "_view_name": "StyleView",
            "_model_name": "DescriptionStyleModel",
            "description_width": "",
            "_view_module": "@jupyter-widgets/base",
            "_model_module_version": "1.5.0",
            "_view_count": null,
            "_view_module_version": "1.2.0",
            "_model_module": "@jupyter-widgets/controls"
          }
        },
        "e63895e465e1429e92e100a325c7a917": {
          "model_module": "@jupyter-widgets/base",
          "model_name": "LayoutModel",
          "state": {
            "_view_name": "LayoutView",
            "grid_template_rows": null,
            "right": null,
            "justify_content": null,
            "_view_module": "@jupyter-widgets/base",
            "overflow": null,
            "_model_module_version": "1.2.0",
            "_view_count": null,
            "flex_flow": null,
            "width": null,
            "min_width": null,
            "border": null,
            "align_items": null,
            "bottom": null,
            "_model_module": "@jupyter-widgets/base",
            "top": null,
            "grid_column": null,
            "overflow_y": null,
            "overflow_x": null,
            "grid_auto_flow": null,
            "grid_area": null,
            "grid_template_columns": null,
            "flex": null,
            "_model_name": "LayoutModel",
            "justify_items": null,
            "grid_row": null,
            "max_height": null,
            "align_content": null,
            "visibility": null,
            "align_self": null,
            "height": null,
            "min_height": null,
            "padding": null,
            "grid_auto_rows": null,
            "grid_gap": null,
            "max_width": null,
            "order": null,
            "_view_module_version": "1.2.0",
            "grid_template_areas": null,
            "object_position": null,
            "object_fit": null,
            "grid_auto_columns": null,
            "margin": null,
            "display": null,
            "left": null
          }
        }
      }
    }
  },
  "cells": [
    {
      "cell_type": "markdown",
      "metadata": {
        "id": "AmGKfAwV28wA"
      },
      "source": [
        "# Assignment no.1 - Implementation of information retrieval system\n",
        "\n",
        "---\n",
        "\n"
      ]
    },
    {
      "cell_type": "markdown",
      "metadata": {
        "id": "AbHbOmhJ48MG"
      },
      "source": [
        "## ℹ️ Project info\n",
        "*   **Course**: PV211 Introduction to information retrieval\n",
        "*   Semester: Summer semester 2021\n",
        "*   **Author**: Adam Hospodka ([506521@muni.cz](mailto:506521@muni.cz))\n",
        "*   **UČO**: 506521"
      ]
    },
    {
      "cell_type": "markdown",
      "metadata": {
        "id": "43UYar2l5SXy"
      },
      "source": [
        "## 🧭 Application overview\n",
        "\n",
        "### Idea:\n",
        "Ranking the documents for given queries using the standard *TF-IDF* approach with small tweaks.\n",
        "\n",
        "###Steps:\n",
        "1. List every word from every document using ```buildPairs()``` function\n",
        "2. Remove duplicates using the ```uniq()``` function\n",
        "3. Based on these pairs create inverted index using the ```buildInvertedIndex()``` function\n",
        "4. Use knowledge of inverted index to build frequency index (inv. index with word frequencies) using the ```buildFrequencyIndex()``` function\n",
        "5. Build index that contains length of each document using the ```buildDocumentsLengthIndex()``` function\n",
        "6. Prepare *Pandas* DataFrame with document instances ready to be ranked using the ```buildRankingDf()``` function\n",
        "7. Initialize the search with ```IRSystem.search()```\n",
        "8. Clean the given query with the ```cleanQuery()``` function\n",
        "9. Rank the relevant documents with the ```rank()``` function\n",
        "\n"
      ]
    },
    {
      "cell_type": "markdown",
      "metadata": {
        "id": "Cicor2V-m2lm"
      },
      "source": [
        "## 📚 Imports"
      ]
    },
    {
      "cell_type": "code",
      "metadata": {
        "id": "yMJ5g_a4rwxZ",
        "colab": {
          "base_uri": "https://localhost:8080/"
        },
        "outputId": "cb1f1e04-2cfc-4ba2-d7f5-f4ac32d9a483"
      },
      "source": [
        "pip install git+https://gitlab.fi.muni.cz/xstefan3/pv211-utils.git@master | grep \"Succ\""
      ],
      "execution_count": null,
      "outputs": [
        {
          "output_type": "stream",
          "text": [
            "  Running command git clone -q https://gitlab.fi.muni.cz/xstefan3/pv211-utils.git /tmp/pip-req-build-4vdm3mbq\n",
            "Successfully built pv211-utils\n"
          ],
          "name": "stdout"
        }
      ]
    },
    {
      "cell_type": "code",
      "metadata": {
        "id": "3LAVXI4ffHQJ",
        "colab": {
          "base_uri": "https://localhost:8080/"
        },
        "outputId": "9a12d195-83ac-4294-ce77-85047d938e2f"
      },
      "source": [
        "import nltk\n",
        "import time\n",
        "import math\n",
        "import random\n",
        "import numpy as np\n",
        "import pandas as pd\n",
        "from typing import Iterable\n",
        "from tqdm.notebook import tqdm\n",
        "from nltk.corpus import stopwords\n",
        "\n",
        "from pv211_utils.cranfield.loader import load_queries\n",
        "from pv211_utils.cranfield.loader import load_documents\n",
        "from pv211_utils.cranfield.loader import load_judgements\n",
        "from pv211_utils.cranfield.eval import CranfieldEvaluation\n",
        "from pv211_utils.cranfield.entities import CranfieldQueryBase\n",
        "from pv211_utils.cranfield.irsystem import CranfieldIRSystemBase\n",
        "from pv211_utils.cranfield.entities import CranfieldDocumentBase\n",
        "from pv211_utils.cranfield.leaderboard import CranfieldLeaderboard\n",
        "\n",
        "nltk.download('punkt')\n",
        "nltk.download('stopwords')\n",
        "\n",
        "stemmer = nltk.PorterStemmer()\n",
        "stopwords = stopwords.words('english')"
      ],
      "execution_count": null,
      "outputs": [
        {
          "output_type": "stream",
          "text": [
            "[nltk_data] Downloading package punkt to /root/nltk_data...\n",
            "[nltk_data]   Package punkt is already up-to-date!\n",
            "[nltk_data] Downloading package stopwords to /root/nltk_data...\n",
            "[nltk_data]   Package stopwords is already up-to-date!\n"
          ],
          "name": "stdout"
        }
      ]
    },
    {
      "cell_type": "markdown",
      "metadata": {
        "id": "Ghor8QSFgIw0"
      },
      "source": [
        "## 🏗 Instance load\n"
      ]
    },
    {
      "cell_type": "markdown",
      "metadata": {
        "id": "-iz6-DfLItFd"
      },
      "source": [
        "### Documents"
      ]
    },
    {
      "cell_type": "code",
      "metadata": {
        "id": "0oLD3jZ9fi9D"
      },
      "source": [
        "class Document(CranfieldDocumentBase):\n",
        "  \"\"\"\n",
        "  A preprocessed Cranfield collection document\n",
        "  \"\"\"\n",
        "\n",
        "  def __init__(self, document_id: str, authors: str, bibliography: str, title: str, body: str):\n",
        "    stem_body = body\n",
        "    stem_body = nltk.word_tokenize(stem_body)\n",
        "    stem_body = [stemmer.stem(token) for token in stem_body]\n",
        "    self.stem_body = stem_body\n",
        "\n",
        "    super().__init__(document_id, authors, bibliography, title, body)\n",
        "    "
      ],
      "execution_count": null,
      "outputs": []
    },
    {
      "cell_type": "code",
      "metadata": {
        "id": "A8195MKTgTE8"
      },
      "source": [
        "documents = load_documents(Document)"
      ],
      "execution_count": null,
      "outputs": []
    },
    {
      "cell_type": "markdown",
      "metadata": {
        "id": "3NyssuO-Ivw1"
      },
      "source": [
        "### Queries"
      ]
    },
    {
      "cell_type": "code",
      "metadata": {
        "id": "KHXNf2i8gZ0o"
      },
      "source": [
        "class Query(CranfieldQueryBase):\n",
        "  \"\"\"\n",
        "  A preprocessed Cranfield collection query\n",
        "  \"\"\"\n",
        "\n",
        "  def __init__(self, query_id: int, body: str):\n",
        "    super().__init__(query_id, body)"
      ],
      "execution_count": null,
      "outputs": []
    },
    {
      "cell_type": "code",
      "metadata": {
        "id": "m-aYtXa0gafs"
      },
      "source": [
        "queries = load_queries(Query)"
      ],
      "execution_count": null,
      "outputs": []
    },
    {
      "cell_type": "markdown",
      "metadata": {
        "id": "5hx1CgXTmPwY"
      },
      "source": [
        "## 📜 Index construction"
      ]
    },
    {
      "cell_type": "markdown",
      "metadata": {
        "id": "g6-Ieubw6O5e"
      },
      "source": [
        "### Listing pairs (term, document)"
      ]
    },
    {
      "cell_type": "code",
      "metadata": {
        "id": "mfwh9F2_SyGM"
      },
      "source": [
        "def isStringNumber(token):\n",
        "  \"\"\" \n",
        "  Checks whether the passed string isn't actually a number.\n",
        "\n",
        "  Parameters\n",
        "  ----------\n",
        "  token: str\n",
        "    Token from body of document instance.\n",
        "\n",
        "  \"\"\"\n",
        "\n",
        "  try: \n",
        "    x = int(token) > 0\n",
        "    return(False)\n",
        "  except:\n",
        "    return(True)"
      ],
      "execution_count": null,
      "outputs": []
    },
    {
      "cell_type": "code",
      "metadata": {
        "id": "Horrghr7gepm"
      },
      "source": [
        "def buildPairs():\n",
        "  \"\"\" \n",
        "  Crawls every document instance and creates a tuples -> (token, document id).\n",
        "  It only does it so when token obeys certain conditions.\n",
        "  Passed tokens are stemmed.\n",
        "  Returns list of pairs.\n",
        "\n",
        "  \"\"\"\n",
        "    \n",
        "  pairs = []\n",
        "            \n",
        "  for key, value in documents.items(): \n",
        "    body = str(value.body)\n",
        "    tokens = nltk.word_tokenize(body)\n",
        "\n",
        "    for token in tokens:\n",
        "      cond1 = len(token) > 1\n",
        "      cond2 = token not in stopwords\n",
        "      cond3 = isStringNumber(token) == True\n",
        "\n",
        "      if cond1 and cond2 and cond3:   \n",
        "        token = stemmer.stem(token)\n",
        "        doc_id = key\n",
        "        pairs.append((token, doc_id))\n",
        "    \n",
        "  return(pairs)"
      ],
      "execution_count": null,
      "outputs": []
    },
    {
      "cell_type": "markdown",
      "metadata": {
        "id": "uH-us6fsMXhQ"
      },
      "source": [
        "### Unique pairs sorter"
      ]
    },
    {
      "cell_type": "code",
      "metadata": {
        "id": "M5r6IrQUTRv9"
      },
      "source": [
        "def uniq(sorted_list):\n",
        "  \"\"\" \n",
        "  Crawls every document instance and creates a tuples -> (token, document id).\n",
        "  It only does it so when token obeys certain conditions.\n",
        "  Passed tokens are stemmed.\n",
        "  Returns list of unique pairs (token, document id).\n",
        "  \n",
        "  Parameters\n",
        "  ----------\n",
        "  sorted_list: list\n",
        "    List of sorted tuples from buildPairs() functions \n",
        "\n",
        "  \"\"\"\n",
        "    \n",
        "  if len(sorted_list) <= 1:\n",
        "    return sorted_list\n",
        "\n",
        "  uniq_list = sorted_list[:1]\n",
        "  previous_value = sorted_list[0]\n",
        "\n",
        "  for value in sorted_list[1:]:\n",
        "    if value != previous_value:\n",
        "      uniq_list.append(value)\n",
        "      previous_value = value\n",
        "                \n",
        "  return uniq_list"
      ],
      "execution_count": null,
      "outputs": []
    },
    {
      "cell_type": "markdown",
      "metadata": {
        "id": "BIoETyE2MTdU"
      },
      "source": [
        "### Inverted index construction"
      ]
    },
    {
      "cell_type": "code",
      "metadata": {
        "id": "4Znw-klpgub_"
      },
      "source": [
        "def buildInvertedIndex(uniq_pairs):\n",
        "  \"\"\" \n",
        "  Creates inverted index using the list of unique pairs (token, document id).\n",
        "  Returns inverted index (dictionary)\n",
        "\n",
        "  Parameters\n",
        "  ----------\n",
        "  uniq_pairs: list\n",
        "    List of unique tuples -> (term, document id)\n",
        "\n",
        "  \"\"\"\n",
        "\n",
        "  inverted_index = {}\n",
        "\n",
        "  for term, document_id in pairs:\n",
        "    if term not in inverted_index:\n",
        "      inverted_index[term] = []\n",
        "\n",
        "    inverted_index[term].append(document_id)\n",
        "    \n",
        "  return inverted_index"
      ],
      "execution_count": null,
      "outputs": []
    },
    {
      "cell_type": "markdown",
      "metadata": {
        "id": "HpeYPhFgMJcJ"
      },
      "source": [
        "### Frequency index construction"
      ]
    },
    {
      "cell_type": "code",
      "metadata": {
        "id": "traubdKIhJoa"
      },
      "source": [
        "def buildFrequencyIndex():\n",
        "  \"\"\" \n",
        "  Creates frequency index (inverted index with term frequencies)\n",
        "  using inverted index as heuristics for crawling.\n",
        "  Returns frequency index (dictinoary).\n",
        "\n",
        "  \"\"\"\n",
        "\n",
        "  frequency_index = {}\n",
        "\n",
        "  for term, relevant_documents in inverted_index.items():\n",
        "    local_list = {}\n",
        "\n",
        "    for doc_id in relevant_documents:\n",
        "      stem_body = documents[doc_id].stem_body\n",
        "      frequency = stem_body.count(term)\n",
        "      local_list[doc_id] = frequency\n",
        "\n",
        "    frequency_index[term] = local_list\n",
        "\n",
        "  return frequency_index"
      ],
      "execution_count": null,
      "outputs": []
    },
    {
      "cell_type": "markdown",
      "metadata": {
        "id": "4qkRnGkRmdFq"
      },
      "source": [
        "### Documents length index construction"
      ]
    },
    {
      "cell_type": "code",
      "metadata": {
        "id": "CBTa2wuKjLK5"
      },
      "source": [
        "def buildDocumentsLengthIndex():\n",
        "  \"\"\" \n",
        "  Creates index containing information about documents lengths.\n",
        "  Returns documents length index (dictionary).\n",
        "\n",
        "  \"\"\"\n",
        "\n",
        "  documentsLengthIndex = {}\n",
        "\n",
        "  for key, value in documents.items():\n",
        "    count_of_words = len(nltk.word_tokenize(value.body))\n",
        "    documentsLengthIndex[key] = count_of_words\n",
        "    \n",
        "  return documentsLengthIndex"
      ],
      "execution_count": null,
      "outputs": []
    },
    {
      "cell_type": "markdown",
      "metadata": {
        "id": "TaRNnCtBn1ol"
      },
      "source": [
        "## 🧮 Dataframe for ranking results"
      ]
    },
    {
      "cell_type": "code",
      "metadata": {
        "id": "WhIE8xlIn1vI"
      },
      "source": [
        "def buildRankingDf():\n",
        "  \"\"\" \n",
        "  Prepares dataframe (table) with document instances loaded.\n",
        "  Ranking and sorting will be happening within this structure once called.\n",
        "  Returns dataframe.\n",
        "\n",
        "  \"\"\"\n",
        "\n",
        "  id_as_list = [key for key, value in documents.items()]\n",
        "  text_as_list = [value for key, value in documents.items()]\n",
        "\n",
        "  df = pd.DataFrame({\"Numbers\":  id_as_list, \"Values\": text_as_list, \"Rank\": 0, \"Matches\": \"\" }) \n",
        "  df = df.set_index(\"Numbers\")\n",
        "\n",
        "  return df"
      ],
      "execution_count": null,
      "outputs": []
    },
    {
      "cell_type": "markdown",
      "metadata": {
        "id": "5eC8gGBiniEh"
      },
      "source": [
        "## 🧹 Query cleaning"
      ]
    },
    {
      "cell_type": "code",
      "metadata": {
        "id": "RLAvDHg6njtZ"
      },
      "source": [
        "def cleanQuery(query):\n",
        "  \"\"\" \n",
        "  Cleans passed query's body.\n",
        "  Tokenization, stemming, stopwords and (words< 1) removed.\n",
        "  Returns clean query body (array).\n",
        "\n",
        "  \"\"\" \n",
        "            \n",
        "  query = query.body\n",
        "  query = nltk.word_tokenize(query)\n",
        "  query = [stemmer.stem(token) for token in query]\n",
        "  query = [token for token in query if len(token) > 1 if token not in stopwords]\n",
        "\n",
        "  return query"
      ],
      "execution_count": null,
      "outputs": []
    },
    {
      "cell_type": "markdown",
      "metadata": {
        "id": "mt7lvy9JNDDZ"
      },
      "source": [
        "## 💯 Ranking mechanism"
      ]
    },
    {
      "cell_type": "code",
      "metadata": {
        "id": "_x45IlUunrlf"
      },
      "source": [
        "def rank(query):\n",
        "  \"\"\" \n",
        "  For every token in query ranks documents in dataframe based on the TF-IDF mechanism\n",
        "  Also adds a point for every matched terms in document (no matter the frequency).\n",
        "  Also adds a point for every matched terms in docuemnt title.\n",
        "  Saves the matched terms\n",
        "\n",
        "  \"\"\"\n",
        "\n",
        "  global ranking_df\n",
        "  ranking_df[\"Rank\"] = 0.0\n",
        "  ranking_df[\"Matches\"] = \"\"\n",
        "\n",
        "\n",
        "  for term in query:\n",
        "    if term in frequency_index:     \n",
        "      for doc_id in frequency_index[term]:\n",
        "\n",
        "        # TF-IFD scoring (+ 1 point)\n",
        "        tf = frequency_index[term][str(doc_id)] / documentsLengthIndex[str(doc_id)]\n",
        "        idf = math.log(len(documents) / len(frequency_index[term]),2)\n",
        "        score = tf * idf\n",
        "        ranking_df.at[doc_id, \"Rank\"] += 1 + score\n",
        "\n",
        "        # Additional points for term in title\n",
        "        if term in documents[doc_id].title:\n",
        "          ranking_df.at[doc_id, \"Rank\"] += 1\n",
        "\n",
        "        # Adding found terms to dataframe\n",
        "        ranking_df.at[doc_id, \"Matches\"] = ranking_df.at[doc_id, \"Matches\"] + \" \" + term + \"-\" + str(frequency_index[term][str(doc_id)])\n",
        "\n",
        "\n",
        "\n",
        "  ranking_df = ranking_df.sort_values(\"Rank\", ascending = False)\n",
        "  sorted_documents = ranking_df[\"Values\"].tolist()\n",
        "\n",
        "  return sorted_documents"
      ],
      "execution_count": null,
      "outputs": []
    },
    {
      "cell_type": "markdown",
      "metadata": {
        "id": "jjS0oNICxmFV"
      },
      "source": [
        "## 🦸‍♂️ Functions, assemble!\n",
        "\n"
      ]
    },
    {
      "cell_type": "code",
      "metadata": {
        "id": "g3nPCaY6wqDF"
      },
      "source": [
        "pairs = buildPairs()\n",
        "uniq_pairs = uniq(sorted(pairs, key=lambda x: (x[0].lower(), x[1])))\n",
        "inverted_index = buildInvertedIndex(uniq_pairs)\n",
        "frequency_index = buildFrequencyIndex()\n",
        "documentsLengthIndex = buildDocumentsLengthIndex()\n",
        "ranking_df = buildRankingDf()"
      ],
      "execution_count": null,
      "outputs": []
    },
    {
      "cell_type": "code",
      "metadata": {
        "colab": {
          "base_uri": "https://localhost:8080/"
        },
        "id": "A7N_kxP3_lar",
        "outputId": "48578279-77ac-4606-eecd-905d22e52fd7"
      },
      "source": [
        "# Pairs Showcase\n",
        "print(f\"Pairs: \\n {pairs[2000:2010]} \\n\")"
      ],
      "execution_count": null,
      "outputs": [
        {
          "output_type": "stream",
          "text": [
            "Pairs: \n",
            " [('theori', '25'), ('except', '25'), ('near', '25'), ('hemisphere-cylind', '25'), ('junction', '25'), ('energi', '25'), ('consider', '25'), ('combin', '25'), ('detail', '25'), ('studi', '25')] \n",
            "\n"
          ],
          "name": "stdout"
        }
      ]
    },
    {
      "cell_type": "code",
      "metadata": {
        "colab": {
          "base_uri": "https://localhost:8080/"
        },
        "id": "2aV4cOEjAANq",
        "outputId": "d1b660a7-acba-4976-c26a-08870db38193"
      },
      "source": [
        "# Unique Pairs Showcase\n",
        "print(f\"Unique Pairs: \\n {uniq_pairs[2000:2010]} \\n\")"
      ],
      "execution_count": null,
      "outputs": [
        {
          "output_type": "stream",
          "text": [
            "Unique Pairs: \n",
            " [('account', '697'), ('account', '714'), ('account', '72'), ('account', '737'), ('account', '766'), ('account', '78'), ('account', '786'), ('account', '807'), ('account', '818'), ('account', '820')] \n",
            "\n"
          ],
          "name": "stdout"
        }
      ]
    },
    {
      "cell_type": "code",
      "metadata": {
        "colab": {
          "base_uri": "https://localhost:8080/"
        },
        "id": "w0yu3iUUAAFt",
        "outputId": "8986501b-1b68-4fe4-e6df-d8738af9c711"
      },
      "source": [
        "# Inverted Index Showcase\n",
        "\n",
        "print(\"Inverted Index: \\n Whirl:{} \\n\".format(inverted_index[\"whirl\"]))"
      ],
      "execution_count": null,
      "outputs": [
        {
          "output_type": "stream",
          "text": [
            "Inverted Index: \n",
            " Whirl:['42', '42', '183', '989'] \n",
            "\n"
          ],
          "name": "stdout"
        }
      ]
    },
    {
      "cell_type": "code",
      "metadata": {
        "colab": {
          "base_uri": "https://localhost:8080/"
        },
        "id": "-HVyQzJlBiKA",
        "outputId": "19905ae7-d1fb-4368-94f9-2556d2517629"
      },
      "source": [
        "# Frequency Index Showcase\n",
        "\n",
        "print(\"Frequency Index: \\n Whirl:{} \\n\".format(frequency_index[\"whirl\"]))"
      ],
      "execution_count": null,
      "outputs": [
        {
          "output_type": "stream",
          "text": [
            "Frequency Index: \n",
            " Whirl:{'42': 2, '183': 1, '989': 1} \n",
            "\n"
          ],
          "name": "stdout"
        }
      ]
    },
    {
      "cell_type": "code",
      "metadata": {
        "colab": {
          "base_uri": "https://localhost:8080/"
        },
        "id": "y8yPdZ3ACBir",
        "outputId": "29e96fc6-85cc-4f0f-da46-68c740be53a1"
      },
      "source": [
        "# Documents Length Index Showcase\n",
        "\n",
        "print(\"Documents Length Index: \\n {} \\n\".format({k:documentsLengthIndex[k] for k in documentsLengthIndex if k in documentsLengthIndex}))"
      ],
      "execution_count": null,
      "outputs": [
        {
          "output_type": "stream",
          "text": [
            "Documents Length Index: \n",
            " {'1': 147, '2': 206, '3': 26, '4': 80, '5': 57, '6': 112, '7': 250, '8': 173, '9': 347, '10': 54, '11': 111, '12': 131, '13': 147, '14': 390, '15': 147, '16': 147, '17': 148, '18': 141, '19': 70, '20': 179, '21': 62, '22': 98, '23': 143, '24': 281, '25': 395, '26': 61, '27': 146, '28': 168, '29': 257, '30': 119, '31': 37, '32': 187, '33': 277, '34': 184, '35': 162, '36': 149, '37': 178, '38': 85, '39': 164, '40': 177, '41': 73, '42': 296, '43': 152, '44': 304, '45': 176, '46': 91, '47': 210, '48': 124, '49': 416, '50': 161, '51': 211, '52': 188, '53': 224, '54': 222, '55': 150, '56': 224, '57': 186, '58': 186, '59': 257, '60': 144, '61': 138, '62': 309, '63': 139, '64': 158, '65': 87, '66': 178, '67': 91, '68': 117, '69': 138, '70': 209, '71': 84, '72': 267, '73': 358, '74': 89, '75': 119, '76': 204, '77': 369, '78': 214, '79': 179, '80': 310, '81': 120, '82': 338, '83': 331, '84': 185, '85': 304, '86': 121, '87': 121, '88': 152, '89': 462, '90': 111, '91': 162, '92': 203, '93': 94, '94': 492, '95': 126, '96': 275, '97': 257, '98': 73, '99': 321, '100': 255, '101': 349, '102': 83, '103': 138, '104': 132, '105': 188, '106': 71, '107': 93, '108': 114, '109': 181, '110': 372, '111': 115, '112': 151, '113': 118, '114': 207, '115': 206, '116': 176, '117': 142, '118': 171, '119': 78, '120': 111, '121': 148, '122': 235, '123': 249, '124': 225, '125': 232, '126': 127, '127': 135, '128': 165, '129': 267, '130': 94, '131': 384, '132': 372, '133': 223, '134': 210, '135': 198, '136': 95, '137': 48, '138': 248, '139': 159, '140': 383, '141': 99, '142': 109, '143': 65, '144': 146, '145': 141, '146': 257, '147': 178, '148': 170, '149': 302, '150': 199, '151': 323, '152': 210, '153': 68, '154': 94, '155': 281, '156': 289, '157': 266, '158': 148, '159': 116, '160': 396, '161': 69, '162': 216, '163': 419, '164': 316, '165': 391, '166': 203, '167': 132, '168': 265, '169': 140, '170': 270, '171': 182, '172': 241, '173': 325, '174': 294, '175': 76, '176': 117, '177': 232, '178': 73, '179': 277, '180': 68, '181': 51, '182': 120, '183': 155, '184': 155, '185': 323, '186': 194, '187': 287, '188': 246, '189': 374, '190': 186, '191': 226, '192': 218, '193': 415, '194': 68, '195': 175, '196': 189, '197': 285, '198': 293, '199': 376, '200': 133, '201': 196, '202': 337, '203': 70, '204': 188, '205': 269, '206': 331, '207': 217, '208': 127, '209': 260, '210': 353, '211': 220, '212': 375, '213': 287, '214': 144, '215': 76, '216': 291, '217': 128, '218': 286, '219': 242, '220': 155, '221': 169, '222': 209, '223': 44, '224': 69, '225': 394, '226': 76, '227': 166, '228': 117, '229': 237, '230': 233, '231': 104, '232': 242, '233': 120, '234': 329, '235': 151, '236': 182, '237': 148, '238': 41, '239': 185, '240': 102, '241': 76, '242': 71, '243': 116, '244': 513, '245': 167, '246': 157, '247': 199, '248': 127, '249': 172, '250': 57, '251': 101, '252': 270, '253': 172, '254': 64, '255': 231, '256': 130, '257': 233, '258': 67, '259': 186, '260': 122, '261': 164, '262': 479, '263': 160, '264': 59, '265': 88, '266': 274, '267': 210, '268': 122, '269': 120, '270': 232, '271': 44, '272': 467, '273': 115, '274': 264, '275': 124, '276': 226, '277': 267, '278': 146, '279': 112, '280': 149, '281': 48, '282': 249, '283': 194, '284': 102, '285': 63, '286': 36, '287': 150, '288': 199, '289': 252, '290': 135, '291': 65, '292': 269, '293': 139, '294': 287, '295': 111, '296': 258, '297': 150, '298': 57, '299': 146, '300': 271, '301': 59, '302': 150, '303': 80, '304': 298, '305': 157, '306': 160, '307': 150, '308': 180, '309': 200, '310': 166, '311': 195, '312': 76, '313': 70, '314': 183, '315': 511, '316': 109, '317': 224, '318': 149, '319': 127, '320': 26, '321': 102, '322': 54, '323': 81, '324': 73, '325': 265, '326': 49, '327': 90, '328': 288, '329': 675, '330': 109, '331': 90, '332': 206, '333': 66, '334': 250, '335': 93, '336': 82, '337': 91, '338': 150, '339': 54, '340': 70, '341': 254, '342': 244, '343': 106, '344': 414, '345': 155, '346': 196, '347': 128, '348': 146, '349': 231, '350': 89, '351': 124, '352': 211, '353': 171, '354': 134, '355': 95, '356': 92, '357': 185, '358': 91, '359': 111, '360': 153, '361': 80, '362': 69, '363': 264, '364': 385, '365': 186, '366': 181, '367': 115, '368': 153, '369': 246, '370': 197, '371': 159, '372': 108, '373': 352, '374': 112, '375': 274, '376': 99, '377': 157, '378': 80, '379': 150, '380': 127, '381': 264, '382': 43, '383': 129, '384': 62, '385': 61, '386': 94, '387': 65, '388': 174, '389': 67, '390': 126, '391': 125, '392': 92, '393': 59, '394': 67, '395': 255, '396': 74, '397': 122, '398': 56, '399': 55, '400': 70, '401': 344, '402': 123, '403': 120, '404': 186, '405': 33, '406': 240, '407': 71, '408': 75, '409': 100, '410': 183, '411': 93, '412': 112, '413': 139, '414': 224, '415': 117, '416': 271, '417': 514, '418': 63, '419': 128, '420': 157, '421': 169, '422': 123, '423': 322, '424': 99, '425': 119, '426': 159, '427': 255, '428': 179, '429': 48, '430': 62, '431': 165, '432': 209, '433': 401, '434': 246, '435': 194, '436': 63, '437': 80, '438': 68, '439': 189, '440': 101, '441': 283, '442': 228, '443': 226, '444': 102, '445': 103, '446': 145, '447': 133, '448': 151, '449': 101, '450': 80, '451': 76, '452': 375, '453': 224, '454': 201, '455': 221, '456': 277, '457': 133, '458': 249, '459': 292, '460': 115, '461': 106, '462': 141, '463': 113, '464': 184, '465': 110, '466': 245, '467': 201, '468': 119, '469': 109, '470': 116, '471': 0, '472': 126, '473': 133, '474': 176, '475': 122, '476': 240, '477': 153, '478': 112, '479': 196, '480': 102, '481': 105, '482': 70, '483': 41, '484': 291, '485': 47, '486': 248, '487': 125, '488': 139, '489': 146, '490': 94, '491': 130, '492': 60, '493': 301, '494': 157, '495': 111, '496': 122, '497': 156, '498': 171, '499': 429, '500': 113, '501': 58, '502': 51, '503': 108, '504': 211, '505': 90, '506': 130, '507': 30, '508': 138, '509': 60, '510': 74, '511': 171, '512': 67, '513': 109, '514': 103, '515': 137, '516': 100, '517': 83, '518': 216, '519': 168, '520': 232, '521': 162, '522': 393, '523': 195, '524': 67, '525': 117, '526': 114, '527': 100, '528': 147, '529': 306, '530': 130, '531': 146, '532': 54, '533': 40, '534': 85, '535': 123, '536': 323, '537': 81, '538': 180, '539': 77, '540': 213, '541': 206, '542': 209, '543': 88, '544': 101, '545': 97, '546': 140, '547': 132, '548': 350, '549': 76, '550': 122, '551': 50, '552': 226, '553': 185, '554': 152, '555': 171, '556': 180, '557': 140, '558': 126, '559': 97, '560': 248, '561': 239, '562': 232, '563': 289, '564': 264, '565': 227, '566': 183, '567': 181, '568': 129, '569': 270, '570': 90, '571': 226, '572': 396, '573': 165, '574': 194, '575': 281, '576': 446, '577': 94, '578': 62, '579': 205, '580': 155, '581': 93, '582': 94, '583': 152, '584': 144, '585': 118, '586': 104, '587': 116, '588': 294, '589': 242, '590': 65, '591': 63, '592': 79, '593': 194, '594': 64, '595': 236, '596': 116, '597': 84, '598': 61, '599': 282, '600': 193, '601': 257, '602': 152, '603': 231, '604': 147, '605': 162, '606': 170, '607': 50, '608': 138, '609': 73, '610': 156, '611': 175, '612': 110, '613': 141, '614': 223, '615': 109, '616': 144, '617': 96, '618': 148, '619': 44, '620': 254, '621': 122, '622': 236, '623': 231, '624': 232, '625': 330, '626': 186, '627': 148, '628': 225, '629': 128, '630': 150, '631': 75, '632': 82, '633': 102, '634': 140, '635': 190, '636': 232, '637': 112, '638': 227, '639': 92, '640': 368, '641': 132, '642': 82, '643': 128, '644': 190, '645': 152, '646': 264, '647': 79, '648': 107, '649': 275, '650': 68, '651': 193, '652': 90, '653': 150, '654': 122, '655': 96, '656': 259, '657': 112, '658': 273, '659': 146, '660': 328, '661': 213, '662': 350, '663': 135, '664': 76, '665': 140, '666': 156, '667': 249, '668': 114, '669': 96, '670': 43, '671': 135, '672': 83, '673': 419, '674': 123, '675': 276, '676': 88, '677': 298, '678': 103, '679': 188, '680': 143, '681': 128, '682': 200, '683': 279, '684': 70, '685': 310, '686': 231, '687': 88, '688': 259, '689': 260, '690': 128, '691': 128, '692': 224, '693': 192, '694': 176, '695': 377, '696': 294, '697': 172, '698': 167, '699': 221, '700': 112, '701': 263, '702': 174, '703': 92, '704': 344, '705': 228, '706': 102, '707': 238, '708': 69, '709': 207, '710': 274, '711': 146, '712': 305, '713': 164, '714': 122, '715': 121, '716': 99, '717': 348, '718': 167, '719': 170, '720': 185, '721': 521, '722': 183, '723': 144, '724': 157, '725': 105, '726': 123, '727': 200, '728': 64, '729': 152, '730': 277, '731': 290, '732': 207, '733': 205, '734': 234, '735': 54, '736': 95, '737': 103, '738': 163, '739': 337, '740': 233, '741': 98, '742': 107, '743': 129, '744': 135, '745': 72, '746': 146, '747': 135, '748': 178, '749': 170, '750': 90, '751': 68, '752': 110, '753': 232, '754': 169, '755': 134, '756': 173, '757': 350, '758': 130, '759': 221, '760': 176, '761': 81, '762': 168, '763': 99, '764': 159, '765': 149, '766': 264, '767': 288, '768': 88, '769': 90, '770': 145, '771': 124, '772': 108, '773': 295, '774': 59, '775': 101, '776': 67, '777': 175, '778': 68, '779': 211, '780': 116, '781': 220, '782': 231, '783': 141, '784': 200, '785': 165, '786': 236, '787': 184, '788': 235, '789': 96, '790': 211, '791': 94, '792': 457, '793': 152, '794': 309, '795': 57, '796': 195, '797': 346, '798': 686, '799': 247, '800': 165, '801': 215, '802': 139, '803': 142, '804': 167, '805': 229, '806': 273, '807': 110, '808': 188, '809': 125, '810': 205, '811': 344, '812': 183, '813': 136, '814': 209, '815': 247, '816': 169, '817': 88, '818': 130, '819': 108, '820': 271, '821': 77, '822': 233, '823': 112, '824': 178, '825': 245, '826': 362, '827': 358, '828': 248, '829': 176, '830': 196, '831': 98, '832': 48, '833': 89, '834': 52, '835': 64, '836': 135, '837': 227, '838': 80, '839': 168, '840': 91, '841': 69, '842': 68, '843': 172, '844': 234, '845': 243, '846': 234, '847': 103, '848': 74, '849': 105, '850': 79, '851': 134, '852': 155, '853': 51, '854': 42, '855': 68, '856': 261, '857': 237, '858': 200, '859': 256, '860': 117, '861': 111, '862': 61, '863': 102, '864': 48, '865': 133, '866': 112, '867': 153, '868': 96, '869': 316, '870': 133, '871': 67, '872': 211, '873': 165, '874': 332, '875': 44, '876': 185, '877': 69, '878': 96, '879': 39, '880': 72, '881': 160, '882': 57, '883': 120, '884': 71, '885': 85, '886': 72, '887': 108, '888': 112, '889': 298, '890': 152, '891': 181, '892': 87, '893': 127, '894': 232, '895': 111, '896': 108, '897': 111, '898': 54, '899': 177, '900': 89, '901': 134, '902': 245, '903': 263, '904': 182, '905': 89, '906': 65, '907': 219, '908': 199, '909': 75, '910': 47, '911': 110, '912': 166, '913': 119, '914': 202, '915': 86, '916': 178, '917': 351, '918': 111, '919': 157, '920': 46, '921': 192, '922': 126, '923': 168, '924': 205, '925': 62, '926': 132, '927': 458, '928': 460, '929': 176, '930': 144, '931': 65, '932': 70, '933': 313, '934': 239, '935': 68, '936': 155, '937': 134, '938': 66, '939': 115, '940': 102, '941': 102, '942': 141, '943': 160, '944': 126, '945': 101, '946': 338, '947': 322, '948': 187, '949': 131, '950': 98, '951': 109, '952': 117, '953': 61, '954': 88, '955': 85, '956': 125, '957': 100, '958': 109, '959': 194, '960': 156, '961': 167, '962': 469, '963': 52, '964': 153, '965': 89, '966': 270, '967': 151, '968': 168, '969': 101, '970': 182, '971': 149, '972': 190, '973': 97, '974': 216, '975': 200, '976': 423, '977': 260, '978': 73, '979': 140, '980': 210, '981': 115, '982': 173, '983': 91, '984': 132, '985': 149, '986': 297, '987': 257, '988': 91, '989': 204, '990': 184, '991': 258, '992': 347, '993': 220, '994': 185, '995': 0, '996': 297, '997': 201, '998': 142, '999': 237, '1000': 208, '1001': 134, '1002': 184, '1003': 154, '1004': 142, '1005': 123, '1006': 91, '1007': 190, '1008': 89, '1009': 166, '1010': 152, '1011': 70, '1012': 143, '1013': 128, '1014': 60, '1015': 159, '1016': 87, '1017': 161, '1018': 135, '1019': 259, '1020': 132, '1021': 65, '1022': 70, '1023': 73, '1024': 208, '1025': 215, '1026': 63, '1027': 106, '1028': 199, '1029': 74, '1030': 52, '1031': 121, '1032': 115, '1033': 111, '1034': 211, '1035': 291, '1036': 113, '1037': 92, '1038': 116, '1039': 305, '1040': 557, '1041': 122, '1042': 89, '1043': 182, '1044': 148, '1045': 26, '1046': 85, '1047': 445, '1048': 49, '1049': 78, '1050': 75, '1051': 212, '1052': 112, '1053': 180, '1054': 110, '1055': 115, '1056': 236, '1057': 150, '1058': 92, '1059': 230, '1060': 56, '1061': 325, '1062': 102, '1063': 80, '1064': 185, '1065': 138, '1066': 356, '1067': 60, '1068': 146, '1069': 62, '1070': 99, '1071': 102, '1072': 415, '1073': 60, '1074': 164, '1075': 220, '1076': 101, '1077': 154, '1078': 154, '1079': 101, '1080': 130, '1081': 120, '1082': 305, '1083': 77, '1084': 55, '1085': 82, '1086': 78, '1087': 126, '1088': 206, '1089': 130, '1090': 63, '1091': 118, '1092': 291, '1093': 104, '1094': 175, '1095': 207, '1096': 94, '1097': 246, '1098': 167, '1099': 74, '1100': 125, '1101': 94, '1102': 53, '1103': 89, '1104': 317, '1105': 120, '1106': 149, '1107': 227, '1108': 274, '1109': 138, '1110': 198, '1111': 55, '1112': 141, '1113': 179, '1114': 211, '1115': 187, '1116': 82, '1117': 142, '1118': 88, '1119': 306, '1120': 93, '1121': 129, '1122': 213, '1123': 102, '1124': 92, '1125': 176, '1126': 99, '1127': 223, '1128': 136, '1129': 132, '1130': 136, '1131': 126, '1132': 95, '1133': 72, '1134': 300, '1135': 124, '1136': 197, '1137': 268, '1138': 69, '1139': 119, '1140': 50, '1141': 70, '1142': 63, '1143': 132, '1144': 336, '1145': 101, '1146': 43, '1147': 482, '1148': 83, '1149': 218, '1150': 94, '1151': 147, '1152': 39, '1153': 165, '1154': 259, '1155': 130, '1156': 198, '1157': 206, '1158': 78, '1159': 116, '1160': 123, '1161': 117, '1162': 145, '1163': 185, '1164': 280, '1165': 181, '1166': 216, '1167': 201, '1168': 129, '1169': 172, '1170': 108, '1171': 78, '1172': 187, '1173': 160, '1174': 92, '1175': 307, '1176': 45, '1177': 113, '1178': 116, '1179': 226, '1180': 174, '1181': 154, '1182': 232, '1183': 143, '1184': 228, '1185': 155, '1186': 134, '1187': 121, '1188': 172, '1189': 117, '1190': 125, '1191': 140, '1192': 130, '1193': 157, '1194': 172, '1195': 275, '1196': 114, '1197': 156, '1198': 285, '1199': 260, '1200': 168, '1201': 635, '1202': 300, '1203': 223, '1204': 336, '1205': 227, '1206': 134, '1207': 191, '1208': 118, '1209': 289, '1210': 131, '1211': 140, '1212': 267, '1213': 240, '1214': 189, '1215': 132, '1216': 217, '1217': 127, '1218': 281, '1219': 133, '1220': 232, '1221': 106, '1222': 194, '1223': 99, '1224': 263, '1225': 287, '1226': 285, '1227': 86, '1228': 121, '1229': 303, '1230': 189, '1231': 187, '1232': 115, '1233': 116, '1234': 83, '1235': 305, '1236': 98, '1237': 122, '1238': 178, '1239': 442, '1240': 201, '1241': 170, '1242': 258, '1243': 114, '1244': 444, '1245': 176, '1246': 272, '1247': 169, '1248': 391, '1249': 77, '1250': 268, '1251': 214, '1252': 231, '1253': 91, '1254': 131, '1255': 186, '1256': 70, '1257': 151, '1258': 197, '1259': 163, '1260': 117, '1261': 275, '1262': 126, '1263': 300, '1264': 220, '1265': 188, '1266': 55, '1267': 67, '1268': 376, '1269': 73, '1270': 143, '1271': 324, '1272': 100, '1273': 176, '1274': 245, '1275': 107, '1276': 50, '1277': 283, '1278': 194, '1279': 179, '1280': 269, '1281': 227, '1282': 172, '1283': 82, '1284': 168, '1285': 60, '1286': 104, '1287': 110, '1288': 123, '1289': 256, '1290': 209, '1291': 278, '1292': 271, '1293': 55, '1294': 193, '1295': 167, '1296': 191, '1297': 135, '1298': 126, '1299': 76, '1300': 299, '1301': 193, '1302': 215, '1303': 249, '1304': 171, '1305': 76, '1306': 51, '1307': 268, '1308': 100, '1309': 236, '1310': 304, '1311': 70, '1312': 114, '1313': 698, '1314': 77, '1315': 158, '1316': 248, '1317': 45, '1318': 83, '1319': 251, '1320': 232, '1321': 271, '1322': 260, '1323': 114, '1324': 167, '1325': 350, '1326': 155, '1327': 175, '1328': 235, '1329': 178, '1330': 226, '1331': 91, '1332': 134, '1333': 280, '1334': 152, '1335': 223, '1336': 203, '1337': 171, '1338': 191, '1339': 216, '1340': 114, '1341': 216, '1342': 304, '1343': 281, '1344': 213, '1345': 135, '1346': 134, '1347': 251, '1348': 80, '1349': 201, '1350': 121, '1351': 301, '1352': 255, '1353': 138, '1354': 163, '1355': 214, '1356': 315, '1357': 49, '1358': 41, '1359': 73, '1360': 134, '1361': 156, '1362': 154, '1363': 168, '1364': 225, '1365': 169, '1366': 199, '1367': 78, '1368': 90, '1369': 80, '1370': 255, '1371': 192, '1372': 201, '1373': 320, '1374': 140, '1375': 336, '1376': 86, '1377': 109, '1378': 89, '1379': 116, '1380': 333, '1381': 296, '1382': 332, '1383': 237, '1384': 170, '1385': 191, '1386': 236, '1387': 247, '1388': 96, '1389': 154, '1390': 182, '1391': 229, '1392': 331, '1393': 190, '1394': 132, '1395': 68, '1396': 114, '1397': 84, '1398': 221, '1399': 101, '1400': 106} \n",
            "\n"
          ],
          "name": "stdout"
        }
      ]
    },
    {
      "cell_type": "code",
      "metadata": {
        "colab": {
          "base_uri": "https://localhost:8080/"
        },
        "id": "ZzrRXIHaCzew",
        "outputId": "81323fcb-3b32-477d-faed-5275d5536b39"
      },
      "source": [
        "# Ranking DataFrame Showcase\n",
        "\n",
        "print(\"Ranking DataFrame: \\n {} \\n\".format(ranking_df))"
      ],
      "execution_count": null,
      "outputs": [
        {
          "output_type": "stream",
          "text": [
            "Ranking DataFrame: \n",
            "                                                     Values  Rank Matches\n",
            "Numbers                                                                 \n",
            "1        <Document 1 “experimental investigation of the...     0        \n",
            "2        <Document 2 “simple shear flow past a flat pla...     0        \n",
            "3        <Document 3 “the boundary layer in simple shea...     0        \n",
            "4        <Document 4 “approximate solutions of the inco...     0        \n",
            "5        <Document 5 “one-dimensional transient heat co...     0        \n",
            "...                                                    ...   ...     ...\n",
            "1396     <Document 1396 “shear buckling of clamped and ...     0        \n",
            "1397     <Document 1397 “critical shear stress of an in...     0        \n",
            "1398     <Document 1398 “stability of rectangular plate...     0        \n",
            "1399     <Document 1399 “buckling of transverse stiffen...     0        \n",
            "1400     <Document 1400 “the buckling shear stress of s...     0        \n",
            "\n",
            "[1400 rows x 3 columns] \n",
            "\n"
          ],
          "name": "stdout"
        }
      ]
    },
    {
      "cell_type": "markdown",
      "metadata": {
        "id": "RNgTAZRdyTuU"
      },
      "source": [
        "## 🚧 IR System evaluation\n",
        "\n"
      ]
    },
    {
      "cell_type": "code",
      "metadata": {
        "id": "UYO-dovYyVKa"
      },
      "source": [
        "class IRSystem(CranfieldIRSystemBase):\n",
        "  \"\"\"\n",
        "    Implementation of information retrieval system.\n",
        "  \n",
        "  \"\"\"\n",
        "\n",
        "  def __init__(self, print_matrix):\n",
        "    self.documents = documents\n",
        "    self.print_matrix = print_matrix\n",
        "\n",
        "  def search(self, query: Query):\n",
        "    query = cleanQuery(query)\n",
        "    sorted_documents = rank(query)\n",
        "\n",
        "    if self.print_matrix == True:\n",
        "      print(\"Query: \",query)\n",
        "      print(ranking_df.head(20))\n",
        "        \n",
        "    return(sorted_documents)"
      ],
      "execution_count": null,
      "outputs": []
    },
    {
      "cell_type": "code",
      "metadata": {
        "colab": {
          "base_uri": "https://localhost:8080/",
          "height": 92,
          "referenced_widgets": [
            "fb5103be8d1248dea73b4ae2aca173db",
            "615fe6cea2c44f0db33c95f9b6faac9e",
            "ec4b60b52885434f9f82ff79de2c1f97",
            "67701a0eaaab490f9bcd4eff9fd353c3",
            "72223cda2f7a4a69b8bb2220e0671799",
            "8a60f476c08245d3a3ac25632edbff55",
            "458da016978e461a88ab51febe8756fc",
            "e63895e465e1429e92e100a325c7a917"
          ]
        },
        "id": "-MwyqF0I-a0O",
        "outputId": "b8575290-4034-4b36-cf44-62f5d2b7f96c"
      },
      "source": [
        "submit_result = True\n",
        "author_name = \"Hospodka, Adam\"\n",
        "\n",
        "system = IRSystem(print_matrix = False)\n",
        "\n",
        "print('Initializing your system ...', end='', flush=True)\n",
        "evaluation = CranfieldEvaluation(system, load_judgements(queries, documents), CranfieldLeaderboard(), author_name)\n",
        "print(end='\\r', flush=True)\n",
        "evaluation.evaluate(tqdm(queries.values(), desc=\"Querying your system, brother\", leave=False), submit_result)"
      ],
      "execution_count": null,
      "outputs": [
        {
          "output_type": "stream",
          "text": [
            ""
          ],
          "name": "stdout"
        },
        {
          "output_type": "display_data",
          "data": {
            "application/vnd.jupyter.widget-view+json": {
              "model_id": "fb5103be8d1248dea73b4ae2aca173db",
              "version_minor": 0,
              "version_major": 2
            },
            "text/plain": [
              "HBox(children=(FloatProgress(value=0.0, description='Querying your system, brother', max=225.0, style=Progress…"
            ]
          },
          "metadata": {
            "tags": []
          }
        },
        {
          "output_type": "stream",
          "text": [
            "\r"
          ],
          "name": "stdout"
        },
        {
          "output_type": "display_data",
          "data": {
            "text/markdown": "Your system achieved **37.46% MAP score**.",
            "text/plain": [
              "<IPython.core.display.Markdown object>"
            ]
          },
          "metadata": {
            "tags": []
          }
        },
        {
          "output_type": "display_data",
          "data": {
            "text/markdown": "Congratulations, you passed the **35%** minimum! 🥳",
            "text/plain": [
              "<IPython.core.display.Markdown object>"
            ]
          },
          "metadata": {
            "tags": []
          }
        },
        {
          "output_type": "display_data",
          "data": {
            "text/markdown": "Your result has been submitted to [the leaderboard](https://docs.google.com/spreadsheets/d/e/2PACX-1vRRR4eDkQIWx5FSU08Uj5DciWwxNfHJeLruNR1T0WW9xmSsYl457Zqv5SlA1jfvsYHpsaUw_8P3z1OF/pubhtml)! 🏆",
            "text/plain": [
              "<IPython.core.display.Markdown object>"
            ]
          },
          "metadata": {
            "tags": []
          }
        }
      ]
    },
    {
      "cell_type": "code",
      "metadata": {
        "id": "n8GYseI-6H3i"
      },
      "source": [
        ""
      ],
      "execution_count": null,
      "outputs": []
    }
  ]
}